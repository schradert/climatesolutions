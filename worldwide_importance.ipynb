{
 "metadata": {
  "language_info": {
   "codemirror_mode": {
    "name": "ipython",
    "version": 3
   },
   "file_extension": ".py",
   "mimetype": "text/x-python",
   "name": "python",
   "nbconvert_exporter": "python",
   "pygments_lexer": "ipython3",
   "version": "3.7.9-final"
  },
  "orig_nbformat": 2,
  "kernelspec": {
   "name": "python3",
   "display_name": "Python 3"
  }
 },
 "nbformat": 4,
 "nbformat_minor": 2,
 "cells": [
  {
   "cell_type": "code",
   "execution_count": 2,
   "metadata": {},
   "outputs": [
    {
     "output_type": "display_data",
     "data": {
      "text/html": "        <script type=\"text/javascript\">\n        window.PlotlyConfig = {MathJaxConfig: 'local'};\n        if (window.MathJax) {MathJax.Hub.Config({SVG: {font: \"STIX-Web\"}});}\n        if (typeof require !== 'undefined') {\n        require.undef(\"plotly\");\n        requirejs.config({\n            paths: {\n                'plotly': ['https://cdn.plot.ly/plotly-latest.min']\n            }\n        });\n        require(['plotly'], function(Plotly) {\n            window._Plotly = Plotly;\n        });\n        }\n        </script>\n        "
     },
     "metadata": {}
    }
   ],
   "source": [
    "import os\n",
    "import re\n",
    "import json \n",
    "\n",
    "import pandas as pd \n",
    "import numpy as np \n",
    "\n",
    "import matplotlib.pyplot as plt \n",
    "from matplotlib import colors\n",
    "import seaborn as sns \n",
    "import plotly.graph_objects as go \n",
    "import plotly.express as px \n",
    "from plotly.offline import init_notebook_mode\n",
    "from plotly.subplots import make_subplots\n",
    "\n",
    "from IPython.display import HTML, display\n",
    "\n",
    "init_notebook_mode(connected=True)"
   ]
  },
  {
   "cell_type": "code",
   "execution_count": 3,
   "metadata": {},
   "outputs": [],
   "source": [
    "YEARS = [2018, 2019, 2020]\n",
    "\n",
    "\n",
    "cities_dir = 'Cities/Cities Responses/'\n",
    "cc_dir = 'Corporations/Corporations Responses/Climate Change/'\n",
    "ws_dir = 'Corporations/Corporations Responses/Water Security/'\n",
    "\n",
    "cities = [pd.read_csv(cities_dir + f'{year}_Full_Cities_Dataset.csv') for year in YEARS]\n",
    "cc = [pd.read_csv(cc_dir + f'{year}_Full_Climate_Change_Dataset.csv') for year in YEARS]\n",
    "ws = [pd.read_csv(ws_dir + f'{year}_Full_Water_Security_Dataset.csv') for year in YEARS]\n",
    "\n",
    "cities_dir_disc = 'Cities/Cities Disclosing/'\n",
    "cc_dir_disc = 'Corporations/Corporations Disclosing/Climate Change/'\n",
    "ws_dir_disc = 'Corporations/Corporations Disclosing/Water Security/'\n",
    "\n",
    "cities_disc = [pd.read_csv(cities_dir_disc + f'{year}_Cities_Disclosing_to_CDP.csv') for year in YEARS]\n",
    "cc_disc = [pd.read_csv(cc_dir_disc + f'{year}_Corporates_Disclosing_to_CDP_Climate_Change.csv') for year in YEARS]\n",
    "ws_disc = [pd.read_csv(ws_dir_disc + f'{year}_Corporates_Disclosing_to_CDP_Water_Security.csv') for year in YEARS]"
   ]
  },
  {
   "cell_type": "code",
   "execution_count": 4,
   "metadata": {},
   "outputs": [],
   "source": [
    "NUM_Q = 'Question Number'\n",
    "NUM_R = 'Row Number'\n",
    "NUM_C = 'Column Number'\n",
    "\n",
    "NAME_Q = 'Question Name'\n",
    "NAME_R = 'Row Name'\n",
    "NAME_C = 'Column Name'\n",
    "\n",
    "ANS = 'Response Answer'"
   ]
  },
  {
   "cell_type": "code",
   "execution_count": 5,
   "metadata": {},
   "outputs": [
    {
     "output_type": "stream",
     "name": "stdout",
     "text": [
      "{'cities': {2018: ['0.1', '0.3', '0.4', '0.5', '0.6', '0.8', '1.0', '1.1', '1.2', '1.4', '2.0', '2.2', '2.2a', '2.3', '3.0', '3.1', '4.0', '5.0', '5.0a', '5.1', '5.2', '6.0', '7.0', '8.0', '8.2', '8.3', '9.0', '9.2', '15.0', '15.3', 'Response Language'], 2019: ['0.1', '0.3', '0.4', '0.5', '0.6', '1.0', '1.1', '2.0', '2.1', '3.0', '3.1', '4.0', '5.0', '5.5', '6.1', '7.0', '8.0', '14.0', '14.3', 'Response Language'], 2020: ['0.1', '0.3', '0.4', '0.5', '0.6', '1.0', '1.0a', '1.1', '1.2', '1.3', '1.4', '1.5', '1.6', '1.7', '2.0', '2.0a', '2.0b', '2.0c', '2.0d', '2.1', '2.1a', '2.1b', '2.1c', '2.2', '2.3', '2.3a', '3.0', '3.1', '3.2', '3.2a', '3.2b', '3.4', '3.5', '3.6', '4.0', '4.1', '4.2', '4.3', '4.3a', '4.4', '4.5', '4.6a', '4.6b', '4.6c', '4.6d', '4.6e', '4.6f', '4.7', '4.8', '4.9', '4.11', '4.12', '4.12a', '4.12b', '4.14', '4.14a', '5.0', '5.0a', '5.0b', '5.0c', '5.0d', '5.0e', '5.1', '5.2', '5.2a', '5.3', '5.3a', '5.5', '5.5a', '5.5b', '6.0', '6.1', '6.2', '6.2a', '6.3', '6.4', '6.5', '6.6', '6.7', '6.8', '6.9', '6.11', '6.12', '6.13', '6.14', '6.15', '6.16', '7.0', '7.1', '7.2', '7.3', '7.4', '7.5', '7.6', '7.7', '7.7a', '7.7b', '7.8', '7.9', '7.9a', '7.9b', '8.0', '8.0a', '8.0b', '8.3', '8.5a', '8.5b', '9.0', '9.1', '9.2', '9.3', '9.4', '9.5', '10.1', '10.2', '10.3', '10.5', '10.6', '10.7', '10.7a', '10.8', '10.9', '10.11', '10.12', '10.13', '10.14', '10.15', '11.0', '11.1', '12.0a', '12.2', '12.3', '12.4', '12.5', '12.6', '13.1', '13.2', '13.3', '13.4', '13.5', '13.6', '14.0', '14.1', '14.2', '14.2a', '14.2b', '14.3', '14.4', '14.4a', '14.4b', 'Response Language', 'Amendments_question']}, 'cc': {2018: ['C0.1', 'C0.2', 'C0.3', 'C0.4', 'C0.5', 'C2.1', 'C2.2', 'C2.2a', 'C2.2c', 'C2.3', 'C2.4', 'C4.1', 'C4.3', 'C4.3a', 'C4.3b', 'C4.3c', 'C4.5', 'C6.1', 'C6.3', 'C6.4', 'C6.5', 'C6.10', 'C7.1', 'C7.2', 'C7.3', 'C7.5', 'C7.6', 'C8.1', 'C8.2', 'C8.2a', 'C8.2b', 'C8.2c', 'C8.2d', 'C12.1', 'C12.3'], 2019: ['C0.1', 'C0.2', 'C0.3', 'C0.4', 'C2.2', 'C2.3', 'C2.4', 'C4.1', 'C4.3', 'C6.1', 'C6.3', 'C6.5', 'C8.2', 'C8.2a', 'C12.1'], 2020: ['C0.1', 'C0.2', 'C0.3', 'C0.4', 'C0.5', 'C2.1a', 'C2.3', 'C2.4', 'C4.1', 'C4.3', 'C4.5', 'C6.1', 'C6.3', 'C6.4', 'C6.5', 'C6.10', 'C8.2', 'C8.2a', 'C12.1', 'C12.3']}, 'ws': {2018: ['W0.1', 'W0.2', 'W0.3', 'W0.4', 'W0.5', 'W0.6', 'W1.1', 'W1.2', 'W1.2b', 'W1.2h', 'W1.4', 'W3.3', 'W3.3a', 'W3.3b', 'W3.3c', 'W3.3d', 'W4.1', 'W4.3', 'W8.1', 'W9.1'], 2019: ['W0.1', 'W0.2', 'W0.3', 'W0.4', 'W0.5', 'W0.6', 'W1.1', 'W1.2', 'W1.2b', 'W3.3', 'W4.1', 'W4.3', 'W8.1', 'W9.1'], 2020: ['W0.1', 'W0.2', 'W0.3', 'W0.4', 'W0.5', 'W0.6', 'W1.1', 'W1.2', 'W1.2b', 'W3.3', 'W3.3a', 'W4.1', 'W4.3', 'W8.1']}}\n"
     ]
    }
   ],
   "source": [
    "questions = {'cities':{}, 'cc':{}, 'ws':{}}\n",
    "\n",
    "def qnum_sorter(qnum):\n",
    "    sections = qnum.split('.')\n",
    "    if len(sections) == 1: return [16, 0, '']\n",
    "    first = re.search(r'\\d+', sections[0])[0]\n",
    "    second = re.search(r'\\d+', sections[1])[0]\n",
    "    letter = re.search(r'[a-z]', sections[1])\n",
    "    return [int(first), int(second), letter[0] if letter else '']\n",
    "\n",
    "for name, data in zip(('cities', 'cc', 'ws'), (cities, cc, ws)):\n",
    "    if name == 'cities':\n",
    "        NUM_Q = 'Question Number'\n",
    "        ANS = 'Response Answer'\n",
    "        ORG = 'Organization'\n",
    "    else:\n",
    "        NUM_Q = 'question_number'\n",
    "        ANS = 'response_value'\n",
    "        ORG = 'organization'\n",
    "    for year, df in zip(YEARS, data):\n",
    "        total = len(df[ORG].unique())\n",
    "        threshold = total * 0.75\n",
    "        dff = df\\\n",
    "            .dropna(axis=0, subset=[ANS])\\\n",
    "            .groupby(NUM_Q)\\\n",
    "            .agg({ORG: ['nunique']})\\\n",
    "            .droplevel(level=1, axis=1)\\\n",
    "            .sort_values(ORG, ascending=False)\\\n",
    "            .rename(columns={ORG:'Unique Organizations Answered'})\n",
    "        dff = dff[dff['Unique Organizations Answered'] > threshold]\n",
    "        questions[name][year] = sorted(dff.index.values.tolist(), key=qnum_sorter)\n",
    "print(questions)"
   ]
  },
  {
   "cell_type": "code",
   "execution_count": 29,
   "metadata": {},
   "outputs": [
    {
     "output_type": "execute_result",
     "data": {
      "text/plain": [
       "Index(['account_number', 'organization', 'survey_year',\n",
       "       'response_received_date', 'accounting_period_to', 'ors_response_id',\n",
       "       'submission_date', 'page_name', 'module_name', 'question_number',\n",
       "       'question_unique_reference', 'column_number', 'column_name',\n",
       "       'table_columns_unique_reference', 'row_number', 'row_name',\n",
       "       'data_point_name', 'data_point_id', 'response_value', 'comments'],\n",
       "      dtype='object')"
      ]
     },
     "metadata": {},
     "execution_count": 29
    }
   ],
   "source": [
    "cc[2].columns"
   ]
  },
  {
   "cell_type": "code",
   "execution_count": 30,
   "metadata": {},
   "outputs": [
    {
     "output_type": "display_data",
     "data": {
      "text/html": "        <script type=\"text/javascript\">\n        window.PlotlyConfig = {MathJaxConfig: 'local'};\n        if (window.MathJax) {MathJax.Hub.Config({SVG: {font: \"STIX-Web\"}});}\n        if (typeof require !== 'undefined') {\n        require.undef(\"plotly\");\n        requirejs.config({\n            paths: {\n                'plotly': ['https://cdn.plot.ly/plotly-latest.min']\n            }\n        });\n        require(['plotly'], function(Plotly) {\n            window._Plotly = Plotly;\n        });\n        }\n        </script>\n        "
     },
     "metadata": {}
    },
    {
     "output_type": "display_data",
     "data": {
      "application/vnd.plotly.v1+json": {
       "config": {
        "plotlyServerURL": "https://plot.ly"
       },
       "data": [
        {
         "showlegend": false,
         "type": "bar",
         "x": [
          "Hazards and Adaptation",
          "Introduction",
          "Strategy",
          "Governance and Data Management",
          "Opportunities",
          "Water",
          "Local Government Emissions",
          "Climate Hazards",
          "City Wide Emissions"
         ],
         "xaxis": "x",
         "y": [
          6,
          5,
          5,
          4,
          2,
          2,
          1,
          1,
          1
         ],
         "yaxis": "y"
        },
        {
         "showlegend": false,
         "type": "bar",
         "x": [
          "Introduction",
          "Climate Hazards & Vulnerability",
          "Adaptation",
          "Emissions Reduction",
          "Governance and Data Management",
          "Water Security",
          "Opportunities",
          "City Wide Emissions",
          "Local Government Emissions"
         ],
         "xaxis": "x2",
         "y": [
          4,
          2,
          2,
          2,
          2,
          2,
          1,
          1,
          1
         ],
         "yaxis": "y2"
        },
        {
         "showlegend": false,
         "type": "bar",
         "x": [
          "City-wide Emissions",
          "Opportunities",
          "Local Government Emissions",
          "Emissions Reduction",
          "Climate Hazards and Vulnerability",
          "Governance and Data Management",
          "Water Security",
          "Adaptation",
          "Introduction"
         ],
         "xaxis": "x3",
         "y": [
          22,
          17,
          14,
          14,
          12,
          9,
          9,
          8,
          4
         ],
         "yaxis": "y3"
        },
        {
         "showlegend": false,
         "type": "bar",
         "x": [
          "C8. Energy",
          "C2. Risks and opportunities",
          "C4. Targets and performance",
          "C0. Introduction",
          "C6. Emissions data",
          "C7. Emissions breakdowns",
          "C12. Engagement"
         ],
         "xaxis": "x4",
         "y": [
          6,
          6,
          6,
          5,
          5,
          5,
          2
         ],
         "yaxis": "y4"
        },
        {
         "showlegend": false,
         "type": "bar",
         "x": [
          "C0. Introduction",
          "C6. Emissions data",
          "C2. Risks and opportunities",
          "C4. Targets and performance",
          "C8. Energy",
          "C12. Engagement"
         ],
         "xaxis": "x5",
         "y": [
          4,
          3,
          3,
          2,
          2,
          1
         ],
         "yaxis": "y5"
        },
        {
         "showlegend": false,
         "type": "bar",
         "x": [
          "C6. Emissions data",
          "C0. Introduction",
          "C4. Targets and performance",
          "C2. Risks and opportunities",
          "C12. Engagement",
          "C8. Energy"
         ],
         "xaxis": "x6",
         "y": [
          5,
          5,
          3,
          3,
          2,
          2
         ],
         "yaxis": "y6"
        },
        {
         "showlegend": false,
         "type": "bar",
         "x": [
          "W0. Introduction",
          "W3. Procedures",
          "W1. Current state",
          "W4. Risks and opportunities",
          "W8. Targets",
          "W9. Linkages and trade-offs"
         ],
         "xaxis": "x7",
         "y": [
          6,
          5,
          5,
          2,
          1,
          1
         ],
         "yaxis": "y7"
        },
        {
         "showlegend": false,
         "type": "bar",
         "x": [
          "W0. Introduction",
          "W1. Current state",
          "W4. Risks and opportunities",
          "W3. Procedures",
          "W8. Targets",
          "W9. Linkages and trade-offs"
         ],
         "xaxis": "x8",
         "y": [
          6,
          3,
          2,
          1,
          1,
          1
         ],
         "yaxis": "y8"
        },
        {
         "showlegend": false,
         "type": "bar",
         "x": [
          "W0. Introduction",
          "W1. Current state",
          "W4. Risks and opportunities",
          "W3. Procedures",
          "W8. Targets"
         ],
         "xaxis": "x9",
         "y": [
          6,
          3,
          2,
          2,
          1
         ],
         "yaxis": "y9"
        }
       ],
       "layout": {
        "annotations": [
         {
          "font": {
           "size": 16
          },
          "showarrow": false,
          "text": "2018",
          "x": 0.1411111111111111,
          "xanchor": "center",
          "xref": "paper",
          "y": 1,
          "yanchor": "bottom",
          "yref": "paper"
         },
         {
          "font": {
           "size": 16
          },
          "showarrow": false,
          "text": "2019",
          "x": 0.49,
          "xanchor": "center",
          "xref": "paper",
          "y": 1,
          "yanchor": "bottom",
          "yref": "paper"
         },
         {
          "font": {
           "size": 16
          },
          "showarrow": false,
          "text": "2020",
          "x": 0.8388888888888888,
          "xanchor": "center",
          "xref": "paper",
          "y": 1,
          "yanchor": "bottom",
          "yref": "paper"
         },
         {
          "font": {
           "size": 16
          },
          "showarrow": false,
          "text": "cities",
          "textangle": 90,
          "x": 0.98,
          "xanchor": "left",
          "xref": "paper",
          "y": 0.8666666666666667,
          "yanchor": "middle",
          "yref": "paper"
         },
         {
          "font": {
           "size": 16
          },
          "showarrow": false,
          "text": "cc",
          "textangle": 90,
          "x": 0.98,
          "xanchor": "left",
          "xref": "paper",
          "y": 0.5,
          "yanchor": "middle",
          "yref": "paper"
         },
         {
          "font": {
           "size": 16
          },
          "showarrow": false,
          "text": "ws",
          "textangle": 90,
          "x": 0.98,
          "xanchor": "left",
          "xref": "paper",
          "y": 0.13333333333333333,
          "yanchor": "middle",
          "yref": "paper"
         },
         {
          "font": {
           "size": 16
          },
          "showarrow": false,
          "text": "Sections in Most Responded Questions (HOVER)",
          "x": 0.49,
          "xanchor": "center",
          "xref": "paper",
          "y": 0,
          "yanchor": "top",
          "yref": "paper",
          "yshift": -30
         },
         {
          "font": {
           "size": 16
          },
          "showarrow": false,
          "text": "Frequency in Most Responded Questions",
          "textangle": -90,
          "x": 0,
          "xanchor": "right",
          "xref": "paper",
          "xshift": -40,
          "y": 0.5,
          "yanchor": "middle",
          "yref": "paper"
         }
        ],
        "template": {
         "data": {
          "bar": [
           {
            "error_x": {
             "color": "#2a3f5f"
            },
            "error_y": {
             "color": "#2a3f5f"
            },
            "marker": {
             "line": {
              "color": "#E5ECF6",
              "width": 0.5
             }
            },
            "type": "bar"
           }
          ],
          "barpolar": [
           {
            "marker": {
             "line": {
              "color": "#E5ECF6",
              "width": 0.5
             }
            },
            "type": "barpolar"
           }
          ],
          "carpet": [
           {
            "aaxis": {
             "endlinecolor": "#2a3f5f",
             "gridcolor": "white",
             "linecolor": "white",
             "minorgridcolor": "white",
             "startlinecolor": "#2a3f5f"
            },
            "baxis": {
             "endlinecolor": "#2a3f5f",
             "gridcolor": "white",
             "linecolor": "white",
             "minorgridcolor": "white",
             "startlinecolor": "#2a3f5f"
            },
            "type": "carpet"
           }
          ],
          "choropleth": [
           {
            "colorbar": {
             "outlinewidth": 0,
             "ticks": ""
            },
            "type": "choropleth"
           }
          ],
          "contour": [
           {
            "colorbar": {
             "outlinewidth": 0,
             "ticks": ""
            },
            "colorscale": [
             [
              0,
              "#0d0887"
             ],
             [
              0.1111111111111111,
              "#46039f"
             ],
             [
              0.2222222222222222,
              "#7201a8"
             ],
             [
              0.3333333333333333,
              "#9c179e"
             ],
             [
              0.4444444444444444,
              "#bd3786"
             ],
             [
              0.5555555555555556,
              "#d8576b"
             ],
             [
              0.6666666666666666,
              "#ed7953"
             ],
             [
              0.7777777777777778,
              "#fb9f3a"
             ],
             [
              0.8888888888888888,
              "#fdca26"
             ],
             [
              1,
              "#f0f921"
             ]
            ],
            "type": "contour"
           }
          ],
          "contourcarpet": [
           {
            "colorbar": {
             "outlinewidth": 0,
             "ticks": ""
            },
            "type": "contourcarpet"
           }
          ],
          "heatmap": [
           {
            "colorbar": {
             "outlinewidth": 0,
             "ticks": ""
            },
            "colorscale": [
             [
              0,
              "#0d0887"
             ],
             [
              0.1111111111111111,
              "#46039f"
             ],
             [
              0.2222222222222222,
              "#7201a8"
             ],
             [
              0.3333333333333333,
              "#9c179e"
             ],
             [
              0.4444444444444444,
              "#bd3786"
             ],
             [
              0.5555555555555556,
              "#d8576b"
             ],
             [
              0.6666666666666666,
              "#ed7953"
             ],
             [
              0.7777777777777778,
              "#fb9f3a"
             ],
             [
              0.8888888888888888,
              "#fdca26"
             ],
             [
              1,
              "#f0f921"
             ]
            ],
            "type": "heatmap"
           }
          ],
          "heatmapgl": [
           {
            "colorbar": {
             "outlinewidth": 0,
             "ticks": ""
            },
            "colorscale": [
             [
              0,
              "#0d0887"
             ],
             [
              0.1111111111111111,
              "#46039f"
             ],
             [
              0.2222222222222222,
              "#7201a8"
             ],
             [
              0.3333333333333333,
              "#9c179e"
             ],
             [
              0.4444444444444444,
              "#bd3786"
             ],
             [
              0.5555555555555556,
              "#d8576b"
             ],
             [
              0.6666666666666666,
              "#ed7953"
             ],
             [
              0.7777777777777778,
              "#fb9f3a"
             ],
             [
              0.8888888888888888,
              "#fdca26"
             ],
             [
              1,
              "#f0f921"
             ]
            ],
            "type": "heatmapgl"
           }
          ],
          "histogram": [
           {
            "marker": {
             "colorbar": {
              "outlinewidth": 0,
              "ticks": ""
             }
            },
            "type": "histogram"
           }
          ],
          "histogram2d": [
           {
            "colorbar": {
             "outlinewidth": 0,
             "ticks": ""
            },
            "colorscale": [
             [
              0,
              "#0d0887"
             ],
             [
              0.1111111111111111,
              "#46039f"
             ],
             [
              0.2222222222222222,
              "#7201a8"
             ],
             [
              0.3333333333333333,
              "#9c179e"
             ],
             [
              0.4444444444444444,
              "#bd3786"
             ],
             [
              0.5555555555555556,
              "#d8576b"
             ],
             [
              0.6666666666666666,
              "#ed7953"
             ],
             [
              0.7777777777777778,
              "#fb9f3a"
             ],
             [
              0.8888888888888888,
              "#fdca26"
             ],
             [
              1,
              "#f0f921"
             ]
            ],
            "type": "histogram2d"
           }
          ],
          "histogram2dcontour": [
           {
            "colorbar": {
             "outlinewidth": 0,
             "ticks": ""
            },
            "colorscale": [
             [
              0,
              "#0d0887"
             ],
             [
              0.1111111111111111,
              "#46039f"
             ],
             [
              0.2222222222222222,
              "#7201a8"
             ],
             [
              0.3333333333333333,
              "#9c179e"
             ],
             [
              0.4444444444444444,
              "#bd3786"
             ],
             [
              0.5555555555555556,
              "#d8576b"
             ],
             [
              0.6666666666666666,
              "#ed7953"
             ],
             [
              0.7777777777777778,
              "#fb9f3a"
             ],
             [
              0.8888888888888888,
              "#fdca26"
             ],
             [
              1,
              "#f0f921"
             ]
            ],
            "type": "histogram2dcontour"
           }
          ],
          "mesh3d": [
           {
            "colorbar": {
             "outlinewidth": 0,
             "ticks": ""
            },
            "type": "mesh3d"
           }
          ],
          "parcoords": [
           {
            "line": {
             "colorbar": {
              "outlinewidth": 0,
              "ticks": ""
             }
            },
            "type": "parcoords"
           }
          ],
          "pie": [
           {
            "automargin": true,
            "type": "pie"
           }
          ],
          "scatter": [
           {
            "marker": {
             "colorbar": {
              "outlinewidth": 0,
              "ticks": ""
             }
            },
            "type": "scatter"
           }
          ],
          "scatter3d": [
           {
            "line": {
             "colorbar": {
              "outlinewidth": 0,
              "ticks": ""
             }
            },
            "marker": {
             "colorbar": {
              "outlinewidth": 0,
              "ticks": ""
             }
            },
            "type": "scatter3d"
           }
          ],
          "scattercarpet": [
           {
            "marker": {
             "colorbar": {
              "outlinewidth": 0,
              "ticks": ""
             }
            },
            "type": "scattercarpet"
           }
          ],
          "scattergeo": [
           {
            "marker": {
             "colorbar": {
              "outlinewidth": 0,
              "ticks": ""
             }
            },
            "type": "scattergeo"
           }
          ],
          "scattergl": [
           {
            "marker": {
             "colorbar": {
              "outlinewidth": 0,
              "ticks": ""
             }
            },
            "type": "scattergl"
           }
          ],
          "scattermapbox": [
           {
            "marker": {
             "colorbar": {
              "outlinewidth": 0,
              "ticks": ""
             }
            },
            "type": "scattermapbox"
           }
          ],
          "scatterpolar": [
           {
            "marker": {
             "colorbar": {
              "outlinewidth": 0,
              "ticks": ""
             }
            },
            "type": "scatterpolar"
           }
          ],
          "scatterpolargl": [
           {
            "marker": {
             "colorbar": {
              "outlinewidth": 0,
              "ticks": ""
             }
            },
            "type": "scatterpolargl"
           }
          ],
          "scatterternary": [
           {
            "marker": {
             "colorbar": {
              "outlinewidth": 0,
              "ticks": ""
             }
            },
            "type": "scatterternary"
           }
          ],
          "surface": [
           {
            "colorbar": {
             "outlinewidth": 0,
             "ticks": ""
            },
            "colorscale": [
             [
              0,
              "#0d0887"
             ],
             [
              0.1111111111111111,
              "#46039f"
             ],
             [
              0.2222222222222222,
              "#7201a8"
             ],
             [
              0.3333333333333333,
              "#9c179e"
             ],
             [
              0.4444444444444444,
              "#bd3786"
             ],
             [
              0.5555555555555556,
              "#d8576b"
             ],
             [
              0.6666666666666666,
              "#ed7953"
             ],
             [
              0.7777777777777778,
              "#fb9f3a"
             ],
             [
              0.8888888888888888,
              "#fdca26"
             ],
             [
              1,
              "#f0f921"
             ]
            ],
            "type": "surface"
           }
          ],
          "table": [
           {
            "cells": {
             "fill": {
              "color": "#EBF0F8"
             },
             "line": {
              "color": "white"
             }
            },
            "header": {
             "fill": {
              "color": "#C8D4E3"
             },
             "line": {
              "color": "white"
             }
            },
            "type": "table"
           }
          ]
         },
         "layout": {
          "annotationdefaults": {
           "arrowcolor": "#2a3f5f",
           "arrowhead": 0,
           "arrowwidth": 1
          },
          "coloraxis": {
           "colorbar": {
            "outlinewidth": 0,
            "ticks": ""
           }
          },
          "colorscale": {
           "diverging": [
            [
             0,
             "#8e0152"
            ],
            [
             0.1,
             "#c51b7d"
            ],
            [
             0.2,
             "#de77ae"
            ],
            [
             0.3,
             "#f1b6da"
            ],
            [
             0.4,
             "#fde0ef"
            ],
            [
             0.5,
             "#f7f7f7"
            ],
            [
             0.6,
             "#e6f5d0"
            ],
            [
             0.7,
             "#b8e186"
            ],
            [
             0.8,
             "#7fbc41"
            ],
            [
             0.9,
             "#4d9221"
            ],
            [
             1,
             "#276419"
            ]
           ],
           "sequential": [
            [
             0,
             "#0d0887"
            ],
            [
             0.1111111111111111,
             "#46039f"
            ],
            [
             0.2222222222222222,
             "#7201a8"
            ],
            [
             0.3333333333333333,
             "#9c179e"
            ],
            [
             0.4444444444444444,
             "#bd3786"
            ],
            [
             0.5555555555555556,
             "#d8576b"
            ],
            [
             0.6666666666666666,
             "#ed7953"
            ],
            [
             0.7777777777777778,
             "#fb9f3a"
            ],
            [
             0.8888888888888888,
             "#fdca26"
            ],
            [
             1,
             "#f0f921"
            ]
           ],
           "sequentialminus": [
            [
             0,
             "#0d0887"
            ],
            [
             0.1111111111111111,
             "#46039f"
            ],
            [
             0.2222222222222222,
             "#7201a8"
            ],
            [
             0.3333333333333333,
             "#9c179e"
            ],
            [
             0.4444444444444444,
             "#bd3786"
            ],
            [
             0.5555555555555556,
             "#d8576b"
            ],
            [
             0.6666666666666666,
             "#ed7953"
            ],
            [
             0.7777777777777778,
             "#fb9f3a"
            ],
            [
             0.8888888888888888,
             "#fdca26"
            ],
            [
             1,
             "#f0f921"
            ]
           ]
          },
          "colorway": [
           "#636efa",
           "#EF553B",
           "#00cc96",
           "#ab63fa",
           "#FFA15A",
           "#19d3f3",
           "#FF6692",
           "#B6E880",
           "#FF97FF",
           "#FECB52"
          ],
          "font": {
           "color": "#2a3f5f"
          },
          "geo": {
           "bgcolor": "white",
           "lakecolor": "white",
           "landcolor": "#E5ECF6",
           "showlakes": true,
           "showland": true,
           "subunitcolor": "white"
          },
          "hoverlabel": {
           "align": "left"
          },
          "hovermode": "closest",
          "mapbox": {
           "style": "light"
          },
          "paper_bgcolor": "white",
          "plot_bgcolor": "#E5ECF6",
          "polar": {
           "angularaxis": {
            "gridcolor": "white",
            "linecolor": "white",
            "ticks": ""
           },
           "bgcolor": "#E5ECF6",
           "radialaxis": {
            "gridcolor": "white",
            "linecolor": "white",
            "ticks": ""
           }
          },
          "scene": {
           "xaxis": {
            "backgroundcolor": "#E5ECF6",
            "gridcolor": "white",
            "gridwidth": 2,
            "linecolor": "white",
            "showbackground": true,
            "ticks": "",
            "zerolinecolor": "white"
           },
           "yaxis": {
            "backgroundcolor": "#E5ECF6",
            "gridcolor": "white",
            "gridwidth": 2,
            "linecolor": "white",
            "showbackground": true,
            "ticks": "",
            "zerolinecolor": "white"
           },
           "zaxis": {
            "backgroundcolor": "#E5ECF6",
            "gridcolor": "white",
            "gridwidth": 2,
            "linecolor": "white",
            "showbackground": true,
            "ticks": "",
            "zerolinecolor": "white"
           }
          },
          "shapedefaults": {
           "line": {
            "color": "#2a3f5f"
           }
          },
          "ternary": {
           "aaxis": {
            "gridcolor": "white",
            "linecolor": "white",
            "ticks": ""
           },
           "baxis": {
            "gridcolor": "white",
            "linecolor": "white",
            "ticks": ""
           },
           "bgcolor": "#E5ECF6",
           "caxis": {
            "gridcolor": "white",
            "linecolor": "white",
            "ticks": ""
           }
          },
          "title": {
           "x": 0.05
          },
          "xaxis": {
           "automargin": true,
           "gridcolor": "white",
           "linecolor": "white",
           "ticks": "",
           "title": {
            "standoff": 15
           },
           "zerolinecolor": "white",
           "zerolinewidth": 2
          },
          "yaxis": {
           "automargin": true,
           "gridcolor": "white",
           "linecolor": "white",
           "ticks": "",
           "title": {
            "standoff": 15
           },
           "zerolinecolor": "white",
           "zerolinewidth": 2
          }
         }
        },
        "xaxis": {
         "anchor": "y",
         "domain": [
          0,
          0.2822222222222222
         ],
         "showticklabels": false
        },
        "xaxis2": {
         "anchor": "y2",
         "domain": [
          0.34888888888888886,
          0.6311111111111111
         ],
         "showticklabels": false
        },
        "xaxis3": {
         "anchor": "y3",
         "domain": [
          0.6977777777777777,
          0.98
         ],
         "showticklabels": false
        },
        "xaxis4": {
         "anchor": "y4",
         "domain": [
          0,
          0.2822222222222222
         ],
         "showticklabels": false
        },
        "xaxis5": {
         "anchor": "y5",
         "domain": [
          0.34888888888888886,
          0.6311111111111111
         ],
         "showticklabels": false
        },
        "xaxis6": {
         "anchor": "y6",
         "domain": [
          0.6977777777777777,
          0.98
         ],
         "showticklabels": false
        },
        "xaxis7": {
         "anchor": "y7",
         "domain": [
          0,
          0.2822222222222222
         ],
         "showticklabels": false
        },
        "xaxis8": {
         "anchor": "y8",
         "domain": [
          0.34888888888888886,
          0.6311111111111111
         ],
         "showticklabels": false
        },
        "xaxis9": {
         "anchor": "y9",
         "domain": [
          0.6977777777777777,
          0.98
         ],
         "showticklabels": false
        },
        "yaxis": {
         "anchor": "x",
         "domain": [
          0.7333333333333333,
          1
         ],
         "matches": "y7"
        },
        "yaxis2": {
         "anchor": "x2",
         "domain": [
          0.7333333333333333,
          1
         ],
         "matches": "y7",
         "showticklabels": false
        },
        "yaxis3": {
         "anchor": "x3",
         "domain": [
          0.7333333333333333,
          1
         ],
         "matches": "y7",
         "showticklabels": false
        },
        "yaxis4": {
         "anchor": "x4",
         "domain": [
          0.36666666666666664,
          0.6333333333333333
         ],
         "matches": "y7"
        },
        "yaxis5": {
         "anchor": "x5",
         "domain": [
          0.36666666666666664,
          0.6333333333333333
         ],
         "matches": "y7",
         "showticklabels": false
        },
        "yaxis6": {
         "anchor": "x6",
         "domain": [
          0.36666666666666664,
          0.6333333333333333
         ],
         "matches": "y7",
         "showticklabels": false
        },
        "yaxis7": {
         "anchor": "x7",
         "domain": [
          0,
          0.26666666666666666
         ]
        },
        "yaxis8": {
         "anchor": "x8",
         "domain": [
          0,
          0.26666666666666666
         ],
         "matches": "y7",
         "showticklabels": false
        },
        "yaxis9": {
         "anchor": "x9",
         "domain": [
          0,
          0.26666666666666666
         ],
         "matches": "y7",
         "showticklabels": false
        }
       }
      },
      "text/html": "<div>\n        \n        \n            <div id=\"44de5d32-7d40-4a5b-9db8-e37d58d41370\" class=\"plotly-graph-div\" style=\"height:525px; width:100%;\"></div>\n            <script type=\"text/javascript\">\n                require([\"plotly\"], function(Plotly) {\n                    window.PLOTLYENV=window.PLOTLYENV || {};\n                    \n                if (document.getElementById(\"44de5d32-7d40-4a5b-9db8-e37d58d41370\")) {\n                    Plotly.newPlot(\n                        '44de5d32-7d40-4a5b-9db8-e37d58d41370',\n                        [{\"showlegend\": false, \"type\": \"bar\", \"x\": [\"Hazards and Adaptation\", \"Introduction\", \"Strategy\", \"Governance and Data Management\", \"Opportunities\", \"Water\", \"Local Government Emissions\", \"Climate Hazards\", \"City Wide Emissions\"], \"xaxis\": \"x\", \"y\": [6, 5, 5, 4, 2, 2, 1, 1, 1], \"yaxis\": \"y\"}, {\"showlegend\": false, \"type\": \"bar\", \"x\": [\"Introduction\", \"Climate Hazards & Vulnerability\", \"Adaptation\", \"Emissions Reduction\", \"Governance and Data Management\", \"Water Security\", \"Opportunities\", \"City Wide Emissions\", \"Local Government Emissions\"], \"xaxis\": \"x2\", \"y\": [4, 2, 2, 2, 2, 2, 1, 1, 1], \"yaxis\": \"y2\"}, {\"showlegend\": false, \"type\": \"bar\", \"x\": [\"City-wide Emissions\", \"Opportunities\", \"Local Government Emissions\", \"Emissions Reduction\", \"Climate Hazards and Vulnerability\", \"Governance and Data Management\", \"Water Security\", \"Adaptation\", \"Introduction\"], \"xaxis\": \"x3\", \"y\": [22, 17, 14, 14, 12, 9, 9, 8, 4], \"yaxis\": \"y3\"}, {\"showlegend\": false, \"type\": \"bar\", \"x\": [\"C8. Energy\", \"C2. Risks and opportunities\", \"C4. Targets and performance\", \"C0. Introduction\", \"C6. Emissions data\", \"C7. Emissions breakdowns\", \"C12. Engagement\"], \"xaxis\": \"x4\", \"y\": [6, 6, 6, 5, 5, 5, 2], \"yaxis\": \"y4\"}, {\"showlegend\": false, \"type\": \"bar\", \"x\": [\"C0. Introduction\", \"C6. Emissions data\", \"C2. Risks and opportunities\", \"C4. Targets and performance\", \"C8. Energy\", \"C12. Engagement\"], \"xaxis\": \"x5\", \"y\": [4, 3, 3, 2, 2, 1], \"yaxis\": \"y5\"}, {\"showlegend\": false, \"type\": \"bar\", \"x\": [\"C6. Emissions data\", \"C0. Introduction\", \"C4. Targets and performance\", \"C2. Risks and opportunities\", \"C12. Engagement\", \"C8. Energy\"], \"xaxis\": \"x6\", \"y\": [5, 5, 3, 3, 2, 2], \"yaxis\": \"y6\"}, {\"showlegend\": false, \"type\": \"bar\", \"x\": [\"W0. Introduction\", \"W3. Procedures\", \"W1. Current state\", \"W4. Risks and opportunities\", \"W8. Targets\", \"W9. Linkages and trade-offs\"], \"xaxis\": \"x7\", \"y\": [6, 5, 5, 2, 1, 1], \"yaxis\": \"y7\"}, {\"showlegend\": false, \"type\": \"bar\", \"x\": [\"W0. Introduction\", \"W1. Current state\", \"W4. Risks and opportunities\", \"W3. Procedures\", \"W8. Targets\", \"W9. Linkages and trade-offs\"], \"xaxis\": \"x8\", \"y\": [6, 3, 2, 1, 1, 1], \"yaxis\": \"y8\"}, {\"showlegend\": false, \"type\": \"bar\", \"x\": [\"W0. Introduction\", \"W1. Current state\", \"W4. Risks and opportunities\", \"W3. Procedures\", \"W8. Targets\"], \"xaxis\": \"x9\", \"y\": [6, 3, 2, 2, 1], \"yaxis\": \"y9\"}],\n                        {\"annotations\": [{\"font\": {\"size\": 16}, \"showarrow\": false, \"text\": \"2018\", \"x\": 0.1411111111111111, \"xanchor\": \"center\", \"xref\": \"paper\", \"y\": 1.0, \"yanchor\": \"bottom\", \"yref\": \"paper\"}, {\"font\": {\"size\": 16}, \"showarrow\": false, \"text\": \"2019\", \"x\": 0.49, \"xanchor\": \"center\", \"xref\": \"paper\", \"y\": 1.0, \"yanchor\": \"bottom\", \"yref\": \"paper\"}, {\"font\": {\"size\": 16}, \"showarrow\": false, \"text\": \"2020\", \"x\": 0.8388888888888888, \"xanchor\": \"center\", \"xref\": \"paper\", \"y\": 1.0, \"yanchor\": \"bottom\", \"yref\": \"paper\"}, {\"font\": {\"size\": 16}, \"showarrow\": false, \"text\": \"cities\", \"textangle\": 90, \"x\": 0.98, \"xanchor\": \"left\", \"xref\": \"paper\", \"y\": 0.8666666666666667, \"yanchor\": \"middle\", \"yref\": \"paper\"}, {\"font\": {\"size\": 16}, \"showarrow\": false, \"text\": \"cc\", \"textangle\": 90, \"x\": 0.98, \"xanchor\": \"left\", \"xref\": \"paper\", \"y\": 0.5, \"yanchor\": \"middle\", \"yref\": \"paper\"}, {\"font\": {\"size\": 16}, \"showarrow\": false, \"text\": \"ws\", \"textangle\": 90, \"x\": 0.98, \"xanchor\": \"left\", \"xref\": \"paper\", \"y\": 0.13333333333333333, \"yanchor\": \"middle\", \"yref\": \"paper\"}, {\"font\": {\"size\": 16}, \"showarrow\": false, \"text\": \"Sections in Most Responded Questions (HOVER)\", \"x\": 0.49, \"xanchor\": \"center\", \"xref\": \"paper\", \"y\": 0, \"yanchor\": \"top\", \"yref\": \"paper\", \"yshift\": -30}, {\"font\": {\"size\": 16}, \"showarrow\": false, \"text\": \"Frequency in Most Responded Questions\", \"textangle\": -90, \"x\": 0, \"xanchor\": \"right\", \"xref\": \"paper\", \"xshift\": -40, \"y\": 0.5, \"yanchor\": \"middle\", \"yref\": \"paper\"}], \"template\": {\"data\": {\"bar\": [{\"error_x\": {\"color\": \"#2a3f5f\"}, \"error_y\": {\"color\": \"#2a3f5f\"}, \"marker\": {\"line\": {\"color\": \"#E5ECF6\", \"width\": 0.5}}, \"type\": \"bar\"}], \"barpolar\": [{\"marker\": {\"line\": {\"color\": \"#E5ECF6\", \"width\": 0.5}}, \"type\": \"barpolar\"}], \"carpet\": [{\"aaxis\": {\"endlinecolor\": \"#2a3f5f\", \"gridcolor\": \"white\", \"linecolor\": \"white\", \"minorgridcolor\": \"white\", \"startlinecolor\": \"#2a3f5f\"}, \"baxis\": {\"endlinecolor\": \"#2a3f5f\", \"gridcolor\": \"white\", \"linecolor\": \"white\", \"minorgridcolor\": \"white\", \"startlinecolor\": \"#2a3f5f\"}, \"type\": \"carpet\"}], \"choropleth\": [{\"colorbar\": {\"outlinewidth\": 0, \"ticks\": \"\"}, \"type\": \"choropleth\"}], \"contour\": [{\"colorbar\": {\"outlinewidth\": 0, \"ticks\": \"\"}, \"colorscale\": [[0.0, \"#0d0887\"], [0.1111111111111111, \"#46039f\"], [0.2222222222222222, \"#7201a8\"], [0.3333333333333333, \"#9c179e\"], [0.4444444444444444, \"#bd3786\"], [0.5555555555555556, \"#d8576b\"], [0.6666666666666666, \"#ed7953\"], [0.7777777777777778, \"#fb9f3a\"], [0.8888888888888888, \"#fdca26\"], [1.0, \"#f0f921\"]], \"type\": \"contour\"}], \"contourcarpet\": [{\"colorbar\": {\"outlinewidth\": 0, \"ticks\": \"\"}, \"type\": \"contourcarpet\"}], \"heatmap\": [{\"colorbar\": {\"outlinewidth\": 0, \"ticks\": \"\"}, \"colorscale\": [[0.0, \"#0d0887\"], [0.1111111111111111, \"#46039f\"], [0.2222222222222222, \"#7201a8\"], [0.3333333333333333, \"#9c179e\"], [0.4444444444444444, \"#bd3786\"], [0.5555555555555556, \"#d8576b\"], [0.6666666666666666, \"#ed7953\"], [0.7777777777777778, \"#fb9f3a\"], [0.8888888888888888, \"#fdca26\"], [1.0, \"#f0f921\"]], \"type\": \"heatmap\"}], \"heatmapgl\": [{\"colorbar\": {\"outlinewidth\": 0, \"ticks\": \"\"}, \"colorscale\": [[0.0, \"#0d0887\"], [0.1111111111111111, \"#46039f\"], [0.2222222222222222, \"#7201a8\"], [0.3333333333333333, \"#9c179e\"], [0.4444444444444444, \"#bd3786\"], [0.5555555555555556, \"#d8576b\"], [0.6666666666666666, \"#ed7953\"], [0.7777777777777778, \"#fb9f3a\"], [0.8888888888888888, \"#fdca26\"], [1.0, \"#f0f921\"]], \"type\": \"heatmapgl\"}], \"histogram\": [{\"marker\": {\"colorbar\": {\"outlinewidth\": 0, \"ticks\": \"\"}}, \"type\": \"histogram\"}], \"histogram2d\": [{\"colorbar\": {\"outlinewidth\": 0, \"ticks\": \"\"}, \"colorscale\": [[0.0, \"#0d0887\"], [0.1111111111111111, \"#46039f\"], [0.2222222222222222, \"#7201a8\"], [0.3333333333333333, \"#9c179e\"], [0.4444444444444444, \"#bd3786\"], [0.5555555555555556, \"#d8576b\"], [0.6666666666666666, \"#ed7953\"], [0.7777777777777778, \"#fb9f3a\"], [0.8888888888888888, \"#fdca26\"], [1.0, \"#f0f921\"]], \"type\": \"histogram2d\"}], \"histogram2dcontour\": [{\"colorbar\": {\"outlinewidth\": 0, \"ticks\": \"\"}, \"colorscale\": [[0.0, \"#0d0887\"], [0.1111111111111111, \"#46039f\"], [0.2222222222222222, \"#7201a8\"], [0.3333333333333333, \"#9c179e\"], [0.4444444444444444, \"#bd3786\"], [0.5555555555555556, \"#d8576b\"], [0.6666666666666666, \"#ed7953\"], [0.7777777777777778, \"#fb9f3a\"], [0.8888888888888888, \"#fdca26\"], [1.0, \"#f0f921\"]], \"type\": \"histogram2dcontour\"}], \"mesh3d\": [{\"colorbar\": {\"outlinewidth\": 0, \"ticks\": \"\"}, \"type\": \"mesh3d\"}], \"parcoords\": [{\"line\": {\"colorbar\": {\"outlinewidth\": 0, \"ticks\": \"\"}}, \"type\": \"parcoords\"}], \"pie\": [{\"automargin\": true, \"type\": \"pie\"}], \"scatter\": [{\"marker\": {\"colorbar\": {\"outlinewidth\": 0, \"ticks\": \"\"}}, \"type\": \"scatter\"}], \"scatter3d\": [{\"line\": {\"colorbar\": {\"outlinewidth\": 0, \"ticks\": \"\"}}, \"marker\": {\"colorbar\": {\"outlinewidth\": 0, \"ticks\": \"\"}}, \"type\": \"scatter3d\"}], \"scattercarpet\": [{\"marker\": {\"colorbar\": {\"outlinewidth\": 0, \"ticks\": \"\"}}, \"type\": \"scattercarpet\"}], \"scattergeo\": [{\"marker\": {\"colorbar\": {\"outlinewidth\": 0, \"ticks\": \"\"}}, \"type\": \"scattergeo\"}], \"scattergl\": [{\"marker\": {\"colorbar\": {\"outlinewidth\": 0, \"ticks\": \"\"}}, \"type\": \"scattergl\"}], \"scattermapbox\": [{\"marker\": {\"colorbar\": {\"outlinewidth\": 0, \"ticks\": \"\"}}, \"type\": \"scattermapbox\"}], \"scatterpolar\": [{\"marker\": {\"colorbar\": {\"outlinewidth\": 0, \"ticks\": \"\"}}, \"type\": \"scatterpolar\"}], \"scatterpolargl\": [{\"marker\": {\"colorbar\": {\"outlinewidth\": 0, \"ticks\": \"\"}}, \"type\": \"scatterpolargl\"}], \"scatterternary\": [{\"marker\": {\"colorbar\": {\"outlinewidth\": 0, \"ticks\": \"\"}}, \"type\": \"scatterternary\"}], \"surface\": [{\"colorbar\": {\"outlinewidth\": 0, \"ticks\": \"\"}, \"colorscale\": [[0.0, \"#0d0887\"], [0.1111111111111111, \"#46039f\"], [0.2222222222222222, \"#7201a8\"], [0.3333333333333333, \"#9c179e\"], [0.4444444444444444, \"#bd3786\"], [0.5555555555555556, \"#d8576b\"], [0.6666666666666666, \"#ed7953\"], [0.7777777777777778, \"#fb9f3a\"], [0.8888888888888888, \"#fdca26\"], [1.0, \"#f0f921\"]], \"type\": \"surface\"}], \"table\": [{\"cells\": {\"fill\": {\"color\": \"#EBF0F8\"}, \"line\": {\"color\": \"white\"}}, \"header\": {\"fill\": {\"color\": \"#C8D4E3\"}, \"line\": {\"color\": \"white\"}}, \"type\": \"table\"}]}, \"layout\": {\"annotationdefaults\": {\"arrowcolor\": \"#2a3f5f\", \"arrowhead\": 0, \"arrowwidth\": 1}, \"coloraxis\": {\"colorbar\": {\"outlinewidth\": 0, \"ticks\": \"\"}}, \"colorscale\": {\"diverging\": [[0, \"#8e0152\"], [0.1, \"#c51b7d\"], [0.2, \"#de77ae\"], [0.3, \"#f1b6da\"], [0.4, \"#fde0ef\"], [0.5, \"#f7f7f7\"], [0.6, \"#e6f5d0\"], [0.7, \"#b8e186\"], [0.8, \"#7fbc41\"], [0.9, \"#4d9221\"], [1, \"#276419\"]], \"sequential\": [[0.0, \"#0d0887\"], [0.1111111111111111, \"#46039f\"], [0.2222222222222222, \"#7201a8\"], [0.3333333333333333, \"#9c179e\"], [0.4444444444444444, \"#bd3786\"], [0.5555555555555556, \"#d8576b\"], [0.6666666666666666, \"#ed7953\"], [0.7777777777777778, \"#fb9f3a\"], [0.8888888888888888, \"#fdca26\"], [1.0, \"#f0f921\"]], \"sequentialminus\": [[0.0, \"#0d0887\"], [0.1111111111111111, \"#46039f\"], [0.2222222222222222, \"#7201a8\"], [0.3333333333333333, \"#9c179e\"], [0.4444444444444444, \"#bd3786\"], [0.5555555555555556, \"#d8576b\"], [0.6666666666666666, \"#ed7953\"], [0.7777777777777778, \"#fb9f3a\"], [0.8888888888888888, \"#fdca26\"], [1.0, \"#f0f921\"]]}, \"colorway\": [\"#636efa\", \"#EF553B\", \"#00cc96\", \"#ab63fa\", \"#FFA15A\", \"#19d3f3\", \"#FF6692\", \"#B6E880\", \"#FF97FF\", \"#FECB52\"], \"font\": {\"color\": \"#2a3f5f\"}, \"geo\": {\"bgcolor\": \"white\", \"lakecolor\": \"white\", \"landcolor\": \"#E5ECF6\", \"showlakes\": true, \"showland\": true, \"subunitcolor\": \"white\"}, \"hoverlabel\": {\"align\": \"left\"}, \"hovermode\": \"closest\", \"mapbox\": {\"style\": \"light\"}, \"paper_bgcolor\": \"white\", \"plot_bgcolor\": \"#E5ECF6\", \"polar\": {\"angularaxis\": {\"gridcolor\": \"white\", \"linecolor\": \"white\", \"ticks\": \"\"}, \"bgcolor\": \"#E5ECF6\", \"radialaxis\": {\"gridcolor\": \"white\", \"linecolor\": \"white\", \"ticks\": \"\"}}, \"scene\": {\"xaxis\": {\"backgroundcolor\": \"#E5ECF6\", \"gridcolor\": \"white\", \"gridwidth\": 2, \"linecolor\": \"white\", \"showbackground\": true, \"ticks\": \"\", \"zerolinecolor\": \"white\"}, \"yaxis\": {\"backgroundcolor\": \"#E5ECF6\", \"gridcolor\": \"white\", \"gridwidth\": 2, \"linecolor\": \"white\", \"showbackground\": true, \"ticks\": \"\", \"zerolinecolor\": \"white\"}, \"zaxis\": {\"backgroundcolor\": \"#E5ECF6\", \"gridcolor\": \"white\", \"gridwidth\": 2, \"linecolor\": \"white\", \"showbackground\": true, \"ticks\": \"\", \"zerolinecolor\": \"white\"}}, \"shapedefaults\": {\"line\": {\"color\": \"#2a3f5f\"}}, \"ternary\": {\"aaxis\": {\"gridcolor\": \"white\", \"linecolor\": \"white\", \"ticks\": \"\"}, \"baxis\": {\"gridcolor\": \"white\", \"linecolor\": \"white\", \"ticks\": \"\"}, \"bgcolor\": \"#E5ECF6\", \"caxis\": {\"gridcolor\": \"white\", \"linecolor\": \"white\", \"ticks\": \"\"}}, \"title\": {\"x\": 0.05}, \"xaxis\": {\"automargin\": true, \"gridcolor\": \"white\", \"linecolor\": \"white\", \"ticks\": \"\", \"title\": {\"standoff\": 15}, \"zerolinecolor\": \"white\", \"zerolinewidth\": 2}, \"yaxis\": {\"automargin\": true, \"gridcolor\": \"white\", \"linecolor\": \"white\", \"ticks\": \"\", \"title\": {\"standoff\": 15}, \"zerolinecolor\": \"white\", \"zerolinewidth\": 2}}}, \"xaxis\": {\"anchor\": \"y\", \"domain\": [0.0, 0.2822222222222222], \"showticklabels\": false}, \"xaxis2\": {\"anchor\": \"y2\", \"domain\": [0.34888888888888886, 0.6311111111111111], \"showticklabels\": false}, \"xaxis3\": {\"anchor\": \"y3\", \"domain\": [0.6977777777777777, 0.98], \"showticklabels\": false}, \"xaxis4\": {\"anchor\": \"y4\", \"domain\": [0.0, 0.2822222222222222], \"showticklabels\": false}, \"xaxis5\": {\"anchor\": \"y5\", \"domain\": [0.34888888888888886, 0.6311111111111111], \"showticklabels\": false}, \"xaxis6\": {\"anchor\": \"y6\", \"domain\": [0.6977777777777777, 0.98], \"showticklabels\": false}, \"xaxis7\": {\"anchor\": \"y7\", \"domain\": [0.0, 0.2822222222222222], \"showticklabels\": false}, \"xaxis8\": {\"anchor\": \"y8\", \"domain\": [0.34888888888888886, 0.6311111111111111], \"showticklabels\": false}, \"xaxis9\": {\"anchor\": \"y9\", \"domain\": [0.6977777777777777, 0.98], \"showticklabels\": false}, \"yaxis\": {\"anchor\": \"x\", \"domain\": [0.7333333333333333, 1.0], \"matches\": \"y7\"}, \"yaxis2\": {\"anchor\": \"x2\", \"domain\": [0.7333333333333333, 1.0], \"matches\": \"y7\", \"showticklabels\": false}, \"yaxis3\": {\"anchor\": \"x3\", \"domain\": [0.7333333333333333, 1.0], \"matches\": \"y7\", \"showticklabels\": false}, \"yaxis4\": {\"anchor\": \"x4\", \"domain\": [0.36666666666666664, 0.6333333333333333], \"matches\": \"y7\"}, \"yaxis5\": {\"anchor\": \"x5\", \"domain\": [0.36666666666666664, 0.6333333333333333], \"matches\": \"y7\", \"showticklabels\": false}, \"yaxis6\": {\"anchor\": \"x6\", \"domain\": [0.36666666666666664, 0.6333333333333333], \"matches\": \"y7\", \"showticklabels\": false}, \"yaxis7\": {\"anchor\": \"x7\", \"domain\": [0.0, 0.26666666666666666]}, \"yaxis8\": {\"anchor\": \"x8\", \"domain\": [0.0, 0.26666666666666666], \"matches\": \"y7\", \"showticklabels\": false}, \"yaxis9\": {\"anchor\": \"x9\", \"domain\": [0.0, 0.26666666666666666], \"matches\": \"y7\", \"showticklabels\": false}},\n                        {\"responsive\": true}\n                    ).then(function(){\n                            \nvar gd = document.getElementById('44de5d32-7d40-4a5b-9db8-e37d58d41370');\nvar x = new MutationObserver(function (mutations, observer) {{\n        var display = window.getComputedStyle(gd).display;\n        if (!display || display === 'none') {{\n            console.log([gd, 'removed!']);\n            Plotly.purge(gd);\n            observer.disconnect();\n        }}\n}});\n\n// Listen for the removal of the full notebook cells\nvar notebookContainer = gd.closest('#notebook-container');\nif (notebookContainer) {{\n    x.observe(notebookContainer, {childList: true});\n}}\n\n// Listen for the clearing of the current output cell\nvar outputEl = gd.closest('.output');\nif (outputEl) {{\n    x.observe(outputEl, {childList: true});\n}}\n\n                        })\n                };\n                });\n            </script>\n        </div>"
     },
     "metadata": {}
    }
   ],
   "source": [
    "from plotly.offline import init_notebook_mode\n",
    "from plotly.subplots import make_subplots\n",
    "import plotly.graph_objects as go \n",
    "init_notebook_mode(connected=True)\n",
    "rows = ('cities', 'cc', 'ws')\n",
    "\n",
    "fig = make_subplots(rows=3, cols=3, shared_yaxes='all', column_titles=YEARS, row_titles=rows, x_title='Sections in Most Responded Questions (HOVER)', y_title='Frequency in Most Responded Questions')\n",
    "sections = {}\n",
    "for df, (name, data) in zip((cities, cc, ws), questions.items()):\n",
    "    if name == 'cities':\n",
    "        NUM_Q = 'Question Number'\n",
    "        ANS = 'Response Answer'\n",
    "        SECT = 'Parent Section'\n",
    "        ORG = 'Organization'\n",
    "    else:\n",
    "        NUM_Q = 'question_number'\n",
    "        ANS = 'response_value'\n",
    "        SECT = 'module_name'\n",
    "        ORG = 'organization'\n",
    "    sections[name] = {}\n",
    "    for i, (year, qs) in enumerate(data.items()):\n",
    "        dff = df[i][df[i][NUM_Q].isin(qs)].groupby([NUM_Q]).agg('first')[SECT].value_counts()\n",
    "        fig.add_trace(go.Bar(\n",
    "            x=dff.index, y=dff.values, showlegend=False\n",
    "        ), row=rows.index(name)+1, col=i+1)\n",
    "fig.update_xaxes(showticklabels=False)\n",
    "fig.show()"
   ]
  },
  {
   "cell_type": "code",
   "execution_count": 46,
   "metadata": {},
   "outputs": [
    {
     "output_type": "stream",
     "name": "stdout",
     "text": [
      "CITIES 2018\n"
     ]
    },
    {
     "output_type": "display_data",
     "data": {
      "text/plain": "Question Number   0.1   1.0  1.1 2.0a 2.0c 5.1a  1.2 1.4a  2.3 8.2b   8.4  \\\nColumn Number      2     0    0    2    1    2    2    2    2    1     5    \nMean Length      1217  1000  849  518  610  365  479  426  371  489   347   \nMedian Length     922   620  517  316  271  240  239  237  222  192   185   \ncount             467   422  394  265  281  465  330  664  356  486  1436   \n\nQuestion Number  5.0a 11.6a 4.0a  2.2a 3.1b   3.3 2.2b   8.1  5.2  2.4  3.6  \\\nColumn Number      2     2    3     10   2     4    2     5    4    3    3    \nMean Length       319   378  211   266  238   275  271   255  344  230  225   \nMedian Length     184   152  151   149  147   145  141   137  136  133  132   \ncount            1231    12  781  1598   90  1185   10  1004  836  923  214   \n\nQuestion Number 2.1a  3.5 9.3a  \nColumn Number     4    2    0   \nMean Length      217  325  273  \nMedian Length    132  121  119  \ncount             77  108   74  ",
      "text/html": "<div>\n<style scoped>\n    .dataframe tbody tr th:only-of-type {\n        vertical-align: middle;\n    }\n\n    .dataframe tbody tr th {\n        vertical-align: top;\n    }\n\n    .dataframe thead tr th {\n        text-align: left;\n    }\n</style>\n<table border=\"1\" class=\"dataframe\">\n  <thead>\n    <tr>\n      <th>Question Number</th>\n      <th>0.1</th>\n      <th>1.0</th>\n      <th>1.1</th>\n      <th>2.0a</th>\n      <th>2.0c</th>\n      <th>5.1a</th>\n      <th>1.2</th>\n      <th>1.4a</th>\n      <th>2.3</th>\n      <th>8.2b</th>\n      <th>8.4</th>\n      <th>5.0a</th>\n      <th>11.6a</th>\n      <th>4.0a</th>\n      <th>2.2a</th>\n      <th>3.1b</th>\n      <th>3.3</th>\n      <th>2.2b</th>\n      <th>8.1</th>\n      <th>5.2</th>\n      <th>2.4</th>\n      <th>3.6</th>\n      <th>2.1a</th>\n      <th>3.5</th>\n      <th>9.3a</th>\n    </tr>\n    <tr>\n      <th>Column Number</th>\n      <th>2</th>\n      <th>0</th>\n      <th>0</th>\n      <th>2</th>\n      <th>1</th>\n      <th>2</th>\n      <th>2</th>\n      <th>2</th>\n      <th>2</th>\n      <th>1</th>\n      <th>5</th>\n      <th>2</th>\n      <th>2</th>\n      <th>3</th>\n      <th>10</th>\n      <th>2</th>\n      <th>4</th>\n      <th>2</th>\n      <th>5</th>\n      <th>4</th>\n      <th>3</th>\n      <th>3</th>\n      <th>4</th>\n      <th>2</th>\n      <th>0</th>\n    </tr>\n  </thead>\n  <tbody>\n    <tr>\n      <th>Mean Length</th>\n      <td>1217</td>\n      <td>1000</td>\n      <td>849</td>\n      <td>518</td>\n      <td>610</td>\n      <td>365</td>\n      <td>479</td>\n      <td>426</td>\n      <td>371</td>\n      <td>489</td>\n      <td>347</td>\n      <td>319</td>\n      <td>378</td>\n      <td>211</td>\n      <td>266</td>\n      <td>238</td>\n      <td>275</td>\n      <td>271</td>\n      <td>255</td>\n      <td>344</td>\n      <td>230</td>\n      <td>225</td>\n      <td>217</td>\n      <td>325</td>\n      <td>273</td>\n    </tr>\n    <tr>\n      <th>Median Length</th>\n      <td>922</td>\n      <td>620</td>\n      <td>517</td>\n      <td>316</td>\n      <td>271</td>\n      <td>240</td>\n      <td>239</td>\n      <td>237</td>\n      <td>222</td>\n      <td>192</td>\n      <td>185</td>\n      <td>184</td>\n      <td>152</td>\n      <td>151</td>\n      <td>149</td>\n      <td>147</td>\n      <td>145</td>\n      <td>141</td>\n      <td>137</td>\n      <td>136</td>\n      <td>133</td>\n      <td>132</td>\n      <td>132</td>\n      <td>121</td>\n      <td>119</td>\n    </tr>\n    <tr>\n      <th>count</th>\n      <td>467</td>\n      <td>422</td>\n      <td>394</td>\n      <td>265</td>\n      <td>281</td>\n      <td>465</td>\n      <td>330</td>\n      <td>664</td>\n      <td>356</td>\n      <td>486</td>\n      <td>1436</td>\n      <td>1231</td>\n      <td>12</td>\n      <td>781</td>\n      <td>1598</td>\n      <td>90</td>\n      <td>1185</td>\n      <td>10</td>\n      <td>1004</td>\n      <td>836</td>\n      <td>923</td>\n      <td>214</td>\n      <td>77</td>\n      <td>108</td>\n      <td>74</td>\n    </tr>\n  </tbody>\n</table>\n</div>"
     },
     "metadata": {}
    },
    {
     "output_type": "stream",
     "name": "stdout",
     "text": [
      "CITIES 2019\n"
     ]
    },
    {
     "output_type": "display_data",
     "data": {
      "text/plain": "Question Number   0.1 2.0a   5.4  1.0a 5.2a   3.0 6.1a 1.1b  5.1   2.1   6.0  \\\nColumn Number      2    2     10    2    0     6    2    2    0     12    2    \nMean Length      1307  600   508   462  392   440  372  223  364   334   304   \nMedian Length     969  330   306   281  270   250  239  214  184   184   181   \ncount             792  497  3139  1807  190  2599  904    4  135  2982  2002   \n\nQuestion Number 8.0a 10.7a   2.2  14.4 5.3a   6.2 8.6a 5.0d 14.3a 13.6 4.11b  \\\nColumn Number     10    2     3     4    4     5    9    12    4    2     2    \nMean Length      351   332   241   279  187   351  304  605   200  230   201   \nMedian Length    161   160   155   142  138   137  135  128   126  124   122   \ncount            303    62  2233  1016   32  1180  172   73   984   49   171   \n\nQuestion Number 1.1a 1.11 8.0b  \nColumn Number     3    2    2   \nMean Length      293   98  216  \nMedian Length    115  113  107  \ncount            933   95  114  ",
      "text/html": "<div>\n<style scoped>\n    .dataframe tbody tr th:only-of-type {\n        vertical-align: middle;\n    }\n\n    .dataframe tbody tr th {\n        vertical-align: top;\n    }\n\n    .dataframe thead tr th {\n        text-align: left;\n    }\n</style>\n<table border=\"1\" class=\"dataframe\">\n  <thead>\n    <tr>\n      <th>Question Number</th>\n      <th>0.1</th>\n      <th>2.0a</th>\n      <th>5.4</th>\n      <th>1.0a</th>\n      <th>5.2a</th>\n      <th>3.0</th>\n      <th>6.1a</th>\n      <th>1.1b</th>\n      <th>5.1</th>\n      <th>2.1</th>\n      <th>6.0</th>\n      <th>8.0a</th>\n      <th>10.7a</th>\n      <th>2.2</th>\n      <th>14.4</th>\n      <th>5.3a</th>\n      <th>6.2</th>\n      <th>8.6a</th>\n      <th>5.0d</th>\n      <th>14.3a</th>\n      <th>13.6</th>\n      <th>4.11b</th>\n      <th>1.1a</th>\n      <th>1.11</th>\n      <th>8.0b</th>\n    </tr>\n    <tr>\n      <th>Column Number</th>\n      <th>2</th>\n      <th>2</th>\n      <th>10</th>\n      <th>2</th>\n      <th>0</th>\n      <th>6</th>\n      <th>2</th>\n      <th>2</th>\n      <th>0</th>\n      <th>12</th>\n      <th>2</th>\n      <th>10</th>\n      <th>2</th>\n      <th>3</th>\n      <th>4</th>\n      <th>4</th>\n      <th>5</th>\n      <th>9</th>\n      <th>12</th>\n      <th>4</th>\n      <th>2</th>\n      <th>2</th>\n      <th>3</th>\n      <th>2</th>\n      <th>2</th>\n    </tr>\n  </thead>\n  <tbody>\n    <tr>\n      <th>Mean Length</th>\n      <td>1307</td>\n      <td>600</td>\n      <td>508</td>\n      <td>462</td>\n      <td>392</td>\n      <td>440</td>\n      <td>372</td>\n      <td>223</td>\n      <td>364</td>\n      <td>334</td>\n      <td>304</td>\n      <td>351</td>\n      <td>332</td>\n      <td>241</td>\n      <td>279</td>\n      <td>187</td>\n      <td>351</td>\n      <td>304</td>\n      <td>605</td>\n      <td>200</td>\n      <td>230</td>\n      <td>201</td>\n      <td>293</td>\n      <td>98</td>\n      <td>216</td>\n    </tr>\n    <tr>\n      <th>Median Length</th>\n      <td>969</td>\n      <td>330</td>\n      <td>306</td>\n      <td>281</td>\n      <td>270</td>\n      <td>250</td>\n      <td>239</td>\n      <td>214</td>\n      <td>184</td>\n      <td>184</td>\n      <td>181</td>\n      <td>161</td>\n      <td>160</td>\n      <td>155</td>\n      <td>142</td>\n      <td>138</td>\n      <td>137</td>\n      <td>135</td>\n      <td>128</td>\n      <td>126</td>\n      <td>124</td>\n      <td>122</td>\n      <td>115</td>\n      <td>113</td>\n      <td>107</td>\n    </tr>\n    <tr>\n      <th>count</th>\n      <td>792</td>\n      <td>497</td>\n      <td>3139</td>\n      <td>1807</td>\n      <td>190</td>\n      <td>2599</td>\n      <td>904</td>\n      <td>4</td>\n      <td>135</td>\n      <td>2982</td>\n      <td>2002</td>\n      <td>303</td>\n      <td>62</td>\n      <td>2233</td>\n      <td>1016</td>\n      <td>32</td>\n      <td>1180</td>\n      <td>172</td>\n      <td>73</td>\n      <td>984</td>\n      <td>49</td>\n      <td>171</td>\n      <td>933</td>\n      <td>95</td>\n      <td>114</td>\n    </tr>\n  </tbody>\n</table>\n</div>"
     },
     "metadata": {}
    },
    {
     "output_type": "stream",
     "name": "stdout",
     "text": [
      "CITIES 2020\n"
     ]
    },
    {
     "output_type": "display_data",
     "data": {
      "text/plain": "Question Number   0.1   5.4   3.0   2.1 2.0a  6.2a   6.5   6.0   2.2  1.0a  \\\nColumn Number      2     10    8     12   2     3     7     2     4     2    \nMean Length      1420   568   565   444  514   372   455   361   289   406   \nMedian Length    1113   370   335   271  237   231   221   211   196   167   \ncount             555  2589  2473  2387  517  1247  1041  2126  2165  2322   \n\nQuestion Number  14.3 14.0   3.3 14.2a 13.0  4.3 3.2a 4.13   3.3  4.8   5.4  \\\nColumn Number      4    0     4     5    3    1    13   6     1    3     1    \nMean Length       275   47   197   162  160   54  301   49    84  232    53   \nMedian Length     112   75    74    74   70   69   68   60    57   53    53   \ncount            1182  850  1148  1148  363  546  569  608  1283  478  2760   \n\nQuestion Number 2.0a 2.0b   6.5  4.2  \nColumn Number     1    1     4    1   \nMean Length       48   51    41   37  \nMedian Length     46   43    43   42  \ncount            556  804  1026  551  ",
      "text/html": "<div>\n<style scoped>\n    .dataframe tbody tr th:only-of-type {\n        vertical-align: middle;\n    }\n\n    .dataframe tbody tr th {\n        vertical-align: top;\n    }\n\n    .dataframe thead tr th {\n        text-align: left;\n    }\n</style>\n<table border=\"1\" class=\"dataframe\">\n  <thead>\n    <tr>\n      <th>Question Number</th>\n      <th>0.1</th>\n      <th>5.4</th>\n      <th>3.0</th>\n      <th>2.1</th>\n      <th>2.0a</th>\n      <th>6.2a</th>\n      <th>6.5</th>\n      <th>6.0</th>\n      <th>2.2</th>\n      <th>1.0a</th>\n      <th>14.3</th>\n      <th>14.0</th>\n      <th>3.3</th>\n      <th>14.2a</th>\n      <th>13.0</th>\n      <th>4.3</th>\n      <th>3.2a</th>\n      <th>4.13</th>\n      <th>3.3</th>\n      <th>4.8</th>\n      <th>5.4</th>\n      <th>2.0a</th>\n      <th>2.0b</th>\n      <th>6.5</th>\n      <th>4.2</th>\n    </tr>\n    <tr>\n      <th>Column Number</th>\n      <th>2</th>\n      <th>10</th>\n      <th>8</th>\n      <th>12</th>\n      <th>2</th>\n      <th>3</th>\n      <th>7</th>\n      <th>2</th>\n      <th>4</th>\n      <th>2</th>\n      <th>4</th>\n      <th>0</th>\n      <th>4</th>\n      <th>5</th>\n      <th>3</th>\n      <th>1</th>\n      <th>13</th>\n      <th>6</th>\n      <th>1</th>\n      <th>3</th>\n      <th>1</th>\n      <th>1</th>\n      <th>1</th>\n      <th>4</th>\n      <th>1</th>\n    </tr>\n  </thead>\n  <tbody>\n    <tr>\n      <th>Mean Length</th>\n      <td>1420</td>\n      <td>568</td>\n      <td>565</td>\n      <td>444</td>\n      <td>514</td>\n      <td>372</td>\n      <td>455</td>\n      <td>361</td>\n      <td>289</td>\n      <td>406</td>\n      <td>275</td>\n      <td>47</td>\n      <td>197</td>\n      <td>162</td>\n      <td>160</td>\n      <td>54</td>\n      <td>301</td>\n      <td>49</td>\n      <td>84</td>\n      <td>232</td>\n      <td>53</td>\n      <td>48</td>\n      <td>51</td>\n      <td>41</td>\n      <td>37</td>\n    </tr>\n    <tr>\n      <th>Median Length</th>\n      <td>1113</td>\n      <td>370</td>\n      <td>335</td>\n      <td>271</td>\n      <td>237</td>\n      <td>231</td>\n      <td>221</td>\n      <td>211</td>\n      <td>196</td>\n      <td>167</td>\n      <td>112</td>\n      <td>75</td>\n      <td>74</td>\n      <td>74</td>\n      <td>70</td>\n      <td>69</td>\n      <td>68</td>\n      <td>60</td>\n      <td>57</td>\n      <td>53</td>\n      <td>53</td>\n      <td>46</td>\n      <td>43</td>\n      <td>43</td>\n      <td>42</td>\n    </tr>\n    <tr>\n      <th>count</th>\n      <td>555</td>\n      <td>2589</td>\n      <td>2473</td>\n      <td>2387</td>\n      <td>517</td>\n      <td>1247</td>\n      <td>1041</td>\n      <td>2126</td>\n      <td>2165</td>\n      <td>2322</td>\n      <td>1182</td>\n      <td>850</td>\n      <td>1148</td>\n      <td>1148</td>\n      <td>363</td>\n      <td>546</td>\n      <td>569</td>\n      <td>608</td>\n      <td>1283</td>\n      <td>478</td>\n      <td>2760</td>\n      <td>556</td>\n      <td>804</td>\n      <td>1026</td>\n      <td>551</td>\n    </tr>\n  </tbody>\n</table>\n</div>"
     },
     "metadata": {}
    },
    {
     "output_type": "stream",
     "name": "stdout",
     "text": [
      "CC 2018\n"
     ]
    },
    {
     "output_type": "display_data",
     "data": {
      "text/plain": "question_number C2.3a C12.1b C2.4a       C12.1a C2.3a C12.1a C12.1b C4.1a  \\\ncolumn_number    12.0   5.0   6.0   12.0   7.0   6.0    6.0    6.0   12.0   \nMean Length       631    635   641   605    669   605    596    511   520   \nMedian Length     532    503   497   496    489   460    441    361   359   \ncount            1893    425  1533  1481    463  1964    474    395   476   \n\nquestion_number C2.2c C4.5a C4.1b C12.3a C2.2a C2.3a C4.3c C2.4a C12.3a C4.5a  \\\ncolumn_number    2.0   2.0   13.0   3.0   3.0   11.0  2.0   11.0   4.0   6.0    \nMean Length       528   514   465    430   402   335   375   312    324   381   \nMedian Length     350   336   336    327   311   287   267   254    232   212   \ncount            4541   631   339    652   410  1882  1498  1457    618   490   \n\nquestion_number C6.10 C6.4a C4.1c C2.3a C4.3b C2.4a  \ncolumn_number    8.0   5.0   3.0   14.0  10.0  14.0  \nMean Length       296   255   340   202   250   176  \nMedian Length     206   203   186   138   131   127  \ncount             927   460   127  1559  1801  1173  ",
      "text/html": "<div>\n<style scoped>\n    .dataframe tbody tr th:only-of-type {\n        vertical-align: middle;\n    }\n\n    .dataframe tbody tr th {\n        vertical-align: top;\n    }\n\n    .dataframe thead tr th {\n        text-align: left;\n    }\n</style>\n<table border=\"1\" class=\"dataframe\">\n  <thead>\n    <tr>\n      <th>question_number</th>\n      <th>C2.3a</th>\n      <th>C12.1b</th>\n      <th colspan=\"2\" halign=\"left\">C2.4a</th>\n      <th>C12.1a</th>\n      <th>C2.3a</th>\n      <th>C12.1a</th>\n      <th>C12.1b</th>\n      <th>C4.1a</th>\n      <th>C2.2c</th>\n      <th>C4.5a</th>\n      <th>C4.1b</th>\n      <th>C12.3a</th>\n      <th>C2.2a</th>\n      <th>C2.3a</th>\n      <th>C4.3c</th>\n      <th>C2.4a</th>\n      <th>C12.3a</th>\n      <th>C4.5a</th>\n      <th>C6.10</th>\n      <th>C6.4a</th>\n      <th>C4.1c</th>\n      <th>C2.3a</th>\n      <th>C4.3b</th>\n      <th>C2.4a</th>\n    </tr>\n    <tr>\n      <th>column_number</th>\n      <th>12.0</th>\n      <th>5.0</th>\n      <th>6.0</th>\n      <th>12.0</th>\n      <th>7.0</th>\n      <th>6.0</th>\n      <th>6.0</th>\n      <th>6.0</th>\n      <th>12.0</th>\n      <th>2.0</th>\n      <th>2.0</th>\n      <th>13.0</th>\n      <th>3.0</th>\n      <th>3.0</th>\n      <th>11.0</th>\n      <th>2.0</th>\n      <th>11.0</th>\n      <th>4.0</th>\n      <th>6.0</th>\n      <th>8.0</th>\n      <th>5.0</th>\n      <th>3.0</th>\n      <th>14.0</th>\n      <th>10.0</th>\n      <th>14.0</th>\n    </tr>\n  </thead>\n  <tbody>\n    <tr>\n      <th>Mean Length</th>\n      <td>631</td>\n      <td>635</td>\n      <td>641</td>\n      <td>605</td>\n      <td>669</td>\n      <td>605</td>\n      <td>596</td>\n      <td>511</td>\n      <td>520</td>\n      <td>528</td>\n      <td>514</td>\n      <td>465</td>\n      <td>430</td>\n      <td>402</td>\n      <td>335</td>\n      <td>375</td>\n      <td>312</td>\n      <td>324</td>\n      <td>381</td>\n      <td>296</td>\n      <td>255</td>\n      <td>340</td>\n      <td>202</td>\n      <td>250</td>\n      <td>176</td>\n    </tr>\n    <tr>\n      <th>Median Length</th>\n      <td>532</td>\n      <td>503</td>\n      <td>497</td>\n      <td>496</td>\n      <td>489</td>\n      <td>460</td>\n      <td>441</td>\n      <td>361</td>\n      <td>359</td>\n      <td>350</td>\n      <td>336</td>\n      <td>336</td>\n      <td>327</td>\n      <td>311</td>\n      <td>287</td>\n      <td>267</td>\n      <td>254</td>\n      <td>232</td>\n      <td>212</td>\n      <td>206</td>\n      <td>203</td>\n      <td>186</td>\n      <td>138</td>\n      <td>131</td>\n      <td>127</td>\n    </tr>\n    <tr>\n      <th>count</th>\n      <td>1893</td>\n      <td>425</td>\n      <td>1533</td>\n      <td>1481</td>\n      <td>463</td>\n      <td>1964</td>\n      <td>474</td>\n      <td>395</td>\n      <td>476</td>\n      <td>4541</td>\n      <td>631</td>\n      <td>339</td>\n      <td>652</td>\n      <td>410</td>\n      <td>1882</td>\n      <td>1498</td>\n      <td>1457</td>\n      <td>618</td>\n      <td>490</td>\n      <td>927</td>\n      <td>460</td>\n      <td>127</td>\n      <td>1559</td>\n      <td>1801</td>\n      <td>1173</td>\n    </tr>\n  </tbody>\n</table>\n</div>"
     },
     "metadata": {}
    },
    {
     "output_type": "stream",
     "name": "stdout",
     "text": [
      "CC 2019\n"
     ]
    },
    {
     "output_type": "display_data",
     "data": {
      "text/plain": "question_number C2.4a C2.3a       C2.4a C4.3c C2.3a C2.4a C6.10 C2.2c C4.3b  \\\ncolumn_number    6.0   6.0   15.0  15.0  2.0   14.0  14.0  8.0   2.0   10.0   \nMean Length       583   563   570   546   321   281   256   244   394   206   \nMedian Length     424   410   396   356   210   206   176   147   108    82   \ncount            1810  2144  2037  1725  1722  2006  1681  1017  5327  1872   \n\nquestion_number C2.3a C2.4a C12.3a C2.3a C8.2f C7.1a C12.1a C4.3c C2.4a C4.3b  \\\ncolumn_number    5.0   5.0    3.0   4.0   1.0   3.0    2.0   1.0   4.0   1.0    \nMean Length        66    67    229    49    56    30     50    29    34    31   \nMedian Length      77    74     72    52    51    46     45    35    32    30   \ncount            1990  1816    747  2157   971  1732    602  1792  1822  2341   \n\nquestion_number C4.5a C2.3a C2.4a C8.2c C2.2c  \ncolumn_number    2.0   10.0  10.0  2.0   1.0   \nMean Length       294    23    22    22    16  \nMedian Length      29    29    29    26    25  \ncount             716  2087  1740  2456  5896  ",
      "text/html": "<div>\n<style scoped>\n    .dataframe tbody tr th:only-of-type {\n        vertical-align: middle;\n    }\n\n    .dataframe tbody tr th {\n        vertical-align: top;\n    }\n\n    .dataframe thead tr th {\n        text-align: left;\n    }\n</style>\n<table border=\"1\" class=\"dataframe\">\n  <thead>\n    <tr>\n      <th>question_number</th>\n      <th>C2.4a</th>\n      <th colspan=\"2\" halign=\"left\">C2.3a</th>\n      <th>C2.4a</th>\n      <th>C4.3c</th>\n      <th>C2.3a</th>\n      <th>C2.4a</th>\n      <th>C6.10</th>\n      <th>C2.2c</th>\n      <th>C4.3b</th>\n      <th>C2.3a</th>\n      <th>C2.4a</th>\n      <th>C12.3a</th>\n      <th>C2.3a</th>\n      <th>C8.2f</th>\n      <th>C7.1a</th>\n      <th>C12.1a</th>\n      <th>C4.3c</th>\n      <th>C2.4a</th>\n      <th>C4.3b</th>\n      <th>C4.5a</th>\n      <th>C2.3a</th>\n      <th>C2.4a</th>\n      <th>C8.2c</th>\n      <th>C2.2c</th>\n    </tr>\n    <tr>\n      <th>column_number</th>\n      <th>6.0</th>\n      <th>6.0</th>\n      <th>15.0</th>\n      <th>15.0</th>\n      <th>2.0</th>\n      <th>14.0</th>\n      <th>14.0</th>\n      <th>8.0</th>\n      <th>2.0</th>\n      <th>10.0</th>\n      <th>5.0</th>\n      <th>5.0</th>\n      <th>3.0</th>\n      <th>4.0</th>\n      <th>1.0</th>\n      <th>3.0</th>\n      <th>2.0</th>\n      <th>1.0</th>\n      <th>4.0</th>\n      <th>1.0</th>\n      <th>2.0</th>\n      <th>10.0</th>\n      <th>10.0</th>\n      <th>2.0</th>\n      <th>1.0</th>\n    </tr>\n  </thead>\n  <tbody>\n    <tr>\n      <th>Mean Length</th>\n      <td>583</td>\n      <td>563</td>\n      <td>570</td>\n      <td>546</td>\n      <td>321</td>\n      <td>281</td>\n      <td>256</td>\n      <td>244</td>\n      <td>394</td>\n      <td>206</td>\n      <td>66</td>\n      <td>67</td>\n      <td>229</td>\n      <td>49</td>\n      <td>56</td>\n      <td>30</td>\n      <td>50</td>\n      <td>29</td>\n      <td>34</td>\n      <td>31</td>\n      <td>294</td>\n      <td>23</td>\n      <td>22</td>\n      <td>22</td>\n      <td>16</td>\n    </tr>\n    <tr>\n      <th>Median Length</th>\n      <td>424</td>\n      <td>410</td>\n      <td>396</td>\n      <td>356</td>\n      <td>210</td>\n      <td>206</td>\n      <td>176</td>\n      <td>147</td>\n      <td>108</td>\n      <td>82</td>\n      <td>77</td>\n      <td>74</td>\n      <td>72</td>\n      <td>52</td>\n      <td>51</td>\n      <td>46</td>\n      <td>45</td>\n      <td>35</td>\n      <td>32</td>\n      <td>30</td>\n      <td>29</td>\n      <td>29</td>\n      <td>29</td>\n      <td>26</td>\n      <td>25</td>\n    </tr>\n    <tr>\n      <th>count</th>\n      <td>1810</td>\n      <td>2144</td>\n      <td>2037</td>\n      <td>1725</td>\n      <td>1722</td>\n      <td>2006</td>\n      <td>1681</td>\n      <td>1017</td>\n      <td>5327</td>\n      <td>1872</td>\n      <td>1990</td>\n      <td>1816</td>\n      <td>747</td>\n      <td>2157</td>\n      <td>971</td>\n      <td>1732</td>\n      <td>602</td>\n      <td>1792</td>\n      <td>1822</td>\n      <td>2341</td>\n      <td>716</td>\n      <td>2087</td>\n      <td>1740</td>\n      <td>2456</td>\n      <td>5896</td>\n    </tr>\n  </tbody>\n</table>\n</div>"
     },
     "metadata": {}
    },
    {
     "output_type": "stream",
     "name": "stdout",
     "text": [
      "CC 2020\n"
     ]
    },
    {
     "output_type": "display_data",
     "data": {
      "text/plain": "question_number C2.4a       C2.3a C2.2a C4.3c C2.3a C2.4a C12.1a C6.10 C12.1a  \\\ncolumn_number    6.0   16.0  16.0  2.0   2.0   14.0  14.0   6.0   8.0    7.0    \nMean Length       652   664   667   496   342   320   291    428   266    441   \nMedian Length     470   422   406   235   219   211   184    167   167    149   \ncount            2035  1894  2179  4930  1842  2121  1816    695  1072    694   \n\nquestion_number C12.3a C12.1b C4.3b C2.2 C12.1b C12.1a C8.2c C8.2e C4.5a  \\\ncolumn_number     3.0    6.0   9.0  2.0    2.0    2.0   11.0  1.0   2.0    \nMean Length        243    403   207   50     56     57    94    55   348   \nMedian Length      103    101    82   71     64     63    61    61    53   \ncount              809    592  2006  903    604    723  2448   995   780   \n\nquestion_number C4.1a C7.1a C4.1a C2.4a C2.3a C4.3c  \ncolumn_number    14.0  3.0   15.0  4.0   4.0   1.0   \nMean Length        49    37   315    42    36    30  \nMedian Length      53    46    40    39    36    35  \ncount             679  1748   662  2047  2196  1938  ",
      "text/html": "<div>\n<style scoped>\n    .dataframe tbody tr th:only-of-type {\n        vertical-align: middle;\n    }\n\n    .dataframe tbody tr th {\n        vertical-align: top;\n    }\n\n    .dataframe thead tr th {\n        text-align: left;\n    }\n</style>\n<table border=\"1\" class=\"dataframe\">\n  <thead>\n    <tr>\n      <th>question_number</th>\n      <th colspan=\"2\" halign=\"left\">C2.4a</th>\n      <th>C2.3a</th>\n      <th>C2.2a</th>\n      <th>C4.3c</th>\n      <th>C2.3a</th>\n      <th>C2.4a</th>\n      <th>C12.1a</th>\n      <th>C6.10</th>\n      <th>C12.1a</th>\n      <th>C12.3a</th>\n      <th>C12.1b</th>\n      <th>C4.3b</th>\n      <th>C2.2</th>\n      <th>C12.1b</th>\n      <th>C12.1a</th>\n      <th>C8.2c</th>\n      <th>C8.2e</th>\n      <th>C4.5a</th>\n      <th>C4.1a</th>\n      <th>C7.1a</th>\n      <th>C4.1a</th>\n      <th>C2.4a</th>\n      <th>C2.3a</th>\n      <th>C4.3c</th>\n    </tr>\n    <tr>\n      <th>column_number</th>\n      <th>6.0</th>\n      <th>16.0</th>\n      <th>16.0</th>\n      <th>2.0</th>\n      <th>2.0</th>\n      <th>14.0</th>\n      <th>14.0</th>\n      <th>6.0</th>\n      <th>8.0</th>\n      <th>7.0</th>\n      <th>3.0</th>\n      <th>6.0</th>\n      <th>9.0</th>\n      <th>2.0</th>\n      <th>2.0</th>\n      <th>2.0</th>\n      <th>11.0</th>\n      <th>1.0</th>\n      <th>2.0</th>\n      <th>14.0</th>\n      <th>3.0</th>\n      <th>15.0</th>\n      <th>4.0</th>\n      <th>4.0</th>\n      <th>1.0</th>\n    </tr>\n  </thead>\n  <tbody>\n    <tr>\n      <th>Mean Length</th>\n      <td>652</td>\n      <td>664</td>\n      <td>667</td>\n      <td>496</td>\n      <td>342</td>\n      <td>320</td>\n      <td>291</td>\n      <td>428</td>\n      <td>266</td>\n      <td>441</td>\n      <td>243</td>\n      <td>403</td>\n      <td>207</td>\n      <td>50</td>\n      <td>56</td>\n      <td>57</td>\n      <td>94</td>\n      <td>55</td>\n      <td>348</td>\n      <td>49</td>\n      <td>37</td>\n      <td>315</td>\n      <td>42</td>\n      <td>36</td>\n      <td>30</td>\n    </tr>\n    <tr>\n      <th>Median Length</th>\n      <td>470</td>\n      <td>422</td>\n      <td>406</td>\n      <td>235</td>\n      <td>219</td>\n      <td>211</td>\n      <td>184</td>\n      <td>167</td>\n      <td>167</td>\n      <td>149</td>\n      <td>103</td>\n      <td>101</td>\n      <td>82</td>\n      <td>71</td>\n      <td>64</td>\n      <td>63</td>\n      <td>61</td>\n      <td>61</td>\n      <td>53</td>\n      <td>53</td>\n      <td>46</td>\n      <td>40</td>\n      <td>39</td>\n      <td>36</td>\n      <td>35</td>\n    </tr>\n    <tr>\n      <th>count</th>\n      <td>2035</td>\n      <td>1894</td>\n      <td>2179</td>\n      <td>4930</td>\n      <td>1842</td>\n      <td>2121</td>\n      <td>1816</td>\n      <td>695</td>\n      <td>1072</td>\n      <td>694</td>\n      <td>809</td>\n      <td>592</td>\n      <td>2006</td>\n      <td>903</td>\n      <td>604</td>\n      <td>723</td>\n      <td>2448</td>\n      <td>995</td>\n      <td>780</td>\n      <td>679</td>\n      <td>1748</td>\n      <td>662</td>\n      <td>2047</td>\n      <td>2196</td>\n      <td>1938</td>\n    </tr>\n  </tbody>\n</table>\n</div>"
     },
     "metadata": {}
    },
    {
     "output_type": "stream",
     "name": "stdout",
     "text": [
      "WS 2018\n"
     ]
    },
    {
     "output_type": "display_data",
     "data": {
      "text/plain": "question_number W1.4a W-EU3.1a W-FB3.1a W1.4a W4.3a W-OG3.1a W-MM3.2a W4.2  \\\ncolumn_number    4.0      4.0      5.0   3.0   3.0      5.0      3.0  13.0   \nMean Length       612      830      801   593   697      608      830  540   \nMedian Length     716      687      651   611   605      525      453  452   \ncount              87       49       40   106   313       27       35  327   \n\nquestion_number W1.4b W1.1 W8.1 W1.4b W9.1a      W8.1b W-MM3.2a W4.2a W4.2  \\\ncolumn_number    6.0  3.0  3.0   5.0   3.0  4.0   8.0      2.0   14.0 6.0    \nMean Length       444  496  618   430   414  477   441      342   526  445   \nMedian Length     441  429  410   381   380  377   358      351   346  346   \ncount             111  387  170   117   220  212   222       35    88  340   \n\nquestion_number W8.1b W4.2a W1.2j W-FB3.1a W3.3b W1.2b W3.3c  \ncolumn_number    4.0   7.0   3.0      3.0   2.0   3.0   2.0   \nMean Length       442   438   426      474   420   338   383  \nMedian Length     345   345   332      316   284   258   237  \ncount             229    89   124       40  1139   519  1695  ",
      "text/html": "<div>\n<style scoped>\n    .dataframe tbody tr th:only-of-type {\n        vertical-align: middle;\n    }\n\n    .dataframe tbody tr th {\n        vertical-align: top;\n    }\n\n    .dataframe thead tr th {\n        text-align: left;\n    }\n</style>\n<table border=\"1\" class=\"dataframe\">\n  <thead>\n    <tr>\n      <th>question_number</th>\n      <th>W1.4a</th>\n      <th>W-EU3.1a</th>\n      <th>W-FB3.1a</th>\n      <th>W1.4a</th>\n      <th>W4.3a</th>\n      <th>W-OG3.1a</th>\n      <th>W-MM3.2a</th>\n      <th>W4.2</th>\n      <th>W1.4b</th>\n      <th>W1.1</th>\n      <th>W8.1</th>\n      <th>W1.4b</th>\n      <th colspan=\"2\" halign=\"left\">W9.1a</th>\n      <th>W8.1b</th>\n      <th>W-MM3.2a</th>\n      <th>W4.2a</th>\n      <th>W4.2</th>\n      <th>W8.1b</th>\n      <th>W4.2a</th>\n      <th>W1.2j</th>\n      <th>W-FB3.1a</th>\n      <th>W3.3b</th>\n      <th>W1.2b</th>\n      <th>W3.3c</th>\n    </tr>\n    <tr>\n      <th>column_number</th>\n      <th>4.0</th>\n      <th>4.0</th>\n      <th>5.0</th>\n      <th>3.0</th>\n      <th>3.0</th>\n      <th>5.0</th>\n      <th>3.0</th>\n      <th>13.0</th>\n      <th>6.0</th>\n      <th>3.0</th>\n      <th>3.0</th>\n      <th>5.0</th>\n      <th>3.0</th>\n      <th>4.0</th>\n      <th>8.0</th>\n      <th>2.0</th>\n      <th>14.0</th>\n      <th>6.0</th>\n      <th>4.0</th>\n      <th>7.0</th>\n      <th>3.0</th>\n      <th>3.0</th>\n      <th>2.0</th>\n      <th>3.0</th>\n      <th>2.0</th>\n    </tr>\n  </thead>\n  <tbody>\n    <tr>\n      <th>Mean Length</th>\n      <td>612</td>\n      <td>830</td>\n      <td>801</td>\n      <td>593</td>\n      <td>697</td>\n      <td>608</td>\n      <td>830</td>\n      <td>540</td>\n      <td>444</td>\n      <td>496</td>\n      <td>618</td>\n      <td>430</td>\n      <td>414</td>\n      <td>477</td>\n      <td>441</td>\n      <td>342</td>\n      <td>526</td>\n      <td>445</td>\n      <td>442</td>\n      <td>438</td>\n      <td>426</td>\n      <td>474</td>\n      <td>420</td>\n      <td>338</td>\n      <td>383</td>\n    </tr>\n    <tr>\n      <th>Median Length</th>\n      <td>716</td>\n      <td>687</td>\n      <td>651</td>\n      <td>611</td>\n      <td>605</td>\n      <td>525</td>\n      <td>453</td>\n      <td>452</td>\n      <td>441</td>\n      <td>429</td>\n      <td>410</td>\n      <td>381</td>\n      <td>380</td>\n      <td>377</td>\n      <td>358</td>\n      <td>351</td>\n      <td>346</td>\n      <td>346</td>\n      <td>345</td>\n      <td>345</td>\n      <td>332</td>\n      <td>316</td>\n      <td>284</td>\n      <td>258</td>\n      <td>237</td>\n    </tr>\n    <tr>\n      <th>count</th>\n      <td>87</td>\n      <td>49</td>\n      <td>40</td>\n      <td>106</td>\n      <td>313</td>\n      <td>27</td>\n      <td>35</td>\n      <td>327</td>\n      <td>111</td>\n      <td>387</td>\n      <td>170</td>\n      <td>117</td>\n      <td>220</td>\n      <td>212</td>\n      <td>222</td>\n      <td>35</td>\n      <td>88</td>\n      <td>340</td>\n      <td>229</td>\n      <td>89</td>\n      <td>124</td>\n      <td>40</td>\n      <td>1139</td>\n      <td>519</td>\n      <td>1695</td>\n    </tr>\n  </tbody>\n</table>\n</div>"
     },
     "metadata": {}
    },
    {
     "output_type": "stream",
     "name": "stdout",
     "text": [
      "WS 2019\n"
     ]
    },
    {
     "output_type": "display_data",
     "data": {
      "text/plain": "question_number W4.3a W1.1 W4.2 W8.1 W4.2 W9.1a      W1.2b W8.1a W8.1b W5.1  \\\ncolumn_number    3.0  3.0  6.0  3.0  16.0  3.0  4.0   3.0   11.0  4.0  15.0   \nMean Length       567  518  336  507  375   288  342   286   213   330  178   \nMedian Length     473  365  250  249  249   191  159   137   113   109  109   \ncount             312  477  342  191  330   235  230   578   227   217  637   \n\nquestion_number W0.6a W8.1b W3.3b W3.3c W8.1a W4.3a  W1.2 W4.2 W5.1c W4.2  \\\ncolumn_number    2.0   8.0   2.0   2.0   5.0   10.0  2.0  18.0  5.0  14.0   \nMean Length       181   320   329   296   202   217   204  148   131  164   \nMedian Length     104   102    97    97    89    85    84   74    69   64   \ncount             194   211  1264  1888   236   294  2290  323   579  318   \n\nquestion_number W1.2h W8.1      W8.1a  \ncolumn_number    4.0  2.0  1.0   6.0   \nMean Length       165   50   67    32  \nMedian Length      54   44   43    38  \ncount             959  205  262   235  ",
      "text/html": "<div>\n<style scoped>\n    .dataframe tbody tr th:only-of-type {\n        vertical-align: middle;\n    }\n\n    .dataframe tbody tr th {\n        vertical-align: top;\n    }\n\n    .dataframe thead tr th {\n        text-align: left;\n    }\n</style>\n<table border=\"1\" class=\"dataframe\">\n  <thead>\n    <tr>\n      <th>question_number</th>\n      <th>W4.3a</th>\n      <th>W1.1</th>\n      <th>W4.2</th>\n      <th>W8.1</th>\n      <th>W4.2</th>\n      <th colspan=\"2\" halign=\"left\">W9.1a</th>\n      <th>W1.2b</th>\n      <th>W8.1a</th>\n      <th>W8.1b</th>\n      <th>W5.1</th>\n      <th>W0.6a</th>\n      <th>W8.1b</th>\n      <th>W3.3b</th>\n      <th>W3.3c</th>\n      <th>W8.1a</th>\n      <th>W4.3a</th>\n      <th>W1.2</th>\n      <th>W4.2</th>\n      <th>W5.1c</th>\n      <th>W4.2</th>\n      <th>W1.2h</th>\n      <th colspan=\"2\" halign=\"left\">W8.1</th>\n      <th>W8.1a</th>\n    </tr>\n    <tr>\n      <th>column_number</th>\n      <th>3.0</th>\n      <th>3.0</th>\n      <th>6.0</th>\n      <th>3.0</th>\n      <th>16.0</th>\n      <th>3.0</th>\n      <th>4.0</th>\n      <th>3.0</th>\n      <th>11.0</th>\n      <th>4.0</th>\n      <th>15.0</th>\n      <th>2.0</th>\n      <th>8.0</th>\n      <th>2.0</th>\n      <th>2.0</th>\n      <th>5.0</th>\n      <th>10.0</th>\n      <th>2.0</th>\n      <th>18.0</th>\n      <th>5.0</th>\n      <th>14.0</th>\n      <th>4.0</th>\n      <th>2.0</th>\n      <th>1.0</th>\n      <th>6.0</th>\n    </tr>\n  </thead>\n  <tbody>\n    <tr>\n      <th>Mean Length</th>\n      <td>567</td>\n      <td>518</td>\n      <td>336</td>\n      <td>507</td>\n      <td>375</td>\n      <td>288</td>\n      <td>342</td>\n      <td>286</td>\n      <td>213</td>\n      <td>330</td>\n      <td>178</td>\n      <td>181</td>\n      <td>320</td>\n      <td>329</td>\n      <td>296</td>\n      <td>202</td>\n      <td>217</td>\n      <td>204</td>\n      <td>148</td>\n      <td>131</td>\n      <td>164</td>\n      <td>165</td>\n      <td>50</td>\n      <td>67</td>\n      <td>32</td>\n    </tr>\n    <tr>\n      <th>Median Length</th>\n      <td>473</td>\n      <td>365</td>\n      <td>250</td>\n      <td>249</td>\n      <td>249</td>\n      <td>191</td>\n      <td>159</td>\n      <td>137</td>\n      <td>113</td>\n      <td>109</td>\n      <td>109</td>\n      <td>104</td>\n      <td>102</td>\n      <td>97</td>\n      <td>97</td>\n      <td>89</td>\n      <td>85</td>\n      <td>84</td>\n      <td>74</td>\n      <td>69</td>\n      <td>64</td>\n      <td>54</td>\n      <td>44</td>\n      <td>43</td>\n      <td>38</td>\n    </tr>\n    <tr>\n      <th>count</th>\n      <td>312</td>\n      <td>477</td>\n      <td>342</td>\n      <td>191</td>\n      <td>330</td>\n      <td>235</td>\n      <td>230</td>\n      <td>578</td>\n      <td>227</td>\n      <td>217</td>\n      <td>637</td>\n      <td>194</td>\n      <td>211</td>\n      <td>1264</td>\n      <td>1888</td>\n      <td>236</td>\n      <td>294</td>\n      <td>2290</td>\n      <td>323</td>\n      <td>579</td>\n      <td>318</td>\n      <td>959</td>\n      <td>205</td>\n      <td>262</td>\n      <td>235</td>\n    </tr>\n  </tbody>\n</table>\n</div>"
     },
     "metadata": {}
    },
    {
     "output_type": "stream",
     "name": "stdout",
     "text": [
      "WS 2020\n"
     ]
    },
    {
     "output_type": "display_data",
     "data": {
      "text/plain": "question_number W4.3a W1.1 W8.1 W4.2      W1.2b W3.3c W3.3b W8.1a W4.3a W8.1b  \\\ncolumn_number    3.0  3.0  3.0  4.0  14.0  3.0   2.0   2.0   11.0  10.0  4.0    \nMean Length       703  610  608  397  416   339   352   405   244   249   359   \nMedian Length     579  455  348  249  217   191   147   144   143   116   113   \ncount             353  532  217  356  348   647  2286  1518   285   340   232   \n\nquestion_number      W5.1 W8.1a W1.4b  W1.2 W0.6a W4.2      W3.3a W1.2h W8.1  \\\ncolumn_number   8.0  25.0  5.0   5.0   2.0   2.0  16.0 12.0  7.0   4.0  2.0    \nMean Length      357  223   220   324   219   197  201  234   284   174   53   \nMedian Length    105  105   100    98    93    90   84   72    62    60   44   \ncount            229  651   292   175  2324   204  333  323   458  1030  233   \n\nquestion_number      W8.1a W8.1b  \ncolumn_number   1.0   6.0   1.0   \nMean Length       74    38    39  \nMedian Length     43    38    36  \ncount            290   290   234  ",
      "text/html": "<div>\n<style scoped>\n    .dataframe tbody tr th:only-of-type {\n        vertical-align: middle;\n    }\n\n    .dataframe tbody tr th {\n        vertical-align: top;\n    }\n\n    .dataframe thead tr th {\n        text-align: left;\n    }\n</style>\n<table border=\"1\" class=\"dataframe\">\n  <thead>\n    <tr>\n      <th>question_number</th>\n      <th>W4.3a</th>\n      <th>W1.1</th>\n      <th>W8.1</th>\n      <th colspan=\"2\" halign=\"left\">W4.2</th>\n      <th>W1.2b</th>\n      <th>W3.3c</th>\n      <th>W3.3b</th>\n      <th>W8.1a</th>\n      <th>W4.3a</th>\n      <th colspan=\"2\" halign=\"left\">W8.1b</th>\n      <th>W5.1</th>\n      <th>W8.1a</th>\n      <th>W1.4b</th>\n      <th>W1.2</th>\n      <th>W0.6a</th>\n      <th colspan=\"2\" halign=\"left\">W4.2</th>\n      <th>W3.3a</th>\n      <th>W1.2h</th>\n      <th colspan=\"2\" halign=\"left\">W8.1</th>\n      <th>W8.1a</th>\n      <th>W8.1b</th>\n    </tr>\n    <tr>\n      <th>column_number</th>\n      <th>3.0</th>\n      <th>3.0</th>\n      <th>3.0</th>\n      <th>4.0</th>\n      <th>14.0</th>\n      <th>3.0</th>\n      <th>2.0</th>\n      <th>2.0</th>\n      <th>11.0</th>\n      <th>10.0</th>\n      <th>4.0</th>\n      <th>8.0</th>\n      <th>25.0</th>\n      <th>5.0</th>\n      <th>5.0</th>\n      <th>2.0</th>\n      <th>2.0</th>\n      <th>16.0</th>\n      <th>12.0</th>\n      <th>7.0</th>\n      <th>4.0</th>\n      <th>2.0</th>\n      <th>1.0</th>\n      <th>6.0</th>\n      <th>1.0</th>\n    </tr>\n  </thead>\n  <tbody>\n    <tr>\n      <th>Mean Length</th>\n      <td>703</td>\n      <td>610</td>\n      <td>608</td>\n      <td>397</td>\n      <td>416</td>\n      <td>339</td>\n      <td>352</td>\n      <td>405</td>\n      <td>244</td>\n      <td>249</td>\n      <td>359</td>\n      <td>357</td>\n      <td>223</td>\n      <td>220</td>\n      <td>324</td>\n      <td>219</td>\n      <td>197</td>\n      <td>201</td>\n      <td>234</td>\n      <td>284</td>\n      <td>174</td>\n      <td>53</td>\n      <td>74</td>\n      <td>38</td>\n      <td>39</td>\n    </tr>\n    <tr>\n      <th>Median Length</th>\n      <td>579</td>\n      <td>455</td>\n      <td>348</td>\n      <td>249</td>\n      <td>217</td>\n      <td>191</td>\n      <td>147</td>\n      <td>144</td>\n      <td>143</td>\n      <td>116</td>\n      <td>113</td>\n      <td>105</td>\n      <td>105</td>\n      <td>100</td>\n      <td>98</td>\n      <td>93</td>\n      <td>90</td>\n      <td>84</td>\n      <td>72</td>\n      <td>62</td>\n      <td>60</td>\n      <td>44</td>\n      <td>43</td>\n      <td>38</td>\n      <td>36</td>\n    </tr>\n    <tr>\n      <th>count</th>\n      <td>353</td>\n      <td>532</td>\n      <td>217</td>\n      <td>356</td>\n      <td>348</td>\n      <td>647</td>\n      <td>2286</td>\n      <td>1518</td>\n      <td>285</td>\n      <td>340</td>\n      <td>232</td>\n      <td>229</td>\n      <td>651</td>\n      <td>292</td>\n      <td>175</td>\n      <td>2324</td>\n      <td>204</td>\n      <td>333</td>\n      <td>323</td>\n      <td>458</td>\n      <td>1030</td>\n      <td>233</td>\n      <td>290</td>\n      <td>290</td>\n      <td>234</td>\n    </tr>\n  </tbody>\n</table>\n</div>"
     },
     "metadata": {}
    }
   ],
   "source": [
    "pd.set_option('display.max_columns', 30)\n",
    "for dfs, (name, data) in zip((cities, cc, ws), questions.items()):\n",
    "    if name == 'cities':\n",
    "        NUM_Q = 'Question Number'\n",
    "        ANS = 'Response Answer'\n",
    "        SECT = 'Parent Section'\n",
    "        ORG = 'Organization'\n",
    "        NUM_C = 'Column Number'\n",
    "        NUM_R = 'Row Number'\n",
    "    else:\n",
    "        NUM_Q = 'question_number'\n",
    "        ANS = 'response_value'\n",
    "        SECT = 'module_name'\n",
    "        ORG = 'organization'\n",
    "        NUM_C = 'column_number'\n",
    "        NUM_R = 'row_number'\n",
    "    for year, df in zip(YEARS, dfs):\n",
    "        print(name.upper(), year)\n",
    "        dff = df\\\n",
    "            .groupby([NUM_Q, NUM_C])\\\n",
    "            .agg([\n",
    "                lambda s: int(s.astype('str').str.len().mean()), \n",
    "                lambda s: int(s.astype('str').str.len().median()),\n",
    "                'count'])\\\n",
    "            [ANS]\\\n",
    "                .rename(columns={'<lambda_0>':'Mean Length', '<lambda_1>':'Median Length'})\\\n",
    "                .sort_values(['Median Length', 'Mean Length', 'count'], ascending=False)\\\n",
    "                .head(25)\\\n",
    "                .T\n",
    "        display(dff)"
   ]
  },
  {
   "source": [
    "## Random extra code for Raphael looking at factors affecting response to climate change hazards and the percent of countries that found this to be challenging"
   ],
   "cell_type": "markdown",
   "metadata": {}
  },
  {
   "cell_type": "code",
   "execution_count": 53,
   "metadata": {},
   "outputs": [],
   "source": [
    "df = cities[2]\n",
    "NUM_Q = 'Question Number'\n",
    "ANS = 'Response Answer'\n",
    "NUM_C = 'Column Number'\n",
    "ORG = 'Organization'\n",
    "NUM_R = 'Row Number'\n",
    "dff = df[df[NUM_Q] == '2.2']\n",
    "dfff = dff[dff[NUM_C] == 1]\n",
    "dffc = dff[dff[NUM_C] == 2]\n",
    "dfff['Challenge'] = dfff.apply(lambda row: dffc[(dffc[ORG] == row[ORG]) & (dffc[NUM_R] == row[NUM_R])][ANS].values[0], axis=1)"
   ]
  },
  {
   "cell_type": "code",
   "execution_count": 59,
   "metadata": {},
   "outputs": [
    {
     "output_type": "execute_result",
     "data": {
      "text/plain": [
       "                                                    Challenge\n",
       "Factors                                                      \n",
       "Safety and security: Disaster clean up                 100.00\n",
       "Underemployment                                        100.00\n",
       "Inequality                                              96.47\n",
       "Poverty                                                 93.58\n",
       "Rapid urbanization                                      92.22\n",
       "Migration                                               89.74\n",
       "Unemployment                                            89.47\n",
       "Cost of living                                          87.36\n",
       "Housing                                                 86.61\n",
       "Resource availability                                   80.95\n",
       "Budgetary capacity                                      80.79\n",
       "Infrastructure conditions / maintenance                 74.42\n",
       "Environmental conditions                                66.10\n",
       "Public health                                           61.11\n",
       "Infrastructure capacity                                 54.55\n",
       "Economic health                                         53.33\n",
       "Safety and security                                     53.12\n",
       "Access to quality / relevant data                       52.25\n",
       "Economic diversity                                      51.72\n",
       "Government capacity                                     51.06\n",
       "Access to basic services                                48.57\n",
       "Land use planning                                       42.47\n",
       "Access to healthcare                                    40.70\n",
       "Community engagement                                    26.80\n",
       "Political stability                                     25.00\n",
       "Access to education                                     17.50\n",
       "Political engagement / transparency                     12.82\n",
       "Access to quality / relevant data: Disaster cle...       0.00"
      ],
      "text/html": "<div>\n<style scoped>\n    .dataframe tbody tr th:only-of-type {\n        vertical-align: middle;\n    }\n\n    .dataframe tbody tr th {\n        vertical-align: top;\n    }\n\n    .dataframe thead th {\n        text-align: right;\n    }\n</style>\n<table border=\"1\" class=\"dataframe\">\n  <thead>\n    <tr style=\"text-align: right;\">\n      <th></th>\n      <th>Challenge</th>\n    </tr>\n    <tr>\n      <th>Factors</th>\n      <th></th>\n    </tr>\n  </thead>\n  <tbody>\n    <tr>\n      <th>Safety and security: Disaster clean up</th>\n      <td>100.00</td>\n    </tr>\n    <tr>\n      <th>Underemployment</th>\n      <td>100.00</td>\n    </tr>\n    <tr>\n      <th>Inequality</th>\n      <td>96.47</td>\n    </tr>\n    <tr>\n      <th>Poverty</th>\n      <td>93.58</td>\n    </tr>\n    <tr>\n      <th>Rapid urbanization</th>\n      <td>92.22</td>\n    </tr>\n    <tr>\n      <th>Migration</th>\n      <td>89.74</td>\n    </tr>\n    <tr>\n      <th>Unemployment</th>\n      <td>89.47</td>\n    </tr>\n    <tr>\n      <th>Cost of living</th>\n      <td>87.36</td>\n    </tr>\n    <tr>\n      <th>Housing</th>\n      <td>86.61</td>\n    </tr>\n    <tr>\n      <th>Resource availability</th>\n      <td>80.95</td>\n    </tr>\n    <tr>\n      <th>Budgetary capacity</th>\n      <td>80.79</td>\n    </tr>\n    <tr>\n      <th>Infrastructure conditions / maintenance</th>\n      <td>74.42</td>\n    </tr>\n    <tr>\n      <th>Environmental conditions</th>\n      <td>66.10</td>\n    </tr>\n    <tr>\n      <th>Public health</th>\n      <td>61.11</td>\n    </tr>\n    <tr>\n      <th>Infrastructure capacity</th>\n      <td>54.55</td>\n    </tr>\n    <tr>\n      <th>Economic health</th>\n      <td>53.33</td>\n    </tr>\n    <tr>\n      <th>Safety and security</th>\n      <td>53.12</td>\n    </tr>\n    <tr>\n      <th>Access to quality / relevant data</th>\n      <td>52.25</td>\n    </tr>\n    <tr>\n      <th>Economic diversity</th>\n      <td>51.72</td>\n    </tr>\n    <tr>\n      <th>Government capacity</th>\n      <td>51.06</td>\n    </tr>\n    <tr>\n      <th>Access to basic services</th>\n      <td>48.57</td>\n    </tr>\n    <tr>\n      <th>Land use planning</th>\n      <td>42.47</td>\n    </tr>\n    <tr>\n      <th>Access to healthcare</th>\n      <td>40.70</td>\n    </tr>\n    <tr>\n      <th>Community engagement</th>\n      <td>26.80</td>\n    </tr>\n    <tr>\n      <th>Political stability</th>\n      <td>25.00</td>\n    </tr>\n    <tr>\n      <th>Access to education</th>\n      <td>17.50</td>\n    </tr>\n    <tr>\n      <th>Political engagement / transparency</th>\n      <td>12.82</td>\n    </tr>\n    <tr>\n      <th>Access to quality / relevant data: Disaster clean up</th>\n      <td>0.00</td>\n    </tr>\n  </tbody>\n</table>\n</div>"
     },
     "metadata": {},
     "execution_count": 59
    }
   ],
   "source": [
    "pd.set_option('display.max_rows', 200)\n",
    "data = dfff.groupby(ANS).agg({'Challenge': lambda s: round(100 * len(s[s == 'Challenges'].index) / len(s.index), 2)}).sort_values('Challenge', ascending=False).rename_axis('Factors')\n",
    "data[~data.index.str.contains('Other, please specify')]"
   ]
  },
  {
   "cell_type": "code",
   "execution_count": null,
   "metadata": {},
   "outputs": [],
   "source": []
  }
 ]
}