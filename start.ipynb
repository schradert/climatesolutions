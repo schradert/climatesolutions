{
 "metadata": {
  "language_info": {
   "codemirror_mode": {
    "name": "ipython",
    "version": 3
   },
   "file_extension": ".py",
   "mimetype": "text/x-python",
   "name": "python",
   "nbconvert_exporter": "python",
   "pygments_lexer": "ipython3",
   "version": "3.7.9-final"
  },
  "orig_nbformat": 2,
  "kernelspec": {
   "name": "python3",
   "display_name": "Python 3",
   "language": "python"
  }
 },
 "nbformat": 4,
 "nbformat_minor": 2,
 "cells": [
  {
   "cell_type": "code",
   "execution_count": 37,
   "metadata": {},
   "outputs": [],
   "source": [
    "import re\n",
    "\n",
    "import pandas as pd \n",
    "import numpy as np \n",
    "\n",
    "import matplotlib.pyplot as plt \n",
    "import seaborn as sns "
   ]
  },
  {
   "cell_type": "code",
   "execution_count": 57,
   "metadata": {},
   "outputs": [],
   "source": [
    "YEARS = [2018, 2019, 2020]\n",
    "cc_file = 'Corporations/Corporations Responses/Climate Change/{}_Full_Climate_Change_Dataset.csv'\n",
    "cc = [pd.read_csv(cc_file.format(year)) for year in YEARS]"
   ]
  },
  {
   "cell_type": "code",
   "execution_count": 61,
   "metadata": {},
   "outputs": [
    {
     "output_type": "display_data",
     "data": {
      "text/plain": "column_name                              C4.1a_C10% achieved (emissions)  \\\norganization                  row_number                                   \n3M Company                    1                                     20.0   \nAFLAC Incorporated            1                                    100.0   \nAK Steel Holding Corporation  1                                     18.8   \nARTESYN EMBEDDED TECHNOLOGIES 1                                    100.0   \nAT&T Inc.                     1                                    100.0   \n...                                                                  ...   \nXilinx Inc                    1                                     30.0   \nYum! Brands, Inc.             1                                    100.0   \nZatkoff Seals and Packing     1                                    100.0   \nZimmer Biomet Holdings, Inc.  1                                     2.26   \neBay Inc.                     1                                      0.0   \n\ncolumn_name                              C4.1a_C11Target status  \\\norganization                  row_number                          \n3M Company                    1                        Underway   \nAFLAC Incorporated            1                        Replaced   \nAK Steel Holding Corporation  1                        Underway   \nARTESYN EMBEDDED TECHNOLOGIES 1                        Underway   \nAT&T Inc.                     1                        Replaced   \n...                                                         ...   \nXilinx Inc                    1                        Underway   \nYum! Brands, Inc.             1                        Underway   \nZatkoff Seals and Packing     1                        Underway   \nZimmer Biomet Holdings, Inc.  1                        Underway   \neBay Inc.                     1                        Underway   \n\ncolumn_name                                                         C4.1a_C12Please explain  \\\norganization                  row_number                                                      \n3M Company                    1           3M, as a science-based company, supports the p...   \nAFLAC Incorporated            1           The goal was achieved as 2017 Scope 2 emission...   \nAK Steel Holding Corporation  1           Target and ongoing emissions  reflect those ba...   \nARTESYN EMBEDDED TECHNOLOGIES 1           Artesyn has set a goal to reduce its Scope 2, ...   \nAT&T Inc.                     1           We have set an absolute Scope 1 GHG emissions ...   \n...                                                                                     ...   \nXilinx Inc                    1           We publically report annual progress on meetin...   \nYum! Brands, Inc.             1           Since 2005 we have demonstrated a steady track...   \nZatkoff Seals and Packing     1           Our goal is written to be equal to or less the...   \nZimmer Biomet Holdings, Inc.  1           Zimmer Biomet is including 100% of emissions t...   \neBay Inc.                     1           Applicable for eBay's owned and leased facilit...   \n\ncolumn_name                              C4.1a_C1Target reference number  \\\norganization                  row_number                                   \n3M Company                    1                                    Abs 1   \nAFLAC Incorporated            1                                    Abs 1   \nAK Steel Holding Corporation  1                                    Abs 1   \nARTESYN EMBEDDED TECHNOLOGIES 1                                    Abs 1   \nAT&T Inc.                     1                                    Abs 1   \n...                                                                  ...   \nXilinx Inc                    1                                    Abs 1   \nYum! Brands, Inc.             1                                    Abs 1   \nZatkoff Seals and Packing     1                                    Abs 1   \nZimmer Biomet Holdings, Inc.  1                                    Abs 1   \neBay Inc.                     1                                    Abs 1   \n\ncolumn_name                                            C4.1a_C2Scope  \\\norganization                  row_number                               \n3M Company                    1           Scope 1+2 (location-based)   \nAFLAC Incorporated            1             Scope 2 (location-based)   \nAK Steel Holding Corporation  1                              Scope 1   \nARTESYN EMBEDDED TECHNOLOGIES 1             Scope 2 (location-based)   \nAT&T Inc.                     1                              Scope 1   \n...                                                              ...   \nXilinx Inc                    1           Scope 1+2 (location-based)   \nYum! Brands, Inc.             1           Scope 1+2 (location-based)   \nZatkoff Seals and Packing     1           Scope 1+2 (location-based)   \nZimmer Biomet Holdings, Inc.  1            Scope 1 +2 (market-based)   \neBay Inc.                     1               Scope 2 (market-based)   \n\ncolumn_name                              C4.1a_C3% emissions in Scope  \\\norganization                  row_number                                \n3M Company                    1                                 100.0   \nAFLAC Incorporated            1                                 100.0   \nAK Steel Holding Corporation  1                                 100.0   \nARTESYN EMBEDDED TECHNOLOGIES 1                                 100.0   \nAT&T Inc.                     1                                 100.0   \n...                                                               ...   \nXilinx Inc                    1                                 100.0   \nYum! Brands, Inc.             1                                 100.0   \nZatkoff Seals and Packing     1                                 100.0   \nZimmer Biomet Holdings, Inc.  1                                 100.0   \neBay Inc.                     1                                 100.0   \n\ncolumn_name                              C4.1a_C4% reduction from base year  \\\norganization                  row_number                                      \n3M Company                    1                                        50.0   \nAFLAC Incorporated            1                                        50.0   \nAK Steel Holding Corporation  1                                        18.1   \nARTESYN EMBEDDED TECHNOLOGIES 1                                         2.5   \nAT&T Inc.                     1                                        20.0   \n...                                                                     ...   \nXilinx Inc                    1                                        10.0   \nYum! Brands, Inc.             1                                        22.0   \nZatkoff Seals and Packing     1                                        45.0   \nZimmer Biomet Holdings, Inc.  1                                        20.0   \neBay Inc.                     1                                       100.0   \n\ncolumn_name                              C4.1a_C5Base year C4.1a_C6Start year  \\\norganization                  row_number                                        \n3M Company                    1                     2002.0             2015.0   \nAFLAC Incorporated            1                     2007.0             2008.0   \nAK Steel Holding Corporation  1                     2015.0             2016.0   \nARTESYN EMBEDDED TECHNOLOGIES 1                     2014.0             2014.0   \nAT&T Inc.                     1                     2008.0             2011.0   \n...                                                    ...                ...   \nXilinx Inc                    1                     2014.0             2014.0   \nYum! Brands, Inc.             1                     2005.0             2006.0   \nZatkoff Seals and Packing     1                     2008.0             2008.0   \nZimmer Biomet Holdings, Inc.  1                     2015.0             2016.0   \neBay Inc.                     1                     2016.0             2016.0   \n\ncolumn_name                              C4.1a_C7Base year emissions covered by target (metric tons CO2e)  \\\norganization                  row_number                                                                    \n3M Company                    1                                                  18300000.0                 \nAFLAC Incorporated            1                                                     29765.0                 \nAK Steel Holding Corporation  1                                                   8092985.0                 \nARTESYN EMBEDDED TECHNOLOGIES 1                                                       100.0                 \nAT&T Inc.                     1                                                   1354054.0                 \n...                                                                                     ...                 \nXilinx Inc                    1                                                     27822.0                 \nYum! Brands, Inc.             1                                                   1943203.0                 \nZatkoff Seals and Packing     1                                                      978.35                 \nZimmer Biomet Holdings, Inc.  1                                                    180201.0                 \neBay Inc.                     1                                                     87678.0                 \n\ncolumn_name                              C4.1a_C8Target year  \\\norganization                  row_number                       \n3M Company                    1                       2025.0   \nAFLAC Incorporated            1                       2025.0   \nAK Steel Holding Corporation  1                       2025.0   \nARTESYN EMBEDDED TECHNOLOGIES 1                       2020.0   \nAT&T Inc.                     1                       2020.0   \n...                                                      ...   \nXilinx Inc                    1                       2019.0   \nYum! Brands, Inc.             1                       2017.0   \nZatkoff Seals and Packing     1                       2020.0   \nZimmer Biomet Holdings, Inc.  1                       2020.0   \neBay Inc.                     1                       2025.0   \n\ncolumn_name                                         C4.1a_C9Is this a science-based target?  \norganization                  row_number                                                     \n3M Company                    1           No, but we anticipate setting one in the next ...  \nAFLAC Incorporated            1           No, and we do not anticipate setting one in th...  \nAK Steel Holding Corporation  1           No, but we anticipate setting one in the next ...  \nARTESYN EMBEDDED TECHNOLOGIES 1           No, but we anticipate setting one in the next ...  \nAT&T Inc.                     1           No, and we do not anticipate setting one in th...  \n...                                                                                     ...  \nXilinx Inc                    1           No, and we do not anticipate setting one in th...  \nYum! Brands, Inc.             1           No, but we anticipate setting one in the next ...  \nZatkoff Seals and Packing     1           Yes, this target has been approved as science-...  \nZimmer Biomet Holdings, Inc.  1           No, but we anticipate setting one in the next ...  \neBay Inc.                     1           No, but we anticipate setting one in the next ...  \n\n[495 rows x 12 columns]",
      "text/html": "<div>\n<style scoped>\n    .dataframe tbody tr th:only-of-type {\n        vertical-align: middle;\n    }\n\n    .dataframe tbody tr th {\n        vertical-align: top;\n    }\n\n    .dataframe thead th {\n        text-align: right;\n    }\n</style>\n<table border=\"1\" class=\"dataframe\">\n  <thead>\n    <tr style=\"text-align: right;\">\n      <th></th>\n      <th>column_name</th>\n      <th>C4.1a_C10% achieved (emissions)</th>\n      <th>C4.1a_C11Target status</th>\n      <th>C4.1a_C12Please explain</th>\n      <th>C4.1a_C1Target reference number</th>\n      <th>C4.1a_C2Scope</th>\n      <th>C4.1a_C3% emissions in Scope</th>\n      <th>C4.1a_C4% reduction from base year</th>\n      <th>C4.1a_C5Base year</th>\n      <th>C4.1a_C6Start year</th>\n      <th>C4.1a_C7Base year emissions covered by target (metric tons CO2e)</th>\n      <th>C4.1a_C8Target year</th>\n      <th>C4.1a_C9Is this a science-based target?</th>\n    </tr>\n    <tr>\n      <th>organization</th>\n      <th>row_number</th>\n      <th></th>\n      <th></th>\n      <th></th>\n      <th></th>\n      <th></th>\n      <th></th>\n      <th></th>\n      <th></th>\n      <th></th>\n      <th></th>\n      <th></th>\n      <th></th>\n    </tr>\n  </thead>\n  <tbody>\n    <tr>\n      <th>3M Company</th>\n      <th>1</th>\n      <td>20.0</td>\n      <td>Underway</td>\n      <td>3M, as a science-based company, supports the p...</td>\n      <td>Abs 1</td>\n      <td>Scope 1+2 (location-based)</td>\n      <td>100.0</td>\n      <td>50.0</td>\n      <td>2002.0</td>\n      <td>2015.0</td>\n      <td>18300000.0</td>\n      <td>2025.0</td>\n      <td>No, but we anticipate setting one in the next ...</td>\n    </tr>\n    <tr>\n      <th>AFLAC Incorporated</th>\n      <th>1</th>\n      <td>100.0</td>\n      <td>Replaced</td>\n      <td>The goal was achieved as 2017 Scope 2 emission...</td>\n      <td>Abs 1</td>\n      <td>Scope 2 (location-based)</td>\n      <td>100.0</td>\n      <td>50.0</td>\n      <td>2007.0</td>\n      <td>2008.0</td>\n      <td>29765.0</td>\n      <td>2025.0</td>\n      <td>No, and we do not anticipate setting one in th...</td>\n    </tr>\n    <tr>\n      <th>AK Steel Holding Corporation</th>\n      <th>1</th>\n      <td>18.8</td>\n      <td>Underway</td>\n      <td>Target and ongoing emissions  reflect those ba...</td>\n      <td>Abs 1</td>\n      <td>Scope 1</td>\n      <td>100.0</td>\n      <td>18.1</td>\n      <td>2015.0</td>\n      <td>2016.0</td>\n      <td>8092985.0</td>\n      <td>2025.0</td>\n      <td>No, but we anticipate setting one in the next ...</td>\n    </tr>\n    <tr>\n      <th>ARTESYN EMBEDDED TECHNOLOGIES</th>\n      <th>1</th>\n      <td>100.0</td>\n      <td>Underway</td>\n      <td>Artesyn has set a goal to reduce its Scope 2, ...</td>\n      <td>Abs 1</td>\n      <td>Scope 2 (location-based)</td>\n      <td>100.0</td>\n      <td>2.5</td>\n      <td>2014.0</td>\n      <td>2014.0</td>\n      <td>100.0</td>\n      <td>2020.0</td>\n      <td>No, but we anticipate setting one in the next ...</td>\n    </tr>\n    <tr>\n      <th>AT&amp;T Inc.</th>\n      <th>1</th>\n      <td>100.0</td>\n      <td>Replaced</td>\n      <td>We have set an absolute Scope 1 GHG emissions ...</td>\n      <td>Abs 1</td>\n      <td>Scope 1</td>\n      <td>100.0</td>\n      <td>20.0</td>\n      <td>2008.0</td>\n      <td>2011.0</td>\n      <td>1354054.0</td>\n      <td>2020.0</td>\n      <td>No, and we do not anticipate setting one in th...</td>\n    </tr>\n    <tr>\n      <th>...</th>\n      <th>...</th>\n      <td>...</td>\n      <td>...</td>\n      <td>...</td>\n      <td>...</td>\n      <td>...</td>\n      <td>...</td>\n      <td>...</td>\n      <td>...</td>\n      <td>...</td>\n      <td>...</td>\n      <td>...</td>\n      <td>...</td>\n    </tr>\n    <tr>\n      <th>Xilinx Inc</th>\n      <th>1</th>\n      <td>30.0</td>\n      <td>Underway</td>\n      <td>We publically report annual progress on meetin...</td>\n      <td>Abs 1</td>\n      <td>Scope 1+2 (location-based)</td>\n      <td>100.0</td>\n      <td>10.0</td>\n      <td>2014.0</td>\n      <td>2014.0</td>\n      <td>27822.0</td>\n      <td>2019.0</td>\n      <td>No, and we do not anticipate setting one in th...</td>\n    </tr>\n    <tr>\n      <th>Yum! Brands, Inc.</th>\n      <th>1</th>\n      <td>100.0</td>\n      <td>Underway</td>\n      <td>Since 2005 we have demonstrated a steady track...</td>\n      <td>Abs 1</td>\n      <td>Scope 1+2 (location-based)</td>\n      <td>100.0</td>\n      <td>22.0</td>\n      <td>2005.0</td>\n      <td>2006.0</td>\n      <td>1943203.0</td>\n      <td>2017.0</td>\n      <td>No, but we anticipate setting one in the next ...</td>\n    </tr>\n    <tr>\n      <th>Zatkoff Seals and Packing</th>\n      <th>1</th>\n      <td>100.0</td>\n      <td>Underway</td>\n      <td>Our goal is written to be equal to or less the...</td>\n      <td>Abs 1</td>\n      <td>Scope 1+2 (location-based)</td>\n      <td>100.0</td>\n      <td>45.0</td>\n      <td>2008.0</td>\n      <td>2008.0</td>\n      <td>978.35</td>\n      <td>2020.0</td>\n      <td>Yes, this target has been approved as science-...</td>\n    </tr>\n    <tr>\n      <th>Zimmer Biomet Holdings, Inc.</th>\n      <th>1</th>\n      <td>2.26</td>\n      <td>Underway</td>\n      <td>Zimmer Biomet is including 100% of emissions t...</td>\n      <td>Abs 1</td>\n      <td>Scope 1 +2 (market-based)</td>\n      <td>100.0</td>\n      <td>20.0</td>\n      <td>2015.0</td>\n      <td>2016.0</td>\n      <td>180201.0</td>\n      <td>2020.0</td>\n      <td>No, but we anticipate setting one in the next ...</td>\n    </tr>\n    <tr>\n      <th>eBay Inc.</th>\n      <th>1</th>\n      <td>0.0</td>\n      <td>Underway</td>\n      <td>Applicable for eBay's owned and leased facilit...</td>\n      <td>Abs 1</td>\n      <td>Scope 2 (market-based)</td>\n      <td>100.0</td>\n      <td>100.0</td>\n      <td>2016.0</td>\n      <td>2016.0</td>\n      <td>87678.0</td>\n      <td>2025.0</td>\n      <td>No, but we anticipate setting one in the next ...</td>\n    </tr>\n  </tbody>\n</table>\n<p>495 rows × 12 columns</p>\n</div>"
     },
     "metadata": {}
    },
    {
     "output_type": "error",
     "ename": "KeyError",
     "evalue": "'Only a column name can be used for the key in a dtype mappings argument.'",
     "traceback": [
      "\u001b[1;31m---------------------------------------------------------------------------\u001b[0m",
      "\u001b[1;31mKeyError\u001b[0m                                  Traceback (most recent call last)",
      "\u001b[1;32m<ipython-input-61-36daac4764e7>\u001b[0m in \u001b[0;36m<module>\u001b[1;34m\u001b[0m\n\u001b[0;32m     79\u001b[0m \u001b[1;33m\u001b[0m\u001b[0m\n\u001b[0;32m     80\u001b[0m \u001b[1;32mfor\u001b[0m \u001b[0mi\u001b[0m \u001b[1;32min\u001b[0m \u001b[0mrange\u001b[0m\u001b[1;33m(\u001b[0m\u001b[0mlen\u001b[0m\u001b[1;33m(\u001b[0m\u001b[0mYEARS\u001b[0m\u001b[1;33m)\u001b[0m\u001b[1;33m)\u001b[0m\u001b[1;33m:\u001b[0m\u001b[1;33m\u001b[0m\u001b[1;33m\u001b[0m\u001b[0m\n\u001b[1;32m---> 81\u001b[1;33m     \u001b[0mgraphs\u001b[0m\u001b[1;33m(\u001b[0m\u001b[0mi\u001b[0m\u001b[1;33m)\u001b[0m\u001b[1;33m\u001b[0m\u001b[1;33m\u001b[0m\u001b[0m\n\u001b[0m",
      "\u001b[1;32m<ipython-input-61-36daac4764e7>\u001b[0m in \u001b[0;36mgraphs\u001b[1;34m(idx)\u001b[0m\n\u001b[0;32m      8\u001b[0m \u001b[1;33m\u001b[0m\u001b[0m\n\u001b[0;32m      9\u001b[0m     \u001b[0mdisplay\u001b[0m\u001b[1;33m(\u001b[0m\u001b[0mdf\u001b[0m\u001b[1;33m)\u001b[0m\u001b[1;33m\u001b[0m\u001b[1;33m\u001b[0m\u001b[0m\n\u001b[1;32m---> 10\u001b[1;33m     df = df.astype({ col: 'float' for col in [\n\u001b[0m\u001b[0;32m     11\u001b[0m         \u001b[1;34m'C4.1a_C8Target year'\u001b[0m\u001b[1;33m,\u001b[0m \u001b[1;34m'C4.1a_C5Base year'\u001b[0m\u001b[1;33m,\u001b[0m \u001b[1;34m'C4.1a_C9Targeted reduction from base year (%)'\u001b[0m\u001b[1;33m,\u001b[0m\u001b[1;33m\u001b[0m\u001b[1;33m\u001b[0m\u001b[0m\n\u001b[0;32m     12\u001b[0m         \u001b[1;34m'C4.1a_C6Covered emissions in base year (metric tons CO2e)'\u001b[0m\u001b[1;33m,\u001b[0m \u001b[1;34m'C4.1a_C12% of target achieved [auto-calculated]'\u001b[0m\u001b[1;33m,\u001b[0m\u001b[1;33m\u001b[0m\u001b[1;33m\u001b[0m\u001b[0m\n",
      "\u001b[1;32m~\\Anaconda3\\lib\\site-packages\\pandas\\core\\generic.py\u001b[0m in \u001b[0;36mastype\u001b[1;34m(self, dtype, copy, errors)\u001b[0m\n\u001b[0;32m   5522\u001b[0m                 \u001b[1;32mif\u001b[0m \u001b[0mcol_name\u001b[0m \u001b[1;32mnot\u001b[0m \u001b[1;32min\u001b[0m \u001b[0mself\u001b[0m\u001b[1;33m:\u001b[0m\u001b[1;33m\u001b[0m\u001b[1;33m\u001b[0m\u001b[0m\n\u001b[0;32m   5523\u001b[0m                     raise KeyError(\n\u001b[1;32m-> 5524\u001b[1;33m                         \u001b[1;34m\"Only a column name can be used for the \"\u001b[0m\u001b[1;33m\u001b[0m\u001b[1;33m\u001b[0m\u001b[0m\n\u001b[0m\u001b[0;32m   5525\u001b[0m                         \u001b[1;34m\"key in a dtype mappings argument.\"\u001b[0m\u001b[1;33m\u001b[0m\u001b[1;33m\u001b[0m\u001b[0m\n\u001b[0;32m   5526\u001b[0m                     )\n",
      "\u001b[1;31mKeyError\u001b[0m: 'Only a column name can be used for the key in a dtype mappings argument.'"
     ]
    }
   ],
   "source": [
    "#dff.pivot(index='row_name', columns='column_name', values='response_value')\n",
    "df = cc[2]\\\n",
    "    [cc[2]['question_number'] == 'C4.1a']\\\n",
    "    [['row_number', 'column_name', 'response_value', 'organization']]\\\n",
    "    .dropna(subset=['response_value'])\n",
    "df = df.pivot(index=['organization', 'row_number'], columns='column_name')['response_value']\n",
    "\n",
    "display(df)\n",
    "df = df.astype({ col: 'float' for col in [\n",
    "    'C4.1a_C8Target year', 'C4.1a_C5Base year', 'C4.1a_C9Targeted reduction from base year (%)', \n",
    "    'C4.1a_C6Covered emissions in base year (metric tons CO2e)', 'C4.1a_C12% of target achieved [auto-calculated]',\n",
    "    'C4.1a_C2Year target was set'\n",
    "]})\n",
    "\n",
    "# CALCULATE NEW METRICS\n",
    "df['target_years'] = df['C4.1a_C8Target year'] - df['C4.1a_C2Year target was set'] + 1\n",
    "df['emissions_reduction_OBJ'] = df['C4.1a_C9Targeted reduction from base year (%)'] / 100 * df['C4.1a_C6Covered emissions in base year (metric tons CO2e)']\n",
    "df['emissions_reduction_ACT']= df['C4.1a_C12% of target achieved [auto-calculated]'] / 100 * df['C4.1a_C6Covered emissions in base year (metric tons CO2e)']\n",
    "df['emissions_reduced_per_year_ACT'] = df['emissions_reduction_OBJ'] * df['C4.1a_C12% of target achieved [auto-calculated]'] / 100 / (2020 - df['C4.1a_C2Year target was set'] + 1)\n",
    "df['years_to_achieve_ACT'] = df['emissions_reduction_OBJ'] / df['emissions_reduced_per_year_ACT']\n",
    "df['years_diff'] = df['target_years'] - df['years_to_achieve_ACT']\n",
    "\n",
    "# CLEAN UP VALUES\n",
    "df['years_diff'].replace(np.inf, 0, inplace=True)\n",
    "df['years_diff'].replace(np.NINF, 0, inplace=True)\n",
    "df.loc[df['C4.1a_C12% of target achieved [auto-calculated]'] < 0, 'years_diff'] = np.nan\n",
    "df.loc[(df['years_diff'] > df['years_diff'].std()) | (df['years_diff'] < -df['years_diff'].std()), 'years_diff'] = np.nan\n",
    "df['years_diff'].replace(np.inf, 0, inplace=True)\n",
    "df['years_diff'].replace(np.NINF, 0, inplace=True)\n",
    "df.loc[df['years_diff'] == 0, 'years_diff'] = 0.00000001\n",
    "df.loc[df['emissions_reduction_OBJ'] == 0, 'emissions_reduction_OBJ'] = 0.00000001\n",
    "\n",
    "# WEIGH ALL METRICS INTO ONE PER COMPANY\n",
    "# \"strategy\" is weighted by the emissions reduction objective so that bigger strategies have larger sway over the average value\n",
    "dff = df\\\n",
    "    .groupby(['organization', 'row_number'], as_index=False)\\\n",
    "    .agg({ \n",
    "        'years_diff': lambda x: np.average(x, weights=df.loc[x.index, 'emissions_reduction_OBJ']),\n",
    "        'emissions_reduction_OBJ': 'sum',\n",
    "        'C4.1a_C6Covered emissions in base year (metric tons CO2e)': 'sum',\n",
    "        'emissions_reduction_ACT': 'sum' })\\\n",
    "    .rename(columns={ 'C4.1a_C6Covered emissions in base year (metric tons CO2e)': 'emissions_covered' })\\\n",
    "    .dropna()\\\n",
    "    .reset_index()\n",
    "\n",
    "# CALCULATE RANKS AND PERCENTAGES\n",
    "dff['pct_OBJ'] = dff['emissions_reduction_OBJ'] / dff['emissions_covered']\n",
    "dff['pct_ACT'] = dff['emissions_reduction_ACT'] / dff['emissions_covered']\n",
    "dff['kpi_obj_strategy_rank'] = dff['years_diff'].rank(pct=True)\n",
    "dff['kpi_obj_ambition_rank'] = dff['pct_OBJ'].rank(pct=True)\n",
    "dff['kpi_obj_progress_rank'] = dff['pct_ACT'].rank(pct=True)\n",
    "\n",
    "dff = dff.sort_values(by=['kpi_obj_strategy_rank']).reset_index()\n",
    "\n",
    "# GRAPH\n",
    "sns.kdeplot(dff['years_diff'], shade=True)\n",
    "plt.xlim(-50, 50)\n",
    "\n",
    "sns.relplot(\n",
    "    x='kpi_obj_ambition_rank',\n",
    "    y='years_diff',\n",
    "    size='emissions_covered',\n",
    "    sizes=(50, 500),\n",
    "    hue='emissions_covered',\n",
    "    data=dff)\n",
    "plt.xlim(0, 1)\n",
    "plt.axhline(0, 1, 0, color='r', linestyle='--')\n",
    "\n",
    "sns.kdeplot(\n",
    "    x=dff['kpi_obj_ambition_rank'],\n",
    "    y=dff['kpi_obj_progress_rank'],\n",
    "    cmap=\"Blues\",\n",
    "    shade=True,\n",
    "    bw=0.25)\n",
    "plt.ylim(0, 1.0)\n",
    "plt.xlim(0, 1.0)\n",
    "plt.gca().set_aspect('equal', adjustable='box')\n",
    "plt.show()"
   ]
  },
  {
   "cell_type": "code",
   "execution_count": null,
   "metadata": {},
   "outputs": [],
   "source": []
  }
 ]
}