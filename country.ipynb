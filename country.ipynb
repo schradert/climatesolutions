{
 "metadata": {
  "language_info": {
   "codemirror_mode": {
    "name": "ipython",
    "version": 3
   },
   "file_extension": ".py",
   "mimetype": "text/x-python",
   "name": "python",
   "nbconvert_exporter": "python",
   "pygments_lexer": "ipython3",
   "version": "3.7.9-final"
  },
  "orig_nbformat": 2,
  "kernelspec": {
   "name": "python3",
   "display_name": "Python 3"
  }
 },
 "nbformat": 4,
 "nbformat_minor": 2,
 "cells": [
  {
   "cell_type": "code",
   "execution_count": 146,
   "metadata": {},
   "outputs": [
    {
     "output_type": "display_data",
     "data": {
      "text/html": "        <script type=\"text/javascript\">\n        window.PlotlyConfig = {MathJaxConfig: 'local'};\n        if (window.MathJax) {MathJax.Hub.Config({SVG: {font: \"STIX-Web\"}});}\n        if (typeof require !== 'undefined') {\n        require.undef(\"plotly\");\n        requirejs.config({\n            paths: {\n                'plotly': ['https://cdn.plot.ly/plotly-latest.min']\n            }\n        });\n        require(['plotly'], function(Plotly) {\n            window._Plotly = Plotly;\n        });\n        }\n        </script>\n        "
     },
     "metadata": {}
    }
   ],
   "source": [
    "import os\n",
    "import re\n",
    "import json \n",
    "\n",
    "import pandas as pd \n",
    "import numpy as np \n",
    "\n",
    "import matplotlib.pyplot as plt \n",
    "from matplotlib import colors\n",
    "import seaborn as sns \n",
    "import plotly.graph_objects as go \n",
    "import plotly.express as px \n",
    "from plotly.offline import init_notebook_mode\n",
    "from plotly.subplots import make_subplots\n",
    "\n",
    "from shapely.geometry import Polygon \n",
    "#import geopandas as gpd \n",
    "import folium\n",
    "import folium.plugins\n",
    "\n",
    "from IPython.display import HTML, display\n",
    "\n",
    "init_notebook_mode(connected=True)"
   ]
  },
  {
   "cell_type": "code",
   "execution_count": 41,
   "metadata": {},
   "outputs": [],
   "source": [
    "COUNTRY = 'India'"
   ]
  },
  {
   "cell_type": "code",
   "execution_count": 8,
   "metadata": {},
   "outputs": [],
   "source": [
    "cities_dir = 'Cities/Cities Responses/'\n",
    "cc_dir = 'Corporations/Corporations Responses/Climate Change/'\n",
    "ws_dir = 'Corporations/Corporations Responses/Water Security/'\n",
    "\n",
    "c_18 = pd.read_csv(cities_dir + '2018_Full_Cities_Dataset.csv')\n",
    "c_19 = pd.read_csv(cities_dir + '2019_Full_Cities_Dataset.csv')\n",
    "c_20 = pd.read_csv(cities_dir + '2020_Full_Cities_Dataset.csv')\n",
    "\n",
    "cc_18 = pd.read_csv(cc_dir + '2018_Full_Climate_Change_Dataset.csv')\n",
    "cc_19 = pd.read_csv(cc_dir + '2019_Full_Climate_Change_Dataset.csv')\n",
    "cc_20 = pd.read_csv(cc_dir + '2020_Full_Climate_Change_Dataset.csv')\n",
    "\n",
    "ws_18 = pd.read_csv(ws_dir + '2018_Full_Water_Security_Dataset.csv')\n",
    "ws_19 = pd.read_csv(ws_dir + '2019_Full_Water_Security_Dataset.csv')\n",
    "ws_20 = pd.read_csv(ws_dir + '2020_Full_Water_Security_Dataset.csv')"
   ]
  },
  {
   "cell_type": "code",
   "execution_count": 15,
   "metadata": {},
   "outputs": [],
   "source": [
    "cities_dir_disc = 'Cities/Cities Disclosing/'\n",
    "cc_dir_disc = 'Corporations/Corporations Disclosing/Climate Change/'\n",
    "ws_dir_disc = 'Corporations/Corporations Disclosing/Water Security/'\n",
    "\n",
    "c_18_disc = pd.read_csv(cities_dir_disc + '2018_Cities_Disclosing_to_CDP.csv')\n",
    "c_19_disc = pd.read_csv(cities_dir_disc + '2019_Cities_Disclosing_to_CDP.csv')\n",
    "c_20_disc = pd.read_csv(cities_dir_disc + '2020_Cities_Disclosing_to_CDP.csv')\n",
    "\n",
    "cc_18_disc = pd.read_csv(cc_dir_disc + '2018_Corporates_Disclosing_to_CDP_Climate_Change.csv')\n",
    "cc_19_disc = pd.read_csv(cc_dir_disc + '2019_Corporates_Disclosing_to_CDP_Climate_Change.csv')\n",
    "cc_20_disc = pd.read_csv(cc_dir_disc + '2020_Corporates_Disclosing_to_CDP_Climate_Change.csv')\n",
    "\n",
    "ws_18_disc = pd.read_csv(ws_dir_disc + '2018_Corporates_Disclosing_to_CDP_Water_Security.csv')\n",
    "ws_19_disc = pd.read_csv(ws_dir_disc + '2019_Corporates_Disclosing_to_CDP_Water_Security.csv')\n",
    "ws_20_disc = pd.read_csv(ws_dir_disc + '2020_Corporates_Disclosing_to_CDP_Water_Security.csv')"
   ]
  },
  {
   "cell_type": "code",
   "execution_count": 181,
   "metadata": {},
   "outputs": [],
   "source": [
    "def clean_city_name(city):\n",
    "    return re.sub(r'City|of|Municipal|Corporation|Metropolitan|Area', '', city).strip()"
   ]
  },
  {
   "cell_type": "code",
   "execution_count": 180,
   "metadata": {},
   "outputs": [
    {
     "output_type": "stream",
     "name": "stdout",
     "text": [
      "City-wide Emissions                  724\nEmissions Reduction                  424\nClimate Hazards and Vulnerability    171\nOpportunities                        140\nAdaptation                           115\nWater Security                        89\nLocal Government Emissions            62\nGovernance and Data Management        50\nIntroduction                          18\nName: Parent Section, dtype: int64\nCity-wide GHG Emissions Data                      625\nTransport                                         371\nMitigation Actions                                245\nMitigation Target setting                         145\nClimate Hazards                                   129\nEnergy                                            106\nFood                                               82\nFinance and Economic Opportunities                 79\nBuildings                                          78\nWaste                                              62\nLocal Government Operations GHG Emissions Data     50\nWater Supply                                       49\nAdaptation Actions                                 49\nGovernance                                         48\nAdaptation Planning                                44\nClimate Risk and Vulnerability Assessment          42\nWater Supply Management                            40\nCity-wide external verification                    36\nMitigation Planning                                34\nClimate Action Planning                            28\nHistorical emissions inventories                   25\nCollaboration                                      23\nGCoM Emission Factor and Activity Data             20\nRe-stating previous emissions inventories          18\nCity Details                                       18\nAdaptation Goals                                   14\nLocal Government Emissions Verification            12\nOpportunities                                      10\nAdaptation Planning Process                         8\nSubmit your response                                8\nIntroduction                                        6\nUrban Planning                                      6\nData Management                                     2\nName: Section, dtype: int64\n"
     ]
    },
    {
     "output_type": "execute_result",
     "data": {
      "text/plain": [
       "     Questionnaire  Year Reported to CDP  Account Number  \\\n",
       "392    Cities 2020                  2020           31157   \n",
       "789    Cities 2020                  2020           35905   \n",
       "1011   Cities 2020                  2020           35905   \n",
       "2846   Cities 2020                  2020           35905   \n",
       "2865   Cities 2020                  2020           31157   \n",
       "\n",
       "                Organization Country           CDP Region  \\\n",
       "392            City of Delhi   India  South and West Asia   \n",
       "789   Corporation of Chennai   India  South and West Asia   \n",
       "1011  Corporation of Chennai   India  South and West Asia   \n",
       "2846  Corporation of Chennai   India  South and West Asia   \n",
       "2865           City of Delhi   India  South and West Asia   \n",
       "\n",
       "           Parent Section                    Section Question Number  \\\n",
       "392                   NaN                  Transport           10.14   \n",
       "789   Emissions Reduction  Mitigation Target setting            5.0c   \n",
       "1011                  NaN                  Transport            10.8   \n",
       "2846  Emissions Reduction  Mitigation Target setting            5.0d   \n",
       "2865  Emissions Reduction         Mitigation Actions             5.4   \n",
       "\n",
       "                                          Question Name  Column Number  \\\n",
       "392   Please provide city-wide average air pollution...              4   \n",
       "789   Please provide details of your total city-wide...             12   \n",
       "1011  Do you have a loading / unloading Restricted Z...              1   \n",
       "2846  Please provide details of your total city-wide...             16   \n",
       "2865  Describe the anticipated outcomes of the most ...              6   \n",
       "\n",
       "                                            Column Name  Row Number  \\\n",
       "392   Average concentration for third most recent ye...           6   \n",
       "789                       Percentage of target achieved           1   \n",
       "1011                                           Response           1   \n",
       "2846      Target meets initial GCoM validation criteria           0   \n",
       "2865                               Energy savings (MWh)           3   \n",
       "\n",
       "                            Row Name          Response Answer Comments  \\\n",
       "392   O3 (Daily maximum 8 hour mean)                      NaN      NaN   \n",
       "789                              NaN  Question not applicable      NaN   \n",
       "1011                 Please complete  Question not applicable      NaN   \n",
       "2846                             NaN  Question not applicable      NaN   \n",
       "2865                             NaN                      NaN      NaN   \n",
       "\n",
       "     File Name             Last update  \n",
       "392        NaN  09/07/2020 09:45:36 AM  \n",
       "789        NaN  09/07/2020 09:45:36 AM  \n",
       "1011       NaN  09/07/2020 09:45:36 AM  \n",
       "2846       NaN  09/07/2020 09:45:36 AM  \n",
       "2865       NaN  09/07/2020 09:45:36 AM  "
      ],
      "text/html": "<div>\n<style scoped>\n    .dataframe tbody tr th:only-of-type {\n        vertical-align: middle;\n    }\n\n    .dataframe tbody tr th {\n        vertical-align: top;\n    }\n\n    .dataframe thead th {\n        text-align: right;\n    }\n</style>\n<table border=\"1\" class=\"dataframe\">\n  <thead>\n    <tr style=\"text-align: right;\">\n      <th></th>\n      <th>Questionnaire</th>\n      <th>Year Reported to CDP</th>\n      <th>Account Number</th>\n      <th>Organization</th>\n      <th>Country</th>\n      <th>CDP Region</th>\n      <th>Parent Section</th>\n      <th>Section</th>\n      <th>Question Number</th>\n      <th>Question Name</th>\n      <th>Column Number</th>\n      <th>Column Name</th>\n      <th>Row Number</th>\n      <th>Row Name</th>\n      <th>Response Answer</th>\n      <th>Comments</th>\n      <th>File Name</th>\n      <th>Last update</th>\n    </tr>\n  </thead>\n  <tbody>\n    <tr>\n      <th>392</th>\n      <td>Cities 2020</td>\n      <td>2020</td>\n      <td>31157</td>\n      <td>City of Delhi</td>\n      <td>India</td>\n      <td>South and West Asia</td>\n      <td>NaN</td>\n      <td>Transport</td>\n      <td>10.14</td>\n      <td>Please provide city-wide average air pollution...</td>\n      <td>4</td>\n      <td>Average concentration for third most recent ye...</td>\n      <td>6</td>\n      <td>O3 (Daily maximum 8 hour mean)</td>\n      <td>NaN</td>\n      <td>NaN</td>\n      <td>NaN</td>\n      <td>09/07/2020 09:45:36 AM</td>\n    </tr>\n    <tr>\n      <th>789</th>\n      <td>Cities 2020</td>\n      <td>2020</td>\n      <td>35905</td>\n      <td>Corporation of Chennai</td>\n      <td>India</td>\n      <td>South and West Asia</td>\n      <td>Emissions Reduction</td>\n      <td>Mitigation Target setting</td>\n      <td>5.0c</td>\n      <td>Please provide details of your total city-wide...</td>\n      <td>12</td>\n      <td>Percentage of target achieved</td>\n      <td>1</td>\n      <td>NaN</td>\n      <td>Question not applicable</td>\n      <td>NaN</td>\n      <td>NaN</td>\n      <td>09/07/2020 09:45:36 AM</td>\n    </tr>\n    <tr>\n      <th>1011</th>\n      <td>Cities 2020</td>\n      <td>2020</td>\n      <td>35905</td>\n      <td>Corporation of Chennai</td>\n      <td>India</td>\n      <td>South and West Asia</td>\n      <td>NaN</td>\n      <td>Transport</td>\n      <td>10.8</td>\n      <td>Do you have a loading / unloading Restricted Z...</td>\n      <td>1</td>\n      <td>Response</td>\n      <td>1</td>\n      <td>Please complete</td>\n      <td>Question not applicable</td>\n      <td>NaN</td>\n      <td>NaN</td>\n      <td>09/07/2020 09:45:36 AM</td>\n    </tr>\n    <tr>\n      <th>2846</th>\n      <td>Cities 2020</td>\n      <td>2020</td>\n      <td>35905</td>\n      <td>Corporation of Chennai</td>\n      <td>India</td>\n      <td>South and West Asia</td>\n      <td>Emissions Reduction</td>\n      <td>Mitigation Target setting</td>\n      <td>5.0d</td>\n      <td>Please provide details of your total city-wide...</td>\n      <td>16</td>\n      <td>Target meets initial GCoM validation criteria</td>\n      <td>0</td>\n      <td>NaN</td>\n      <td>Question not applicable</td>\n      <td>NaN</td>\n      <td>NaN</td>\n      <td>09/07/2020 09:45:36 AM</td>\n    </tr>\n    <tr>\n      <th>2865</th>\n      <td>Cities 2020</td>\n      <td>2020</td>\n      <td>31157</td>\n      <td>City of Delhi</td>\n      <td>India</td>\n      <td>South and West Asia</td>\n      <td>Emissions Reduction</td>\n      <td>Mitigation Actions</td>\n      <td>5.4</td>\n      <td>Describe the anticipated outcomes of the most ...</td>\n      <td>6</td>\n      <td>Energy savings (MWh)</td>\n      <td>3</td>\n      <td>NaN</td>\n      <td>NaN</td>\n      <td>NaN</td>\n      <td>NaN</td>\n      <td>09/07/2020 09:45:36 AM</td>\n    </tr>\n  </tbody>\n</table>\n</div>"
     },
     "metadata": {},
     "execution_count": 180
    }
   ],
   "source": [
    "india_18 = c_18[c_18['Country'] == COUNTRY]\n",
    "india_19 = c_19[c_19['Country'] == COUNTRY]\n",
    "india_20 = c_20[c_20['Country'] == COUNTRY]\n",
    "\n",
    "print(india_20['Parent Section'].value_counts())\n",
    "print(india_20['Section'].value_counts())\n",
    "india.head()"
   ]
  },
  {
   "source": [
    "# CITY-WIDE EMISSIONS 2020\n",
    "## Delhi & Chennai\n",
    "### 724 question responses"
   ],
   "cell_type": "markdown",
   "metadata": {}
  },
  {
   "cell_type": "code",
   "execution_count": 207,
   "metadata": {},
   "outputs": [],
   "source": [
    "NUM_Q = 'Question Number'\n",
    "NUM_R = 'Row Number'\n",
    "NUM_C = 'Column Number'\n",
    "\n",
    "NAME_Q = 'Question Name'\n",
    "NAME_R = 'Row Name'\n",
    "NAME_C = 'Column Name'\n",
    "\n",
    "ANS = 'Response Answer'"
   ]
  },
  {
   "cell_type": "code",
   "execution_count": 225,
   "metadata": {},
   "outputs": [
    {
     "output_type": "stream",
     "name": "stdout",
     "text": [
      "Chennai: 356 questions answered\nDelhi: 368 questions answered\n---------------------------------------------------------------------\nQ(4.0) Does your city have a city-wide emissions inventory to report?\nOptions: [Yes, In Progress, Intending to Undertake (2 years), Not Intending to Undertake]\n\n---------------------------------------------------------------------\nQ(4.1) Please state the dates of the accounting year or 12-month period for which you are reporting your latest city-wide GHG emissions inventory.\n\nChennai: FROM 2018-04-01 TO 2019-03-31\nDelhi: FROM 2014-01-01 TO 2015-01-01\n---------------------------------------------------------------------\nQ(4.2) Please indicate the category that best describes the boundary of your city-wide GHG emissions inventory.\n\n1. Please explain\n\t 1. Boundary of inventory relative to city boundary (reported in 0.1)\n\t\tAnswer: Same – covers entire city and nothing else\n\t 2. Excluded sources / areas\n\t\tAnswer: Does not include Scope 3 emissions.\n\t 3. Explanation of boundary choice where the inventory boundary differs from the city boundary (include inventory boundary, GDP and population)\n\t\tAnswer: The Inventory Boundary and the City Boundary are the same.\nChennai:\n 1. 101257    Please indicate the category that best describ...\nName: Question Name, dtype: object:\n---------------------------------------------------------------------\n"
     ]
    },
    {
     "output_type": "execute_result",
     "data": {
      "text/plain": [
       "       Questionnaire  Year Reported to CDP  Account Number  \\\n",
       "101257   Cities 2020                  2020           35905   \n",
       "174607   Cities 2020                  2020           35905   \n",
       "573543   Cities 2020                  2020           35905   \n",
       "\n",
       "                  Organization Country           CDP Region  \\\n",
       "101257  Corporation of Chennai   India  South and West Asia   \n",
       "174607  Corporation of Chennai   India  South and West Asia   \n",
       "573543  Corporation of Chennai   India  South and West Asia   \n",
       "\n",
       "             Parent Section                       Section Question Number  \\\n",
       "101257  City-wide Emissions  City-wide GHG Emissions Data             4.2   \n",
       "174607  City-wide Emissions  City-wide GHG Emissions Data             4.2   \n",
       "573543  City-wide Emissions  City-wide GHG Emissions Data             4.2   \n",
       "\n",
       "                                            Question Name  Column Number  \\\n",
       "101257  Please indicate the category that best describ...              1   \n",
       "174607  Please indicate the category that best describ...              2   \n",
       "573543  Please indicate the category that best describ...              3   \n",
       "\n",
       "                                              Column Name  Row Number  \\\n",
       "101257  Boundary of inventory relative to city boundar...           1   \n",
       "174607                           Excluded sources / areas           1   \n",
       "573543  Explanation of boundary choice where the inven...           1   \n",
       "\n",
       "              Row Name                                    Response Answer  \\\n",
       "101257  Please explain         Same – covers entire city and nothing else   \n",
       "174607  Please explain                Does not include Scope 3 emissions.   \n",
       "573543  Please explain  The Inventory Boundary and the City Boundary a...   \n",
       "\n",
       "       Comments File Name             Last update  \n",
       "101257      NaN       NaN  09/07/2020 09:45:36 AM  \n",
       "174607      NaN       NaN  09/07/2020 09:45:36 AM  \n",
       "573543      NaN       NaN  09/07/2020 09:45:36 AM  "
      ],
      "text/html": "<div>\n<style scoped>\n    .dataframe tbody tr th:only-of-type {\n        vertical-align: middle;\n    }\n\n    .dataframe tbody tr th {\n        vertical-align: top;\n    }\n\n    .dataframe thead th {\n        text-align: right;\n    }\n</style>\n<table border=\"1\" class=\"dataframe\">\n  <thead>\n    <tr style=\"text-align: right;\">\n      <th></th>\n      <th>Questionnaire</th>\n      <th>Year Reported to CDP</th>\n      <th>Account Number</th>\n      <th>Organization</th>\n      <th>Country</th>\n      <th>CDP Region</th>\n      <th>Parent Section</th>\n      <th>Section</th>\n      <th>Question Number</th>\n      <th>Question Name</th>\n      <th>Column Number</th>\n      <th>Column Name</th>\n      <th>Row Number</th>\n      <th>Row Name</th>\n      <th>Response Answer</th>\n      <th>Comments</th>\n      <th>File Name</th>\n      <th>Last update</th>\n    </tr>\n  </thead>\n  <tbody>\n    <tr>\n      <th>101257</th>\n      <td>Cities 2020</td>\n      <td>2020</td>\n      <td>35905</td>\n      <td>Corporation of Chennai</td>\n      <td>India</td>\n      <td>South and West Asia</td>\n      <td>City-wide Emissions</td>\n      <td>City-wide GHG Emissions Data</td>\n      <td>4.2</td>\n      <td>Please indicate the category that best describ...</td>\n      <td>1</td>\n      <td>Boundary of inventory relative to city boundar...</td>\n      <td>1</td>\n      <td>Please explain</td>\n      <td>Same – covers entire city and nothing else</td>\n      <td>NaN</td>\n      <td>NaN</td>\n      <td>09/07/2020 09:45:36 AM</td>\n    </tr>\n    <tr>\n      <th>174607</th>\n      <td>Cities 2020</td>\n      <td>2020</td>\n      <td>35905</td>\n      <td>Corporation of Chennai</td>\n      <td>India</td>\n      <td>South and West Asia</td>\n      <td>City-wide Emissions</td>\n      <td>City-wide GHG Emissions Data</td>\n      <td>4.2</td>\n      <td>Please indicate the category that best describ...</td>\n      <td>2</td>\n      <td>Excluded sources / areas</td>\n      <td>1</td>\n      <td>Please explain</td>\n      <td>Does not include Scope 3 emissions.</td>\n      <td>NaN</td>\n      <td>NaN</td>\n      <td>09/07/2020 09:45:36 AM</td>\n    </tr>\n    <tr>\n      <th>573543</th>\n      <td>Cities 2020</td>\n      <td>2020</td>\n      <td>35905</td>\n      <td>Corporation of Chennai</td>\n      <td>India</td>\n      <td>South and West Asia</td>\n      <td>City-wide Emissions</td>\n      <td>City-wide GHG Emissions Data</td>\n      <td>4.2</td>\n      <td>Please indicate the category that best describ...</td>\n      <td>3</td>\n      <td>Explanation of boundary choice where the inven...</td>\n      <td>1</td>\n      <td>Please explain</td>\n      <td>The Inventory Boundary and the City Boundary a...</td>\n      <td>NaN</td>\n      <td>NaN</td>\n      <td>09/07/2020 09:45:36 AM</td>\n    </tr>\n  </tbody>\n</table>\n</div>"
     },
     "metadata": {},
     "execution_count": 225
    }
   ],
   "source": [
    "city_emissions = india_20[india_20['Parent Section'] == 'City-wide Emissions']\n",
    "delhi = city_emissions[city_emissions['Organization'] == 'City of Delhi']\n",
    "chennai = city_emissions[city_emissions['Organization'] == 'Corporation of Chennai']\n",
    "\n",
    "print('Chennai:', len(chennai.index), 'questions answered')\n",
    "print('Delhi:', len(delhi.index), 'questions answered')\n",
    "print('---------------------------------------------------------------------')\n",
    "\n",
    "print('Q(4.0) Does your city have a city-wide emissions inventory to report?')\n",
    "print('Options: [Yes, In Progress, Intending to Undertake (2 years), Not Intending to Undertake]\\n')\n",
    "#print('Chennai:', chennai[chennai[NUM_Q] == '4.0'].at[df,ANS])\n",
    "#print('Delhi:', delhi[delhi[NUM_Q] == '4.0'].at[0,ANS])\n",
    "print('---------------------------------------------------------------------')\n",
    "\n",
    "print('Q(4.1) Please state the dates of the accounting year or 12-month period for which you are reporting your latest city-wide GHG emissions inventory.\\n')\n",
    "print('Chennai:', 'FROM %s TO %s' % (*chennai[chennai[NUM_Q] == '4.1'][ANS].to_list(),))\n",
    "print('Delhi:', 'FROM %s TO %s' % (*delhi[delhi[NUM_Q] == '4.1'][ANS].to_list(),))\n",
    "print('---------------------------------------------------------------------')\n",
    "\n",
    "print('Q(4.2) Please indicate the category that best describes the boundary of your city-wide GHG emissions inventory.\\n')\n",
    "\n",
    "def labelize(row_or_col):\n",
    "    if row_or_col == 'row':\n",
    "        return lambda row: (row[NUM_R], f'{row[NUM_R]}. {row[NAME_R]}')\n",
    "    return lambda col: (col[NUM_C], f'{col[NUM_C]}. {col[NAME_C]}')\n",
    "\n",
    "chennai_4_2 = chennai[chennai[NUM_Q] == '4.2']\n",
    "for row, name_r in chennai_4_2.apply(labelize('row'), axis=1).unique():\n",
    "    print(name_r)\n",
    "    row_df = chennai_4_2[chennai_4_2[NUM_R] == row]\n",
    "    for col, name_c in row_df.apply(labelize('col'), axis=1).unique():\n",
    "        print('\\t', name_c)\n",
    "        col_df = row_df[row_df[NUM_C] == col]\n",
    "        idx = col_df.index[0]\n",
    "        print('\\t\\tAnswer:', col_df.at[idx,ANS])\n",
    "        if col_df.at[idx,'Comments'] is not np.NaN:\n",
    "            print('\\t\\tComments:', col_df.at[idx,'Comments'])\n",
    "        if col_df.at[idx,'File Name'] is not np.NaN:\n",
    "            print('\\t\\tFurther info @:', col_df.at[idx,'File Name'])\n",
    "delhi_4_2 = delhi[delhi[NUM_Q] == '4.2']\n",
    "#for row in chennai_4_2[NUM_R].unique()\n",
    "print('Chennai:\\n', f'1. {chennai_4_2[chennai_4_2[NUM_C] == 1][NAME_Q]}:')\n",
    "print('---------------------------------------------------------------------')\n",
    "\n",
    "chennai_4_2"
   ]
  },
  {
   "cell_type": "code",
   "execution_count": 214,
   "metadata": {},
   "outputs": [
    {
     "output_type": "execute_result",
     "data": {
      "text/plain": [
       "101257    1. Please explain\n",
       "174607    1. Please explain\n",
       "573543    1. Please explain\n",
       "dtype: object"
      ]
     },
     "metadata": {},
     "execution_count": 214
    }
   ],
   "source": []
  },
  {
   "cell_type": "code",
   "execution_count": 86,
   "metadata": {},
   "outputs": [
    {
     "output_type": "display_data",
     "data": {
      "application/vnd.plotly.v1+json": {
       "config": {
        "plotlyServerURL": "https://plot.ly"
       },
       "data": [
        {
         "type": "bar",
         "x": [
          "Kolkata",
          "Jaipur",
          "Chennai",
          "Delhi",
          "Bangalore"
         ],
         "xaxis": "x",
         "y": [
          499,
          396,
          396,
          338,
          295
         ],
         "yaxis": "y"
        },
        {
         "type": "bar",
         "x": [
          "Rajkot",
          "Indore",
          "Kolkata",
          "Gangtok",
          "Nagpur",
          "Kochi",
          "Jaipur",
          "Chennai",
          "Delhi",
          "Pune",
          "Guwahati",
          "Panaji",
          "Bangalore"
         ],
         "xaxis": "x2",
         "y": [
          1517,
          709,
          620,
          598,
          573,
          569,
          535,
          493,
          489,
          487,
          369,
          317,
          301
         ],
         "yaxis": "y2"
        },
        {
         "type": "bar",
         "x": [
          "Delhi",
          "Chennai"
         ],
         "xaxis": "x3",
         "y": [
          1376,
          1136
         ],
         "yaxis": "y3"
        }
       ],
       "layout": {
        "annotations": [
         {
          "font": {
           "size": 16
          },
          "showarrow": false,
          "text": "2018",
          "x": 0.14444444444444446,
          "xanchor": "center",
          "xref": "paper",
          "y": 1,
          "yanchor": "bottom",
          "yref": "paper"
         },
         {
          "font": {
           "size": 16
          },
          "showarrow": false,
          "text": "2019",
          "x": 0.5,
          "xanchor": "center",
          "xref": "paper",
          "xshift": 30,
          "y": 1,
          "yanchor": "bottom",
          "yref": "paper"
         },
         {
          "font": {
           "size": 16
          },
          "showarrow": false,
          "text": "2020",
          "x": 0.8555555555555556,
          "xanchor": "center",
          "xref": "paper",
          "xshift": 40,
          "y": 1,
          "yanchor": "bottom",
          "yref": "paper"
         },
         {
          "font": {
           "size": 16
          },
          "showarrow": false,
          "text": "Cities",
          "x": 0.5,
          "xanchor": "center",
          "xref": "paper",
          "xshift": 30,
          "y": 0,
          "yanchor": "top",
          "yref": "paper",
          "yshift": -50
         },
         {
          "font": {
           "size": 16
          },
          "showarrow": false,
          "text": "# of responses",
          "textangle": -90,
          "x": 0,
          "xanchor": "right",
          "xref": "paper",
          "xshift": -40,
          "y": 0.5,
          "yanchor": "middle",
          "yref": "paper"
         }
        ],
        "showlegend": false,
        "template": {
         "data": {
          "bar": [
           {
            "error_x": {
             "color": "#2a3f5f"
            },
            "error_y": {
             "color": "#2a3f5f"
            },
            "marker": {
             "line": {
              "color": "#E5ECF6",
              "width": 0.5
             }
            },
            "type": "bar"
           }
          ],
          "barpolar": [
           {
            "marker": {
             "line": {
              "color": "#E5ECF6",
              "width": 0.5
             }
            },
            "type": "barpolar"
           }
          ],
          "carpet": [
           {
            "aaxis": {
             "endlinecolor": "#2a3f5f",
             "gridcolor": "white",
             "linecolor": "white",
             "minorgridcolor": "white",
             "startlinecolor": "#2a3f5f"
            },
            "baxis": {
             "endlinecolor": "#2a3f5f",
             "gridcolor": "white",
             "linecolor": "white",
             "minorgridcolor": "white",
             "startlinecolor": "#2a3f5f"
            },
            "type": "carpet"
           }
          ],
          "choropleth": [
           {
            "colorbar": {
             "outlinewidth": 0,
             "ticks": ""
            },
            "type": "choropleth"
           }
          ],
          "contour": [
           {
            "colorbar": {
             "outlinewidth": 0,
             "ticks": ""
            },
            "colorscale": [
             [
              0,
              "#0d0887"
             ],
             [
              0.1111111111111111,
              "#46039f"
             ],
             [
              0.2222222222222222,
              "#7201a8"
             ],
             [
              0.3333333333333333,
              "#9c179e"
             ],
             [
              0.4444444444444444,
              "#bd3786"
             ],
             [
              0.5555555555555556,
              "#d8576b"
             ],
             [
              0.6666666666666666,
              "#ed7953"
             ],
             [
              0.7777777777777778,
              "#fb9f3a"
             ],
             [
              0.8888888888888888,
              "#fdca26"
             ],
             [
              1,
              "#f0f921"
             ]
            ],
            "type": "contour"
           }
          ],
          "contourcarpet": [
           {
            "colorbar": {
             "outlinewidth": 0,
             "ticks": ""
            },
            "type": "contourcarpet"
           }
          ],
          "heatmap": [
           {
            "colorbar": {
             "outlinewidth": 0,
             "ticks": ""
            },
            "colorscale": [
             [
              0,
              "#0d0887"
             ],
             [
              0.1111111111111111,
              "#46039f"
             ],
             [
              0.2222222222222222,
              "#7201a8"
             ],
             [
              0.3333333333333333,
              "#9c179e"
             ],
             [
              0.4444444444444444,
              "#bd3786"
             ],
             [
              0.5555555555555556,
              "#d8576b"
             ],
             [
              0.6666666666666666,
              "#ed7953"
             ],
             [
              0.7777777777777778,
              "#fb9f3a"
             ],
             [
              0.8888888888888888,
              "#fdca26"
             ],
             [
              1,
              "#f0f921"
             ]
            ],
            "type": "heatmap"
           }
          ],
          "heatmapgl": [
           {
            "colorbar": {
             "outlinewidth": 0,
             "ticks": ""
            },
            "colorscale": [
             [
              0,
              "#0d0887"
             ],
             [
              0.1111111111111111,
              "#46039f"
             ],
             [
              0.2222222222222222,
              "#7201a8"
             ],
             [
              0.3333333333333333,
              "#9c179e"
             ],
             [
              0.4444444444444444,
              "#bd3786"
             ],
             [
              0.5555555555555556,
              "#d8576b"
             ],
             [
              0.6666666666666666,
              "#ed7953"
             ],
             [
              0.7777777777777778,
              "#fb9f3a"
             ],
             [
              0.8888888888888888,
              "#fdca26"
             ],
             [
              1,
              "#f0f921"
             ]
            ],
            "type": "heatmapgl"
           }
          ],
          "histogram": [
           {
            "marker": {
             "colorbar": {
              "outlinewidth": 0,
              "ticks": ""
             }
            },
            "type": "histogram"
           }
          ],
          "histogram2d": [
           {
            "colorbar": {
             "outlinewidth": 0,
             "ticks": ""
            },
            "colorscale": [
             [
              0,
              "#0d0887"
             ],
             [
              0.1111111111111111,
              "#46039f"
             ],
             [
              0.2222222222222222,
              "#7201a8"
             ],
             [
              0.3333333333333333,
              "#9c179e"
             ],
             [
              0.4444444444444444,
              "#bd3786"
             ],
             [
              0.5555555555555556,
              "#d8576b"
             ],
             [
              0.6666666666666666,
              "#ed7953"
             ],
             [
              0.7777777777777778,
              "#fb9f3a"
             ],
             [
              0.8888888888888888,
              "#fdca26"
             ],
             [
              1,
              "#f0f921"
             ]
            ],
            "type": "histogram2d"
           }
          ],
          "histogram2dcontour": [
           {
            "colorbar": {
             "outlinewidth": 0,
             "ticks": ""
            },
            "colorscale": [
             [
              0,
              "#0d0887"
             ],
             [
              0.1111111111111111,
              "#46039f"
             ],
             [
              0.2222222222222222,
              "#7201a8"
             ],
             [
              0.3333333333333333,
              "#9c179e"
             ],
             [
              0.4444444444444444,
              "#bd3786"
             ],
             [
              0.5555555555555556,
              "#d8576b"
             ],
             [
              0.6666666666666666,
              "#ed7953"
             ],
             [
              0.7777777777777778,
              "#fb9f3a"
             ],
             [
              0.8888888888888888,
              "#fdca26"
             ],
             [
              1,
              "#f0f921"
             ]
            ],
            "type": "histogram2dcontour"
           }
          ],
          "mesh3d": [
           {
            "colorbar": {
             "outlinewidth": 0,
             "ticks": ""
            },
            "type": "mesh3d"
           }
          ],
          "parcoords": [
           {
            "line": {
             "colorbar": {
              "outlinewidth": 0,
              "ticks": ""
             }
            },
            "type": "parcoords"
           }
          ],
          "pie": [
           {
            "automargin": true,
            "type": "pie"
           }
          ],
          "scatter": [
           {
            "marker": {
             "colorbar": {
              "outlinewidth": 0,
              "ticks": ""
             }
            },
            "type": "scatter"
           }
          ],
          "scatter3d": [
           {
            "line": {
             "colorbar": {
              "outlinewidth": 0,
              "ticks": ""
             }
            },
            "marker": {
             "colorbar": {
              "outlinewidth": 0,
              "ticks": ""
             }
            },
            "type": "scatter3d"
           }
          ],
          "scattercarpet": [
           {
            "marker": {
             "colorbar": {
              "outlinewidth": 0,
              "ticks": ""
             }
            },
            "type": "scattercarpet"
           }
          ],
          "scattergeo": [
           {
            "marker": {
             "colorbar": {
              "outlinewidth": 0,
              "ticks": ""
             }
            },
            "type": "scattergeo"
           }
          ],
          "scattergl": [
           {
            "marker": {
             "colorbar": {
              "outlinewidth": 0,
              "ticks": ""
             }
            },
            "type": "scattergl"
           }
          ],
          "scattermapbox": [
           {
            "marker": {
             "colorbar": {
              "outlinewidth": 0,
              "ticks": ""
             }
            },
            "type": "scattermapbox"
           }
          ],
          "scatterpolar": [
           {
            "marker": {
             "colorbar": {
              "outlinewidth": 0,
              "ticks": ""
             }
            },
            "type": "scatterpolar"
           }
          ],
          "scatterpolargl": [
           {
            "marker": {
             "colorbar": {
              "outlinewidth": 0,
              "ticks": ""
             }
            },
            "type": "scatterpolargl"
           }
          ],
          "scatterternary": [
           {
            "marker": {
             "colorbar": {
              "outlinewidth": 0,
              "ticks": ""
             }
            },
            "type": "scatterternary"
           }
          ],
          "surface": [
           {
            "colorbar": {
             "outlinewidth": 0,
             "ticks": ""
            },
            "colorscale": [
             [
              0,
              "#0d0887"
             ],
             [
              0.1111111111111111,
              "#46039f"
             ],
             [
              0.2222222222222222,
              "#7201a8"
             ],
             [
              0.3333333333333333,
              "#9c179e"
             ],
             [
              0.4444444444444444,
              "#bd3786"
             ],
             [
              0.5555555555555556,
              "#d8576b"
             ],
             [
              0.6666666666666666,
              "#ed7953"
             ],
             [
              0.7777777777777778,
              "#fb9f3a"
             ],
             [
              0.8888888888888888,
              "#fdca26"
             ],
             [
              1,
              "#f0f921"
             ]
            ],
            "type": "surface"
           }
          ],
          "table": [
           {
            "cells": {
             "fill": {
              "color": "#EBF0F8"
             },
             "line": {
              "color": "white"
             }
            },
            "header": {
             "fill": {
              "color": "#C8D4E3"
             },
             "line": {
              "color": "white"
             }
            },
            "type": "table"
           }
          ]
         },
         "layout": {
          "annotationdefaults": {
           "arrowcolor": "#2a3f5f",
           "arrowhead": 0,
           "arrowwidth": 1
          },
          "coloraxis": {
           "colorbar": {
            "outlinewidth": 0,
            "ticks": ""
           }
          },
          "colorscale": {
           "diverging": [
            [
             0,
             "#8e0152"
            ],
            [
             0.1,
             "#c51b7d"
            ],
            [
             0.2,
             "#de77ae"
            ],
            [
             0.3,
             "#f1b6da"
            ],
            [
             0.4,
             "#fde0ef"
            ],
            [
             0.5,
             "#f7f7f7"
            ],
            [
             0.6,
             "#e6f5d0"
            ],
            [
             0.7,
             "#b8e186"
            ],
            [
             0.8,
             "#7fbc41"
            ],
            [
             0.9,
             "#4d9221"
            ],
            [
             1,
             "#276419"
            ]
           ],
           "sequential": [
            [
             0,
             "#0d0887"
            ],
            [
             0.1111111111111111,
             "#46039f"
            ],
            [
             0.2222222222222222,
             "#7201a8"
            ],
            [
             0.3333333333333333,
             "#9c179e"
            ],
            [
             0.4444444444444444,
             "#bd3786"
            ],
            [
             0.5555555555555556,
             "#d8576b"
            ],
            [
             0.6666666666666666,
             "#ed7953"
            ],
            [
             0.7777777777777778,
             "#fb9f3a"
            ],
            [
             0.8888888888888888,
             "#fdca26"
            ],
            [
             1,
             "#f0f921"
            ]
           ],
           "sequentialminus": [
            [
             0,
             "#0d0887"
            ],
            [
             0.1111111111111111,
             "#46039f"
            ],
            [
             0.2222222222222222,
             "#7201a8"
            ],
            [
             0.3333333333333333,
             "#9c179e"
            ],
            [
             0.4444444444444444,
             "#bd3786"
            ],
            [
             0.5555555555555556,
             "#d8576b"
            ],
            [
             0.6666666666666666,
             "#ed7953"
            ],
            [
             0.7777777777777778,
             "#fb9f3a"
            ],
            [
             0.8888888888888888,
             "#fdca26"
            ],
            [
             1,
             "#f0f921"
            ]
           ]
          },
          "colorway": [
           "#636efa",
           "#EF553B",
           "#00cc96",
           "#ab63fa",
           "#FFA15A",
           "#19d3f3",
           "#FF6692",
           "#B6E880",
           "#FF97FF",
           "#FECB52"
          ],
          "font": {
           "color": "#2a3f5f"
          },
          "geo": {
           "bgcolor": "white",
           "lakecolor": "white",
           "landcolor": "#E5ECF6",
           "showlakes": true,
           "showland": true,
           "subunitcolor": "white"
          },
          "hoverlabel": {
           "align": "left"
          },
          "hovermode": "closest",
          "mapbox": {
           "style": "light"
          },
          "paper_bgcolor": "white",
          "plot_bgcolor": "#E5ECF6",
          "polar": {
           "angularaxis": {
            "gridcolor": "white",
            "linecolor": "white",
            "ticks": ""
           },
           "bgcolor": "#E5ECF6",
           "radialaxis": {
            "gridcolor": "white",
            "linecolor": "white",
            "ticks": ""
           }
          },
          "scene": {
           "xaxis": {
            "backgroundcolor": "#E5ECF6",
            "gridcolor": "white",
            "gridwidth": 2,
            "linecolor": "white",
            "showbackground": true,
            "ticks": "",
            "zerolinecolor": "white"
           },
           "yaxis": {
            "backgroundcolor": "#E5ECF6",
            "gridcolor": "white",
            "gridwidth": 2,
            "linecolor": "white",
            "showbackground": true,
            "ticks": "",
            "zerolinecolor": "white"
           },
           "zaxis": {
            "backgroundcolor": "#E5ECF6",
            "gridcolor": "white",
            "gridwidth": 2,
            "linecolor": "white",
            "showbackground": true,
            "ticks": "",
            "zerolinecolor": "white"
           }
          },
          "shapedefaults": {
           "line": {
            "color": "#2a3f5f"
           }
          },
          "ternary": {
           "aaxis": {
            "gridcolor": "white",
            "linecolor": "white",
            "ticks": ""
           },
           "baxis": {
            "gridcolor": "white",
            "linecolor": "white",
            "ticks": ""
           },
           "bgcolor": "#E5ECF6",
           "caxis": {
            "gridcolor": "white",
            "linecolor": "white",
            "ticks": ""
           }
          },
          "title": {
           "x": 0.05
          },
          "xaxis": {
           "automargin": true,
           "gridcolor": "white",
           "linecolor": "white",
           "ticks": "",
           "title": {
            "standoff": 15
           },
           "zerolinecolor": "white",
           "zerolinewidth": 2
          },
          "yaxis": {
           "automargin": true,
           "gridcolor": "white",
           "linecolor": "white",
           "ticks": "",
           "title": {
            "standoff": 15
           },
           "zerolinecolor": "white",
           "zerolinewidth": 2
          }
         }
        },
        "title": {
         "font": {
          "size": 24
         },
         "text": "Indian Cities Disclosing to CDP",
         "x": 0.5,
         "yanchor": "top"
        },
        "xaxis": {
         "anchor": "y",
         "domain": [
          0,
          0.2888888888888889
         ],
         "tickangle": -70
        },
        "xaxis2": {
         "anchor": "y2",
         "domain": [
          0.35,
          0.8
         ]
        },
        "xaxis3": {
         "anchor": "y3",
         "domain": [
          0.85,
          1
         ]
        },
        "yaxis": {
         "anchor": "x",
         "domain": [
          0,
          1
         ]
        },
        "yaxis2": {
         "anchor": "x2",
         "domain": [
          0,
          1
         ],
         "matches": "y",
         "showticklabels": false
        },
        "yaxis3": {
         "anchor": "x3",
         "domain": [
          0,
          1
         ],
         "matches": "y",
         "showticklabels": false
        }
       }
      },
      "text/html": "<div>\n        \n        \n            <div id=\"84490bf9-00af-4856-b0fe-4f204a09e4b2\" class=\"plotly-graph-div\" style=\"height:525px; width:100%;\"></div>\n            <script type=\"text/javascript\">\n                require([\"plotly\"], function(Plotly) {\n                    window.PLOTLYENV=window.PLOTLYENV || {};\n                    \n                if (document.getElementById(\"84490bf9-00af-4856-b0fe-4f204a09e4b2\")) {\n                    Plotly.newPlot(\n                        '84490bf9-00af-4856-b0fe-4f204a09e4b2',\n                        [{\"type\": \"bar\", \"x\": [\"Kolkata\", \"Jaipur\", \"Chennai\", \"Delhi\", \"Bangalore\"], \"xaxis\": \"x\", \"y\": [499, 396, 396, 338, 295], \"yaxis\": \"y\"}, {\"type\": \"bar\", \"x\": [\"Rajkot\", \"Indore\", \"Kolkata\", \"Gangtok\", \"Nagpur\", \"Kochi\", \"Jaipur\", \"Chennai\", \"Delhi\", \"Pune\", \"Guwahati\", \"Panaji\", \"Bangalore\"], \"xaxis\": \"x2\", \"y\": [1517, 709, 620, 598, 573, 569, 535, 493, 489, 487, 369, 317, 301], \"yaxis\": \"y2\"}, {\"type\": \"bar\", \"x\": [\"Delhi\", \"Chennai\"], \"xaxis\": \"x3\", \"y\": [1376, 1136], \"yaxis\": \"y3\"}],\n                        {\"annotations\": [{\"font\": {\"size\": 16}, \"showarrow\": false, \"text\": \"2018\", \"x\": 0.14444444444444446, \"xanchor\": \"center\", \"xref\": \"paper\", \"y\": 1.0, \"yanchor\": \"bottom\", \"yref\": \"paper\"}, {\"font\": {\"size\": 16}, \"showarrow\": false, \"text\": \"2019\", \"x\": 0.5, \"xanchor\": \"center\", \"xref\": \"paper\", \"xshift\": 30, \"y\": 1.0, \"yanchor\": \"bottom\", \"yref\": \"paper\"}, {\"font\": {\"size\": 16}, \"showarrow\": false, \"text\": \"2020\", \"x\": 0.8555555555555556, \"xanchor\": \"center\", \"xref\": \"paper\", \"xshift\": 40, \"y\": 1.0, \"yanchor\": \"bottom\", \"yref\": \"paper\"}, {\"font\": {\"size\": 16}, \"showarrow\": false, \"text\": \"Cities\", \"x\": 0.5, \"xanchor\": \"center\", \"xref\": \"paper\", \"xshift\": 30, \"y\": 0, \"yanchor\": \"top\", \"yref\": \"paper\", \"yshift\": -50}, {\"font\": {\"size\": 16}, \"showarrow\": false, \"text\": \"# of responses\", \"textangle\": -90, \"x\": 0, \"xanchor\": \"right\", \"xref\": \"paper\", \"xshift\": -40, \"y\": 0.5, \"yanchor\": \"middle\", \"yref\": \"paper\"}], \"showlegend\": false, \"template\": {\"data\": {\"bar\": [{\"error_x\": {\"color\": \"#2a3f5f\"}, \"error_y\": {\"color\": \"#2a3f5f\"}, \"marker\": {\"line\": {\"color\": \"#E5ECF6\", \"width\": 0.5}}, \"type\": \"bar\"}], \"barpolar\": [{\"marker\": {\"line\": {\"color\": \"#E5ECF6\", \"width\": 0.5}}, \"type\": \"barpolar\"}], \"carpet\": [{\"aaxis\": {\"endlinecolor\": \"#2a3f5f\", \"gridcolor\": \"white\", \"linecolor\": \"white\", \"minorgridcolor\": \"white\", \"startlinecolor\": \"#2a3f5f\"}, \"baxis\": {\"endlinecolor\": \"#2a3f5f\", \"gridcolor\": \"white\", \"linecolor\": \"white\", \"minorgridcolor\": \"white\", \"startlinecolor\": \"#2a3f5f\"}, \"type\": \"carpet\"}], \"choropleth\": [{\"colorbar\": {\"outlinewidth\": 0, \"ticks\": \"\"}, \"type\": \"choropleth\"}], \"contour\": [{\"colorbar\": {\"outlinewidth\": 0, \"ticks\": \"\"}, \"colorscale\": [[0.0, \"#0d0887\"], [0.1111111111111111, \"#46039f\"], [0.2222222222222222, \"#7201a8\"], [0.3333333333333333, \"#9c179e\"], [0.4444444444444444, \"#bd3786\"], [0.5555555555555556, \"#d8576b\"], [0.6666666666666666, \"#ed7953\"], [0.7777777777777778, \"#fb9f3a\"], [0.8888888888888888, \"#fdca26\"], [1.0, \"#f0f921\"]], \"type\": \"contour\"}], \"contourcarpet\": [{\"colorbar\": {\"outlinewidth\": 0, \"ticks\": \"\"}, \"type\": \"contourcarpet\"}], \"heatmap\": [{\"colorbar\": {\"outlinewidth\": 0, \"ticks\": \"\"}, \"colorscale\": [[0.0, \"#0d0887\"], [0.1111111111111111, \"#46039f\"], [0.2222222222222222, \"#7201a8\"], [0.3333333333333333, \"#9c179e\"], [0.4444444444444444, \"#bd3786\"], [0.5555555555555556, \"#d8576b\"], [0.6666666666666666, \"#ed7953\"], [0.7777777777777778, \"#fb9f3a\"], [0.8888888888888888, \"#fdca26\"], [1.0, \"#f0f921\"]], \"type\": \"heatmap\"}], \"heatmapgl\": [{\"colorbar\": {\"outlinewidth\": 0, \"ticks\": \"\"}, \"colorscale\": [[0.0, \"#0d0887\"], [0.1111111111111111, \"#46039f\"], [0.2222222222222222, \"#7201a8\"], [0.3333333333333333, \"#9c179e\"], [0.4444444444444444, \"#bd3786\"], [0.5555555555555556, \"#d8576b\"], [0.6666666666666666, \"#ed7953\"], [0.7777777777777778, \"#fb9f3a\"], [0.8888888888888888, \"#fdca26\"], [1.0, \"#f0f921\"]], \"type\": \"heatmapgl\"}], \"histogram\": [{\"marker\": {\"colorbar\": {\"outlinewidth\": 0, \"ticks\": \"\"}}, \"type\": \"histogram\"}], \"histogram2d\": [{\"colorbar\": {\"outlinewidth\": 0, \"ticks\": \"\"}, \"colorscale\": [[0.0, \"#0d0887\"], [0.1111111111111111, \"#46039f\"], [0.2222222222222222, \"#7201a8\"], [0.3333333333333333, \"#9c179e\"], [0.4444444444444444, \"#bd3786\"], [0.5555555555555556, \"#d8576b\"], [0.6666666666666666, \"#ed7953\"], [0.7777777777777778, \"#fb9f3a\"], [0.8888888888888888, \"#fdca26\"], [1.0, \"#f0f921\"]], \"type\": \"histogram2d\"}], \"histogram2dcontour\": [{\"colorbar\": {\"outlinewidth\": 0, \"ticks\": \"\"}, \"colorscale\": [[0.0, \"#0d0887\"], [0.1111111111111111, \"#46039f\"], [0.2222222222222222, \"#7201a8\"], [0.3333333333333333, \"#9c179e\"], [0.4444444444444444, \"#bd3786\"], [0.5555555555555556, \"#d8576b\"], [0.6666666666666666, \"#ed7953\"], [0.7777777777777778, \"#fb9f3a\"], [0.8888888888888888, \"#fdca26\"], [1.0, \"#f0f921\"]], \"type\": \"histogram2dcontour\"}], \"mesh3d\": [{\"colorbar\": {\"outlinewidth\": 0, \"ticks\": \"\"}, \"type\": \"mesh3d\"}], \"parcoords\": [{\"line\": {\"colorbar\": {\"outlinewidth\": 0, \"ticks\": \"\"}}, \"type\": \"parcoords\"}], \"pie\": [{\"automargin\": true, \"type\": \"pie\"}], \"scatter\": [{\"marker\": {\"colorbar\": {\"outlinewidth\": 0, \"ticks\": \"\"}}, \"type\": \"scatter\"}], \"scatter3d\": [{\"line\": {\"colorbar\": {\"outlinewidth\": 0, \"ticks\": \"\"}}, \"marker\": {\"colorbar\": {\"outlinewidth\": 0, \"ticks\": \"\"}}, \"type\": \"scatter3d\"}], \"scattercarpet\": [{\"marker\": {\"colorbar\": {\"outlinewidth\": 0, \"ticks\": \"\"}}, \"type\": \"scattercarpet\"}], \"scattergeo\": [{\"marker\": {\"colorbar\": {\"outlinewidth\": 0, \"ticks\": \"\"}}, \"type\": \"scattergeo\"}], \"scattergl\": [{\"marker\": {\"colorbar\": {\"outlinewidth\": 0, \"ticks\": \"\"}}, \"type\": \"scattergl\"}], \"scattermapbox\": [{\"marker\": {\"colorbar\": {\"outlinewidth\": 0, \"ticks\": \"\"}}, \"type\": \"scattermapbox\"}], \"scatterpolar\": [{\"marker\": {\"colorbar\": {\"outlinewidth\": 0, \"ticks\": \"\"}}, \"type\": \"scatterpolar\"}], \"scatterpolargl\": [{\"marker\": {\"colorbar\": {\"outlinewidth\": 0, \"ticks\": \"\"}}, \"type\": \"scatterpolargl\"}], \"scatterternary\": [{\"marker\": {\"colorbar\": {\"outlinewidth\": 0, \"ticks\": \"\"}}, \"type\": \"scatterternary\"}], \"surface\": [{\"colorbar\": {\"outlinewidth\": 0, \"ticks\": \"\"}, \"colorscale\": [[0.0, \"#0d0887\"], [0.1111111111111111, \"#46039f\"], [0.2222222222222222, \"#7201a8\"], [0.3333333333333333, \"#9c179e\"], [0.4444444444444444, \"#bd3786\"], [0.5555555555555556, \"#d8576b\"], [0.6666666666666666, \"#ed7953\"], [0.7777777777777778, \"#fb9f3a\"], [0.8888888888888888, \"#fdca26\"], [1.0, \"#f0f921\"]], \"type\": \"surface\"}], \"table\": [{\"cells\": {\"fill\": {\"color\": \"#EBF0F8\"}, \"line\": {\"color\": \"white\"}}, \"header\": {\"fill\": {\"color\": \"#C8D4E3\"}, \"line\": {\"color\": \"white\"}}, \"type\": \"table\"}]}, \"layout\": {\"annotationdefaults\": {\"arrowcolor\": \"#2a3f5f\", \"arrowhead\": 0, \"arrowwidth\": 1}, \"coloraxis\": {\"colorbar\": {\"outlinewidth\": 0, \"ticks\": \"\"}}, \"colorscale\": {\"diverging\": [[0, \"#8e0152\"], [0.1, \"#c51b7d\"], [0.2, \"#de77ae\"], [0.3, \"#f1b6da\"], [0.4, \"#fde0ef\"], [0.5, \"#f7f7f7\"], [0.6, \"#e6f5d0\"], [0.7, \"#b8e186\"], [0.8, \"#7fbc41\"], [0.9, \"#4d9221\"], [1, \"#276419\"]], \"sequential\": [[0.0, \"#0d0887\"], [0.1111111111111111, \"#46039f\"], [0.2222222222222222, \"#7201a8\"], [0.3333333333333333, \"#9c179e\"], [0.4444444444444444, \"#bd3786\"], [0.5555555555555556, \"#d8576b\"], [0.6666666666666666, \"#ed7953\"], [0.7777777777777778, \"#fb9f3a\"], [0.8888888888888888, \"#fdca26\"], [1.0, \"#f0f921\"]], \"sequentialminus\": [[0.0, \"#0d0887\"], [0.1111111111111111, \"#46039f\"], [0.2222222222222222, \"#7201a8\"], [0.3333333333333333, \"#9c179e\"], [0.4444444444444444, \"#bd3786\"], [0.5555555555555556, \"#d8576b\"], [0.6666666666666666, \"#ed7953\"], [0.7777777777777778, \"#fb9f3a\"], [0.8888888888888888, \"#fdca26\"], [1.0, \"#f0f921\"]]}, \"colorway\": [\"#636efa\", \"#EF553B\", \"#00cc96\", \"#ab63fa\", \"#FFA15A\", \"#19d3f3\", \"#FF6692\", \"#B6E880\", \"#FF97FF\", \"#FECB52\"], \"font\": {\"color\": \"#2a3f5f\"}, \"geo\": {\"bgcolor\": \"white\", \"lakecolor\": \"white\", \"landcolor\": \"#E5ECF6\", \"showlakes\": true, \"showland\": true, \"subunitcolor\": \"white\"}, \"hoverlabel\": {\"align\": \"left\"}, \"hovermode\": \"closest\", \"mapbox\": {\"style\": \"light\"}, \"paper_bgcolor\": \"white\", \"plot_bgcolor\": \"#E5ECF6\", \"polar\": {\"angularaxis\": {\"gridcolor\": \"white\", \"linecolor\": \"white\", \"ticks\": \"\"}, \"bgcolor\": \"#E5ECF6\", \"radialaxis\": {\"gridcolor\": \"white\", \"linecolor\": \"white\", \"ticks\": \"\"}}, \"scene\": {\"xaxis\": {\"backgroundcolor\": \"#E5ECF6\", \"gridcolor\": \"white\", \"gridwidth\": 2, \"linecolor\": \"white\", \"showbackground\": true, \"ticks\": \"\", \"zerolinecolor\": \"white\"}, \"yaxis\": {\"backgroundcolor\": \"#E5ECF6\", \"gridcolor\": \"white\", \"gridwidth\": 2, \"linecolor\": \"white\", \"showbackground\": true, \"ticks\": \"\", \"zerolinecolor\": \"white\"}, \"zaxis\": {\"backgroundcolor\": \"#E5ECF6\", \"gridcolor\": \"white\", \"gridwidth\": 2, \"linecolor\": \"white\", \"showbackground\": true, \"ticks\": \"\", \"zerolinecolor\": \"white\"}}, \"shapedefaults\": {\"line\": {\"color\": \"#2a3f5f\"}}, \"ternary\": {\"aaxis\": {\"gridcolor\": \"white\", \"linecolor\": \"white\", \"ticks\": \"\"}, \"baxis\": {\"gridcolor\": \"white\", \"linecolor\": \"white\", \"ticks\": \"\"}, \"bgcolor\": \"#E5ECF6\", \"caxis\": {\"gridcolor\": \"white\", \"linecolor\": \"white\", \"ticks\": \"\"}}, \"title\": {\"x\": 0.05}, \"xaxis\": {\"automargin\": true, \"gridcolor\": \"white\", \"linecolor\": \"white\", \"ticks\": \"\", \"title\": {\"standoff\": 15}, \"zerolinecolor\": \"white\", \"zerolinewidth\": 2}, \"yaxis\": {\"automargin\": true, \"gridcolor\": \"white\", \"linecolor\": \"white\", \"ticks\": \"\", \"title\": {\"standoff\": 15}, \"zerolinecolor\": \"white\", \"zerolinewidth\": 2}}}, \"title\": {\"font\": {\"size\": 24}, \"text\": \"Indian Cities Disclosing to CDP\", \"x\": 0.5, \"yanchor\": \"top\"}, \"xaxis\": {\"anchor\": \"y\", \"domain\": [0.0, 0.2888888888888889], \"tickangle\": -70}, \"xaxis2\": {\"anchor\": \"y2\", \"domain\": [0.35, 0.8]}, \"xaxis3\": {\"anchor\": \"y3\", \"domain\": [0.85, 1]}, \"yaxis\": {\"anchor\": \"x\", \"domain\": [0.0, 1.0]}, \"yaxis2\": {\"anchor\": \"x2\", \"domain\": [0.0, 1.0], \"matches\": \"y\", \"showticklabels\": false}, \"yaxis3\": {\"anchor\": \"x3\", \"domain\": [0.0, 1.0], \"matches\": \"y\", \"showticklabels\": false}},\n                        {\"responsive\": true}\n                    ).then(function(){\n                            \nvar gd = document.getElementById('84490bf9-00af-4856-b0fe-4f204a09e4b2');\nvar x = new MutationObserver(function (mutations, observer) {{\n        var display = window.getComputedStyle(gd).display;\n        if (!display || display === 'none') {{\n            console.log([gd, 'removed!']);\n            Plotly.purge(gd);\n            observer.disconnect();\n        }}\n}});\n\n// Listen for the removal of the full notebook cells\nvar notebookContainer = gd.closest('#notebook-container');\nif (notebookContainer) {{\n    x.observe(notebookContainer, {childList: true});\n}}\n\n// Listen for the clearing of the current output cell\nvar outputEl = gd.closest('.output');\nif (outputEl) {{\n    x.observe(outputEl, {childList: true});\n}}\n\n                        })\n                };\n                });\n            </script>\n        </div>"
     },
     "metadata": {}
    }
   ],
   "source": [
    "india_18_orgs = india_18['Organization'].value_counts()\n",
    "india_19_orgs = india_19['Organization'].value_counts()\n",
    "india_20_orgs = india_20['Organization'].value_counts()\n",
    "\n",
    "fig = make_subplots(rows=1, cols=3, shared_yaxes=True, subplot_titles=('2018', '2019', '2020'), x_title='Cities', y_title='# of responses')\n",
    "fig.add_trace(go.Bar(x=india_18_orgs.index.map(clean_city_name), y=india_18_orgs), row=1, col=1)\n",
    "fig.add_trace(go.Bar(x=india_19_orgs.index.map(clean_city_name), y=india_19_orgs), row=1, col=2)\n",
    "fig.add_trace(go.Bar(x=india_20_orgs.index.map(clean_city_name), y=india_20_orgs), row=1, col=3)\n",
    "fig.update_layout(\n",
    "    title={\n",
    "        'text':'Indian Cities Disclosing to CDP', \n",
    "        'font_size':24, 'yanchor':'top', 'x':0.5},\n",
    "    showlegend=False,\n",
    "    xaxis={'tickangle':-70},\n",
    "    xaxis2={'domain':[0.35,0.8]},\n",
    "    xaxis3={'domain':[0.85,1]})\n",
    "fig.layout.annotations[1]['xshift'] = 30\n",
    "fig.layout.annotations[2]['xshift'] = 40\n",
    "fig.layout.annotations[3]['yshift'] = -50\n",
    "fig.layout.annotations[3]['xshift'] = 30\n",
    "fig.show()"
   ]
  },
  {
   "cell_type": "code",
   "execution_count": 177,
   "metadata": {},
   "outputs": [
    {
     "output_type": "execute_result",
     "data": {
      "text/plain": [
       "<__main__.TriMap at 0x1c5050312c8>"
      ],
      "text/html": "<div style=\"width:100%;\"><div style=\"position:relative;width:100%;height:0;padding-bottom:60%;\"><span style=\"color:#565656\">Make this Notebook Trusted to load map: File -> Trust Notebook</span><iframe src=\"about:blank\" style=\"position:absolute;width:100%;height:100%;left:0;top:0;border:none !important;\" data-html=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 onload=\"this.contentDocument.open();this.contentDocument.write(atob(this.getAttribute('data-html')));this.contentDocument.close();\" allowfullscreen webkitallowfullscreen mozallowfullscreen></iframe></div></div>"
     },
     "metadata": {},
     "execution_count": 177
    }
   ],
   "source": [
    "from jinja2 import Template\n",
    "from folium.features import DivIcon\n",
    "\n",
    "maps_responses = [folium.Map(\n",
    "    width='33.3%' if left != '33.3%' else '33.4%',\n",
    "    left=left, position='absolute',\n",
    "    zoom_start=4, zoom_control=False, max_zoom=7,\n",
    "    tiles='CartoDB dark_matter',\n",
    "    location=[23,80]\n",
    ") for left in ('0%', '33.3%', '66.7%')]\n",
    "\n",
    "with open('constants.json') as f:\n",
    "    latlong = json.load(f)\n",
    "\n",
    "cmap = plt.get_cmap('spring_r')\n",
    "norm = colors.Normalize(vmin=295, vmax=1517)\n",
    "for i, in_orgs in enumerate((india_18_orgs, india_19_orgs, india_20_orgs)):\n",
    "    for city in in_orgs.index:\n",
    "        count = in_orgs[city]\n",
    "        color = colors.to_hex(cmap(norm(count)))\n",
    "        folium.CircleMarker(\n",
    "            location=latlong[clean_city_name(city)],\n",
    "            radius=30 * count / 1517,\n",
    "            popup=f'{city}<br/>({count})',\n",
    "            color=color,\n",
    "            fill=True,\n",
    "            fill_color=color\n",
    "        ).add_to(maps_responses[i])\n",
    "for i, year in enumerate((2018, 2019, 2020)):\n",
    "    folium.map.Marker(\n",
    "        [30, 80],\n",
    "        icon=DivIcon(\n",
    "            icon_size=(155,50), \n",
    "            icon_anchor=(-40, 100), \n",
    "            html=f'<div style=\"font-size:24px;\"><p style=\"color:white;\">{year}</p></div>')\n",
    "    ).add_to(maps_responses[i])\n",
    "\n",
    "\n",
    "# Interactive Map with separately pannable sections for each year\n",
    "from branca.element import Figure\n",
    "fig = Figure()\n",
    "for map_ in maps_responses:\n",
    "    fig.add_child(map_)\n",
    "#display(HTML(fig._repr_html_()))\n",
    "\n",
    "class TriMap(folium.plugins.DualMap):\n",
    "    _template = Template(\"\"\"\n",
    "        {% macro script(this, kwargs) %}\n",
    "            {{ this.m1.get_name() }}.sync({{ this.m2.get_name() }});\n",
    "            {{ this.m2.get_name() }}.sync({{ this.m1.get_name() }});\n",
    "            {{ this.m3.get_name() }}.sync({{ this.m1.get_name() }});\n",
    "            {{ this.m1.get_name() }}.sync({{ this.m3.get_name() }});\n",
    "            {{ this.m3.get_name() }}.sync({{ this.m2.get_name() }});\n",
    "            {{ this.m2.get_name() }}.sync({{ this.m3.get_name() }});\n",
    "        {% endmacro %}\n",
    "    \"\"\")\n",
    "\n",
    "    def __init__(self, *maps):\n",
    "        super(folium.plugins.DualMap, self).__init__()\n",
    "        self.m1 = maps[0]\n",
    "        self.m2 = maps[1]\n",
    "        self.m3 = maps[2]\n",
    "        figure = Figure()\n",
    "        figure.add_child(self.m1)\n",
    "        figure.add_child(self.m2)\n",
    "        figure.add_child(self.m3)\n",
    "        figure.add_child(self)\n",
    "\n",
    "        self.children_for_m2 = []\n",
    "        self.children_for_m2_copied = []\n",
    "\n",
    "TriMap(*maps_responses)"
   ]
  },
  {
   "cell_type": "code",
   "execution_count": null,
   "metadata": {},
   "outputs": [],
   "source": []
  }
 ]
}