{
 "metadata": {
  "language_info": {
   "codemirror_mode": {
    "name": "ipython",
    "version": 3
   },
   "file_extension": ".py",
   "mimetype": "text/x-python",
   "name": "python",
   "nbconvert_exporter": "python",
   "pygments_lexer": "ipython3",
   "version": "3.8.5-final"
  },
  "orig_nbformat": 2,
  "kernelspec": {
   "name": "python3",
   "display_name": "Python 3",
   "language": "python"
  }
 },
 "nbformat": 4,
 "nbformat_minor": 2,
 "cells": [
  {
   "cell_type": "code",
   "execution_count": 1,
   "metadata": {},
   "outputs": [
    {
     "output_type": "error",
     "ename": "ModuleNotFoundError",
     "evalue": "No module named 'textblob'",
     "traceback": [
      "\u001b[1;31m---------------------------------------------------------------------------\u001b[0m",
      "\u001b[1;31mModuleNotFoundError\u001b[0m                       Traceback (most recent call last)",
      "\u001b[1;32m<ipython-input-1-3fa6d0e2df25>\u001b[0m in \u001b[0;36m<module>\u001b[1;34m\u001b[0m\n\u001b[0;32m      9\u001b[0m \u001b[1;32mfrom\u001b[0m \u001b[0mnltk\u001b[0m\u001b[1;33m.\u001b[0m\u001b[0mstem\u001b[0m \u001b[1;32mimport\u001b[0m \u001b[0mPorterStemmer\u001b[0m\u001b[1;33m\u001b[0m\u001b[1;33m\u001b[0m\u001b[0m\n\u001b[0;32m     10\u001b[0m \u001b[1;32mfrom\u001b[0m \u001b[0mnltk\u001b[0m\u001b[1;33m.\u001b[0m\u001b[0mtokenize\u001b[0m \u001b[1;32mimport\u001b[0m \u001b[0mword_tokenize\u001b[0m\u001b[1;33m,\u001b[0m \u001b[0msent_tokenize\u001b[0m\u001b[1;33m\u001b[0m\u001b[1;33m\u001b[0m\u001b[0m\n\u001b[1;32m---> 11\u001b[1;33m \u001b[1;32mfrom\u001b[0m \u001b[0mtextblob\u001b[0m \u001b[1;32mimport\u001b[0m \u001b[0mTextBlob\u001b[0m\u001b[1;33m\u001b[0m\u001b[1;33m\u001b[0m\u001b[0m\n\u001b[0m\u001b[0;32m     12\u001b[0m \u001b[1;33m\u001b[0m\u001b[0m\n\u001b[0;32m     13\u001b[0m \u001b[1;32mimport\u001b[0m \u001b[0mmatplotlib\u001b[0m\u001b[1;33m.\u001b[0m\u001b[0mpyplot\u001b[0m \u001b[1;32mas\u001b[0m \u001b[0mplt\u001b[0m\u001b[1;33m\u001b[0m\u001b[1;33m\u001b[0m\u001b[0m\n",
      "\u001b[1;31mModuleNotFoundError\u001b[0m: No module named 'textblob'"
     ]
    }
   ],
   "source": [
    "import os\n",
    "import re\n",
    "import json \n",
    "\n",
    "import pandas as pd \n",
    "import numpy as np \n",
    "\n",
    "from nltk.corpus import stopwords\n",
    "from nltk.stem import PorterStemmer\n",
    "from nltk.tokenize import word_tokenize, sent_tokenize\n",
    "from textblob import TextBlob\n",
    "\n",
    "import matplotlib.pyplot as plt \n",
    "from matplotlib import colors\n",
    "import seaborn as sns \n",
    "import plotly.graph_objects as go \n",
    "import plotly.express as px \n",
    "from plotly.offline import init_notebook_mode\n",
    "from plotly.subplots import make_subplots\n",
    "\n",
    "#from shapely.geometry import Polygon \n",
    "#import geopandas as gpd \n",
    "#import folium\n",
    "#import folium.plugins\n",
    "\n",
    "from IPython.display import HTML, display\n",
    "\n",
    "init_notebook_mode(connected=True)"
   ]
  },
  {
   "cell_type": "code",
   "execution_count": null,
   "metadata": {},
   "outputs": [],
   "source": [
    "YEARS = [2018, 2019, 2020]\n",
    "\n",
    "\n",
    "cities_dir = 'Cities/Cities Responses/'\n",
    "cc_dir = 'Corporations/Corporations Responses/Climate Change/'\n",
    "ws_dir = 'Corporations/Corporations Responses/Water Security/'\n",
    "\n",
    "cities = [pd.read_csv(cities_dir + f'{year}_Full_Cities_Dataset.csv') for year in YEARS]\n",
    "cc = [pd.read_csv(cc_dir + f'{year}_Full_Climate_Change_Dataset.csv') for year in YEARS]\n",
    "ws = [pd.read_csv(ws_dir + f'{year}_Full_Water_Security_Dataset.csv') for year in YEARS]\n",
    "\n",
    "cities_dir_disc = 'Cities/Cities Disclosing/'\n",
    "cc_dir_disc = 'Corporations/Corporations Disclosing/Climate Change/'\n",
    "ws_dir_disc = 'Corporations/Corporations Disclosing/Water Security/'\n",
    "\n",
    "cities_disc = [pd.read_csv(cities_dir_disc + f'{year}_Cities_Disclosing_to_CDP.csv') for year in YEARS]\n",
    "cc_disc = [pd.read_csv(cc_dir_disc + f'{year}_Corporates_Disclosing_to_CDP_Climate_Change.csv') for year in YEARS]\n",
    "ws_disc = [pd.read_csv(ws_dir_disc + f'{year}_Corporates_Disclosing_to_CDP_Water_Security.csv') for year in YEARS]"
   ]
  }
 ]
}